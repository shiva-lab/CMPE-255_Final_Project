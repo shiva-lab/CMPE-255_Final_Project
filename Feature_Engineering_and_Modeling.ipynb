{
 "cells": [
  {
   "cell_type": "code",
   "execution_count": 1,
   "metadata": {},
   "outputs": [],
   "source": [
    "import pandas as pd \n",
    "import numpy as np\n",
    "import seaborn as sns\n",
    "from sklearn import preprocessing\n",
    "import matplotlib\n",
    "import matplotlib.pyplot as plt\n",
    "from sklearn.preprocessing import MinMaxScaler\n",
    "from sklearn.model_selection import train_test_split, GridSearchCV\n",
    "from sklearn.tree import DecisionTreeClassifier\n",
    "from sklearn import metrics\n",
    "from sklearn.metrics import classification_report, confusion_matrix, accuracy_score, f1_score\n",
    "from sklearn.naive_bayes import  GaussianNB\n",
    "from sklearn.ensemble import RandomForestClassifier\n",
    "from sklearn import svm"
   ]
  },
  {
   "cell_type": "raw",
   "metadata": {},
   "source": [
    "#Read CSV file"
   ]
  },
  {
   "cell_type": "code",
   "execution_count": 2,
   "metadata": {},
   "outputs": [
    {
     "name": "stdout",
     "output_type": "stream",
     "text": [
      "The shape of data is: (4232541, 49)\n"
     ]
    },
    {
     "data": {
      "text/html": [
       "<div>\n",
       "<style scoped>\n",
       "    .dataframe tbody tr th:only-of-type {\n",
       "        vertical-align: middle;\n",
       "    }\n",
       "\n",
       "    .dataframe tbody tr th {\n",
       "        vertical-align: top;\n",
       "    }\n",
       "\n",
       "    .dataframe thead th {\n",
       "        text-align: right;\n",
       "    }\n",
       "</style>\n",
       "<table border=\"1\" class=\"dataframe\">\n",
       "  <thead>\n",
       "    <tr style=\"text-align: right;\">\n",
       "      <th></th>\n",
       "      <th>ID</th>\n",
       "      <th>Source</th>\n",
       "      <th>TMC</th>\n",
       "      <th>Severity</th>\n",
       "      <th>Start_Time</th>\n",
       "      <th>End_Time</th>\n",
       "      <th>Start_Lat</th>\n",
       "      <th>Start_Lng</th>\n",
       "      <th>End_Lat</th>\n",
       "      <th>End_Lng</th>\n",
       "      <th>...</th>\n",
       "      <th>Roundabout</th>\n",
       "      <th>Station</th>\n",
       "      <th>Stop</th>\n",
       "      <th>Traffic_Calming</th>\n",
       "      <th>Traffic_Signal</th>\n",
       "      <th>Turning_Loop</th>\n",
       "      <th>Sunrise_Sunset</th>\n",
       "      <th>Civil_Twilight</th>\n",
       "      <th>Nautical_Twilight</th>\n",
       "      <th>Astronomical_Twilight</th>\n",
       "    </tr>\n",
       "  </thead>\n",
       "  <tbody>\n",
       "    <tr>\n",
       "      <th>0</th>\n",
       "      <td>A-1</td>\n",
       "      <td>MapQuest</td>\n",
       "      <td>201.0</td>\n",
       "      <td>3</td>\n",
       "      <td>2016-02-08 05:46:00</td>\n",
       "      <td>2016-02-08 11:00:00</td>\n",
       "      <td>39.865147</td>\n",
       "      <td>-84.058723</td>\n",
       "      <td>NaN</td>\n",
       "      <td>NaN</td>\n",
       "      <td>...</td>\n",
       "      <td>False</td>\n",
       "      <td>False</td>\n",
       "      <td>False</td>\n",
       "      <td>False</td>\n",
       "      <td>False</td>\n",
       "      <td>False</td>\n",
       "      <td>Night</td>\n",
       "      <td>Night</td>\n",
       "      <td>Night</td>\n",
       "      <td>Night</td>\n",
       "    </tr>\n",
       "    <tr>\n",
       "      <th>1</th>\n",
       "      <td>A-2</td>\n",
       "      <td>MapQuest</td>\n",
       "      <td>201.0</td>\n",
       "      <td>2</td>\n",
       "      <td>2016-02-08 06:07:59</td>\n",
       "      <td>2016-02-08 06:37:59</td>\n",
       "      <td>39.928059</td>\n",
       "      <td>-82.831184</td>\n",
       "      <td>NaN</td>\n",
       "      <td>NaN</td>\n",
       "      <td>...</td>\n",
       "      <td>False</td>\n",
       "      <td>False</td>\n",
       "      <td>False</td>\n",
       "      <td>False</td>\n",
       "      <td>False</td>\n",
       "      <td>False</td>\n",
       "      <td>Night</td>\n",
       "      <td>Night</td>\n",
       "      <td>Night</td>\n",
       "      <td>Day</td>\n",
       "    </tr>\n",
       "    <tr>\n",
       "      <th>2</th>\n",
       "      <td>A-3</td>\n",
       "      <td>MapQuest</td>\n",
       "      <td>201.0</td>\n",
       "      <td>2</td>\n",
       "      <td>2016-02-08 06:49:27</td>\n",
       "      <td>2016-02-08 07:19:27</td>\n",
       "      <td>39.063148</td>\n",
       "      <td>-84.032608</td>\n",
       "      <td>NaN</td>\n",
       "      <td>NaN</td>\n",
       "      <td>...</td>\n",
       "      <td>False</td>\n",
       "      <td>False</td>\n",
       "      <td>False</td>\n",
       "      <td>False</td>\n",
       "      <td>True</td>\n",
       "      <td>False</td>\n",
       "      <td>Night</td>\n",
       "      <td>Night</td>\n",
       "      <td>Day</td>\n",
       "      <td>Day</td>\n",
       "    </tr>\n",
       "  </tbody>\n",
       "</table>\n",
       "<p>3 rows × 49 columns</p>\n",
       "</div>"
      ],
      "text/plain": [
       "    ID    Source    TMC  Severity           Start_Time             End_Time  \\\n",
       "0  A-1  MapQuest  201.0         3  2016-02-08 05:46:00  2016-02-08 11:00:00   \n",
       "1  A-2  MapQuest  201.0         2  2016-02-08 06:07:59  2016-02-08 06:37:59   \n",
       "2  A-3  MapQuest  201.0         2  2016-02-08 06:49:27  2016-02-08 07:19:27   \n",
       "\n",
       "   Start_Lat  Start_Lng  End_Lat  End_Lng  ...  Roundabout Station   Stop  \\\n",
       "0  39.865147 -84.058723      NaN      NaN  ...       False   False  False   \n",
       "1  39.928059 -82.831184      NaN      NaN  ...       False   False  False   \n",
       "2  39.063148 -84.032608      NaN      NaN  ...       False   False  False   \n",
       "\n",
       "  Traffic_Calming Traffic_Signal Turning_Loop Sunrise_Sunset Civil_Twilight  \\\n",
       "0           False          False        False          Night          Night   \n",
       "1           False          False        False          Night          Night   \n",
       "2           False           True        False          Night          Night   \n",
       "\n",
       "  Nautical_Twilight Astronomical_Twilight  \n",
       "0             Night                 Night  \n",
       "1             Night                   Day  \n",
       "2               Day                   Day  \n",
       "\n",
       "[3 rows x 49 columns]"
      ]
     },
     "metadata": {},
     "output_type": "display_data"
    }
   ],
   "source": [
    "df = pd.read_csv('US_Accidents_Dec20.csv')\n",
    "print(\"The shape of data is:\",(df.shape))\n",
    "display(df.head(3))"
   ]
  },
  {
   "cell_type": "code",
   "execution_count": 3,
   "metadata": {},
   "outputs": [],
   "source": [
    "#Creating a sample test file - for Professor to test"
   ]
  },
  {
   "cell_type": "code",
   "execution_count": 5,
   "metadata": {},
   "outputs": [
    {
     "name": "stdout",
     "output_type": "stream",
     "text": [
      "(33860, 49)\n",
      "<class 'pandas.core.frame.DataFrame'>\n",
      "Int64Index: 33860 entries, 3841002 to 3504538\n",
      "Data columns (total 49 columns):\n",
      " #   Column                 Non-Null Count  Dtype  \n",
      "---  ------                 --------------  -----  \n",
      " 0   ID                     33860 non-null  object \n",
      " 1   Source                 33860 non-null  object \n",
      " 2   TMC                    21620 non-null  float64\n",
      " 3   Severity               33860 non-null  int64  \n",
      " 4   Start_Time             33860 non-null  object \n",
      " 5   End_Time               33860 non-null  object \n",
      " 6   Start_Lat              33860 non-null  float64\n",
      " 7   Start_Lng              33860 non-null  float64\n",
      " 8   End_Lat                12240 non-null  float64\n",
      " 9   End_Lng                12240 non-null  float64\n",
      " 10  Distance(mi)           33860 non-null  float64\n",
      " 11  Description            33860 non-null  object \n",
      " 12  Number                 12273 non-null  float64\n",
      " 13  Street                 33860 non-null  object \n",
      " 14  Side                   33860 non-null  object \n",
      " 15  City                   33858 non-null  object \n",
      " 16  County                 33860 non-null  object \n",
      " 17  State                  33860 non-null  object \n",
      " 18  Zipcode                33848 non-null  object \n",
      " 19  Country                33860 non-null  object \n",
      " 20  Timezone               33825 non-null  object \n",
      " 21  Airport_Code           33799 non-null  object \n",
      " 22  Weather_Timestamp      33418 non-null  object \n",
      " 23  Temperature(F)         33212 non-null  float64\n",
      " 24  Wind_Chill(F)          18829 non-null  float64\n",
      " 25  Humidity(%)            33161 non-null  float64\n",
      " 26  Pressure(in)           33309 non-null  float64\n",
      " 27  Visibility(mi)         33137 non-null  float64\n",
      " 28  Wind_Direction         33240 non-null  object \n",
      " 29  Wind_Speed(mph)        30128 non-null  float64\n",
      " 30  Precipitation(in)      17469 non-null  float64\n",
      " 31  Weather_Condition      33127 non-null  object \n",
      " 32  Amenity                33860 non-null  bool   \n",
      " 33  Bump                   33860 non-null  bool   \n",
      " 34  Crossing               33860 non-null  bool   \n",
      " 35  Give_Way               33860 non-null  bool   \n",
      " 36  Junction               33860 non-null  bool   \n",
      " 37  No_Exit                33860 non-null  bool   \n",
      " 38  Railway                33860 non-null  bool   \n",
      " 39  Roundabout             33860 non-null  bool   \n",
      " 40  Station                33860 non-null  bool   \n",
      " 41  Stop                   33860 non-null  bool   \n",
      " 42  Traffic_Calming        33860 non-null  bool   \n",
      " 43  Traffic_Signal         33860 non-null  bool   \n",
      " 44  Turning_Loop           33860 non-null  bool   \n",
      " 45  Sunrise_Sunset         33858 non-null  object \n",
      " 46  Civil_Twilight         33858 non-null  object \n",
      " 47  Nautical_Twilight      33858 non-null  object \n",
      " 48  Astronomical_Twilight  33858 non-null  object \n",
      "dtypes: bool(13), float64(14), int64(1), object(21)\n",
      "memory usage: 10.0+ MB\n",
      "None\n"
     ]
    }
   ],
   "source": [
    "rows = df.sample(frac =.008) \n",
    "# We take 8% of the dataset for testing\n",
    "if (0.008*(len(df))== len(rows)):\n",
    "    print(len(df), len(rows))\n",
    "\n",
    "print(rows.shape)\n",
    "print(rows.info())"
   ]
  },
  {
   "cell_type": "code",
   "execution_count": 7,
   "metadata": {},
   "outputs": [],
   "source": [
    "#Writing 8% of data to CSV file\n",
    "rows.to_csv('out.csv')"
   ]
  },
  {
   "cell_type": "markdown",
   "metadata": {},
   "source": [
    "#Split 'Start_Time' attributes"
   ]
  },
  {
   "cell_type": "code",
   "execution_count": 8,
   "metadata": {
    "scrolled": true
   },
   "outputs": [
    {
     "data": {
      "text/html": [
       "<div>\n",
       "<style scoped>\n",
       "    .dataframe tbody tr th:only-of-type {\n",
       "        vertical-align: middle;\n",
       "    }\n",
       "\n",
       "    .dataframe tbody tr th {\n",
       "        vertical-align: top;\n",
       "    }\n",
       "\n",
       "    .dataframe thead th {\n",
       "        text-align: right;\n",
       "    }\n",
       "</style>\n",
       "<table border=\"1\" class=\"dataframe\">\n",
       "  <thead>\n",
       "    <tr style=\"text-align: right;\">\n",
       "      <th></th>\n",
       "      <th>ID</th>\n",
       "      <th>Source</th>\n",
       "      <th>TMC</th>\n",
       "      <th>Severity</th>\n",
       "      <th>Start_Time</th>\n",
       "      <th>End_Time</th>\n",
       "      <th>Start_Lat</th>\n",
       "      <th>Start_Lng</th>\n",
       "      <th>End_Lat</th>\n",
       "      <th>End_Lng</th>\n",
       "      <th>...</th>\n",
       "      <th>Sunrise_Sunset</th>\n",
       "      <th>Civil_Twilight</th>\n",
       "      <th>Nautical_Twilight</th>\n",
       "      <th>Astronomical_Twilight</th>\n",
       "      <th>Hour</th>\n",
       "      <th>Minute</th>\n",
       "      <th>Year</th>\n",
       "      <th>Month</th>\n",
       "      <th>Weekday</th>\n",
       "      <th>Day</th>\n",
       "    </tr>\n",
       "  </thead>\n",
       "  <tbody>\n",
       "    <tr>\n",
       "      <th>0</th>\n",
       "      <td>A-1</td>\n",
       "      <td>MapQuest</td>\n",
       "      <td>201.0</td>\n",
       "      <td>3</td>\n",
       "      <td>2016-02-08 05:46:00</td>\n",
       "      <td>2016-02-08 11:00:00</td>\n",
       "      <td>39.865147</td>\n",
       "      <td>-84.058723</td>\n",
       "      <td>NaN</td>\n",
       "      <td>NaN</td>\n",
       "      <td>...</td>\n",
       "      <td>Night</td>\n",
       "      <td>Night</td>\n",
       "      <td>Night</td>\n",
       "      <td>Night</td>\n",
       "      <td>5</td>\n",
       "      <td>46</td>\n",
       "      <td>2016</td>\n",
       "      <td>2</td>\n",
       "      <td>0</td>\n",
       "      <td>8</td>\n",
       "    </tr>\n",
       "    <tr>\n",
       "      <th>1</th>\n",
       "      <td>A-2</td>\n",
       "      <td>MapQuest</td>\n",
       "      <td>201.0</td>\n",
       "      <td>2</td>\n",
       "      <td>2016-02-08 06:07:59</td>\n",
       "      <td>2016-02-08 06:37:59</td>\n",
       "      <td>39.928059</td>\n",
       "      <td>-82.831184</td>\n",
       "      <td>NaN</td>\n",
       "      <td>NaN</td>\n",
       "      <td>...</td>\n",
       "      <td>Night</td>\n",
       "      <td>Night</td>\n",
       "      <td>Night</td>\n",
       "      <td>Day</td>\n",
       "      <td>6</td>\n",
       "      <td>7</td>\n",
       "      <td>2016</td>\n",
       "      <td>2</td>\n",
       "      <td>0</td>\n",
       "      <td>8</td>\n",
       "    </tr>\n",
       "    <tr>\n",
       "      <th>2</th>\n",
       "      <td>A-3</td>\n",
       "      <td>MapQuest</td>\n",
       "      <td>201.0</td>\n",
       "      <td>2</td>\n",
       "      <td>2016-02-08 06:49:27</td>\n",
       "      <td>2016-02-08 07:19:27</td>\n",
       "      <td>39.063148</td>\n",
       "      <td>-84.032608</td>\n",
       "      <td>NaN</td>\n",
       "      <td>NaN</td>\n",
       "      <td>...</td>\n",
       "      <td>Night</td>\n",
       "      <td>Night</td>\n",
       "      <td>Day</td>\n",
       "      <td>Day</td>\n",
       "      <td>6</td>\n",
       "      <td>49</td>\n",
       "      <td>2016</td>\n",
       "      <td>2</td>\n",
       "      <td>0</td>\n",
       "      <td>8</td>\n",
       "    </tr>\n",
       "    <tr>\n",
       "      <th>3</th>\n",
       "      <td>A-4</td>\n",
       "      <td>MapQuest</td>\n",
       "      <td>201.0</td>\n",
       "      <td>3</td>\n",
       "      <td>2016-02-08 07:23:34</td>\n",
       "      <td>2016-02-08 07:53:34</td>\n",
       "      <td>39.747753</td>\n",
       "      <td>-84.205582</td>\n",
       "      <td>NaN</td>\n",
       "      <td>NaN</td>\n",
       "      <td>...</td>\n",
       "      <td>Night</td>\n",
       "      <td>Day</td>\n",
       "      <td>Day</td>\n",
       "      <td>Day</td>\n",
       "      <td>7</td>\n",
       "      <td>23</td>\n",
       "      <td>2016</td>\n",
       "      <td>2</td>\n",
       "      <td>0</td>\n",
       "      <td>8</td>\n",
       "    </tr>\n",
       "    <tr>\n",
       "      <th>4</th>\n",
       "      <td>A-5</td>\n",
       "      <td>MapQuest</td>\n",
       "      <td>201.0</td>\n",
       "      <td>2</td>\n",
       "      <td>2016-02-08 07:39:07</td>\n",
       "      <td>2016-02-08 08:09:07</td>\n",
       "      <td>39.627781</td>\n",
       "      <td>-84.188354</td>\n",
       "      <td>NaN</td>\n",
       "      <td>NaN</td>\n",
       "      <td>...</td>\n",
       "      <td>Day</td>\n",
       "      <td>Day</td>\n",
       "      <td>Day</td>\n",
       "      <td>Day</td>\n",
       "      <td>7</td>\n",
       "      <td>39</td>\n",
       "      <td>2016</td>\n",
       "      <td>2</td>\n",
       "      <td>0</td>\n",
       "      <td>8</td>\n",
       "    </tr>\n",
       "  </tbody>\n",
       "</table>\n",
       "<p>5 rows × 55 columns</p>\n",
       "</div>"
      ],
      "text/plain": [
       "    ID    Source    TMC  Severity          Start_Time             End_Time  \\\n",
       "0  A-1  MapQuest  201.0         3 2016-02-08 05:46:00  2016-02-08 11:00:00   \n",
       "1  A-2  MapQuest  201.0         2 2016-02-08 06:07:59  2016-02-08 06:37:59   \n",
       "2  A-3  MapQuest  201.0         2 2016-02-08 06:49:27  2016-02-08 07:19:27   \n",
       "3  A-4  MapQuest  201.0         3 2016-02-08 07:23:34  2016-02-08 07:53:34   \n",
       "4  A-5  MapQuest  201.0         2 2016-02-08 07:39:07  2016-02-08 08:09:07   \n",
       "\n",
       "   Start_Lat  Start_Lng  End_Lat  End_Lng  ...  Sunrise_Sunset Civil_Twilight  \\\n",
       "0  39.865147 -84.058723      NaN      NaN  ...           Night          Night   \n",
       "1  39.928059 -82.831184      NaN      NaN  ...           Night          Night   \n",
       "2  39.063148 -84.032608      NaN      NaN  ...           Night          Night   \n",
       "3  39.747753 -84.205582      NaN      NaN  ...           Night            Day   \n",
       "4  39.627781 -84.188354      NaN      NaN  ...             Day            Day   \n",
       "\n",
       "   Nautical_Twilight Astronomical_Twilight Hour Minute  Year Month Weekday Day  \n",
       "0              Night                 Night    5     46  2016     2       0   8  \n",
       "1              Night                   Day    6      7  2016     2       0   8  \n",
       "2                Day                   Day    6     49  2016     2       0   8  \n",
       "3                Day                   Day    7     23  2016     2       0   8  \n",
       "4                Day                   Day    7     39  2016     2       0   8  \n",
       "\n",
       "[5 rows x 55 columns]"
      ]
     },
     "execution_count": 8,
     "metadata": {},
     "output_type": "execute_result"
    }
   ],
   "source": [
    "#split 'Start-Time attribute into Year,month,weekday,day,hours and minutes'\n",
    "df[\"Start_Time\"] = pd.to_datetime(df[\"Start_Time\"])\n",
    "df[\"Hour\"] = df[\"Start_Time\"].dt.hour\n",
    "df[\"Minute\"] = df[\"Start_Time\"].dt.minute\n",
    "df[\"Year\"] = df[\"Start_Time\"].dt.year\n",
    "df[\"Month\"] = df[\"Start_Time\"].dt.month\n",
    "df[\"Weekday\"] = df[\"Start_Time\"].dt.weekday\n",
    "df[\"Day\"] = df[\"Start_Time\"].dt.day\n",
    "df.head()"
   ]
  },
  {
   "cell_type": "code",
   "execution_count": 9,
   "metadata": {},
   "outputs": [
    {
     "data": {
      "text/plain": [
       "Index(['ID', 'Source', 'TMC', 'Severity', 'Start_Time', 'End_Time',\n",
       "       'Start_Lat', 'Start_Lng', 'End_Lat', 'End_Lng', 'Distance(mi)',\n",
       "       'Description', 'Number', 'Street', 'Side', 'City', 'County', 'State',\n",
       "       'Zipcode', 'Country', 'Timezone', 'Airport_Code', 'Weather_Timestamp',\n",
       "       'Temperature(F)', 'Wind_Chill(F)', 'Humidity(%)', 'Pressure(in)',\n",
       "       'Visibility(mi)', 'Wind_Direction', 'Wind_Speed(mph)',\n",
       "       'Precipitation(in)', 'Weather_Condition', 'Amenity', 'Bump', 'Crossing',\n",
       "       'Give_Way', 'Junction', 'No_Exit', 'Railway', 'Roundabout', 'Station',\n",
       "       'Stop', 'Traffic_Calming', 'Traffic_Signal', 'Turning_Loop',\n",
       "       'Sunrise_Sunset', 'Civil_Twilight', 'Nautical_Twilight',\n",
       "       'Astronomical_Twilight', 'Hour', 'Minute', 'Year', 'Month', 'Weekday',\n",
       "       'Day'],\n",
       "      dtype='object')"
      ]
     },
     "execution_count": 9,
     "metadata": {},
     "output_type": "execute_result"
    }
   ],
   "source": [
    "df.columns"
   ]
  },
  {
   "cell_type": "markdown",
   "metadata": {},
   "source": [
    "#Dropping unwanted attributes"
   ]
  },
  {
   "cell_type": "code",
   "execution_count": 10,
   "metadata": {},
   "outputs": [
    {
     "data": {
      "text/html": [
       "<div>\n",
       "<style scoped>\n",
       "    .dataframe tbody tr th:only-of-type {\n",
       "        vertical-align: middle;\n",
       "    }\n",
       "\n",
       "    .dataframe tbody tr th {\n",
       "        vertical-align: top;\n",
       "    }\n",
       "\n",
       "    .dataframe thead th {\n",
       "        text-align: right;\n",
       "    }\n",
       "</style>\n",
       "<table border=\"1\" class=\"dataframe\">\n",
       "  <thead>\n",
       "    <tr style=\"text-align: right;\">\n",
       "      <th></th>\n",
       "      <th>Severity</th>\n",
       "      <th>Start_Lat</th>\n",
       "      <th>Start_Lng</th>\n",
       "      <th>Distance(mi)</th>\n",
       "      <th>Side</th>\n",
       "      <th>City</th>\n",
       "      <th>Temperature(F)</th>\n",
       "      <th>Humidity(%)</th>\n",
       "      <th>Pressure(in)</th>\n",
       "      <th>Visibility(mi)</th>\n",
       "      <th>...</th>\n",
       "      <th>Stop</th>\n",
       "      <th>Traffic_Calming</th>\n",
       "      <th>Traffic_Signal</th>\n",
       "      <th>Civil_Twilight</th>\n",
       "      <th>Hour</th>\n",
       "      <th>Minute</th>\n",
       "      <th>Year</th>\n",
       "      <th>Month</th>\n",
       "      <th>Weekday</th>\n",
       "      <th>Day</th>\n",
       "    </tr>\n",
       "  </thead>\n",
       "  <tbody>\n",
       "    <tr>\n",
       "      <th>0</th>\n",
       "      <td>3</td>\n",
       "      <td>39.865147</td>\n",
       "      <td>-84.058723</td>\n",
       "      <td>0.01</td>\n",
       "      <td>R</td>\n",
       "      <td>Dayton</td>\n",
       "      <td>36.9</td>\n",
       "      <td>91.0</td>\n",
       "      <td>29.68</td>\n",
       "      <td>10.0</td>\n",
       "      <td>...</td>\n",
       "      <td>False</td>\n",
       "      <td>False</td>\n",
       "      <td>False</td>\n",
       "      <td>Night</td>\n",
       "      <td>5</td>\n",
       "      <td>46</td>\n",
       "      <td>2016</td>\n",
       "      <td>2</td>\n",
       "      <td>0</td>\n",
       "      <td>8</td>\n",
       "    </tr>\n",
       "    <tr>\n",
       "      <th>1</th>\n",
       "      <td>2</td>\n",
       "      <td>39.928059</td>\n",
       "      <td>-82.831184</td>\n",
       "      <td>0.01</td>\n",
       "      <td>L</td>\n",
       "      <td>Reynoldsburg</td>\n",
       "      <td>37.9</td>\n",
       "      <td>100.0</td>\n",
       "      <td>29.65</td>\n",
       "      <td>10.0</td>\n",
       "      <td>...</td>\n",
       "      <td>False</td>\n",
       "      <td>False</td>\n",
       "      <td>False</td>\n",
       "      <td>Night</td>\n",
       "      <td>6</td>\n",
       "      <td>7</td>\n",
       "      <td>2016</td>\n",
       "      <td>2</td>\n",
       "      <td>0</td>\n",
       "      <td>8</td>\n",
       "    </tr>\n",
       "    <tr>\n",
       "      <th>2</th>\n",
       "      <td>2</td>\n",
       "      <td>39.063148</td>\n",
       "      <td>-84.032608</td>\n",
       "      <td>0.01</td>\n",
       "      <td>R</td>\n",
       "      <td>Williamsburg</td>\n",
       "      <td>36.0</td>\n",
       "      <td>100.0</td>\n",
       "      <td>29.67</td>\n",
       "      <td>10.0</td>\n",
       "      <td>...</td>\n",
       "      <td>False</td>\n",
       "      <td>False</td>\n",
       "      <td>True</td>\n",
       "      <td>Night</td>\n",
       "      <td>6</td>\n",
       "      <td>49</td>\n",
       "      <td>2016</td>\n",
       "      <td>2</td>\n",
       "      <td>0</td>\n",
       "      <td>8</td>\n",
       "    </tr>\n",
       "    <tr>\n",
       "      <th>3</th>\n",
       "      <td>3</td>\n",
       "      <td>39.747753</td>\n",
       "      <td>-84.205582</td>\n",
       "      <td>0.01</td>\n",
       "      <td>R</td>\n",
       "      <td>Dayton</td>\n",
       "      <td>35.1</td>\n",
       "      <td>96.0</td>\n",
       "      <td>29.64</td>\n",
       "      <td>9.0</td>\n",
       "      <td>...</td>\n",
       "      <td>False</td>\n",
       "      <td>False</td>\n",
       "      <td>False</td>\n",
       "      <td>Day</td>\n",
       "      <td>7</td>\n",
       "      <td>23</td>\n",
       "      <td>2016</td>\n",
       "      <td>2</td>\n",
       "      <td>0</td>\n",
       "      <td>8</td>\n",
       "    </tr>\n",
       "    <tr>\n",
       "      <th>4</th>\n",
       "      <td>2</td>\n",
       "      <td>39.627781</td>\n",
       "      <td>-84.188354</td>\n",
       "      <td>0.01</td>\n",
       "      <td>R</td>\n",
       "      <td>Dayton</td>\n",
       "      <td>36.0</td>\n",
       "      <td>89.0</td>\n",
       "      <td>29.65</td>\n",
       "      <td>6.0</td>\n",
       "      <td>...</td>\n",
       "      <td>False</td>\n",
       "      <td>False</td>\n",
       "      <td>True</td>\n",
       "      <td>Day</td>\n",
       "      <td>7</td>\n",
       "      <td>39</td>\n",
       "      <td>2016</td>\n",
       "      <td>2</td>\n",
       "      <td>0</td>\n",
       "      <td>8</td>\n",
       "    </tr>\n",
       "  </tbody>\n",
       "</table>\n",
       "<p>5 rows × 33 columns</p>\n",
       "</div>"
      ],
      "text/plain": [
       "   Severity  Start_Lat  Start_Lng  Distance(mi) Side          City  \\\n",
       "0         3  39.865147 -84.058723          0.01    R        Dayton   \n",
       "1         2  39.928059 -82.831184          0.01    L  Reynoldsburg   \n",
       "2         2  39.063148 -84.032608          0.01    R  Williamsburg   \n",
       "3         3  39.747753 -84.205582          0.01    R        Dayton   \n",
       "4         2  39.627781 -84.188354          0.01    R        Dayton   \n",
       "\n",
       "   Temperature(F)  Humidity(%)  Pressure(in)  Visibility(mi)  ...   Stop  \\\n",
       "0            36.9         91.0         29.68            10.0  ...  False   \n",
       "1            37.9        100.0         29.65            10.0  ...  False   \n",
       "2            36.0        100.0         29.67            10.0  ...  False   \n",
       "3            35.1         96.0         29.64             9.0  ...  False   \n",
       "4            36.0         89.0         29.65             6.0  ...  False   \n",
       "\n",
       "   Traffic_Calming  Traffic_Signal Civil_Twilight  Hour  Minute  Year  Month  \\\n",
       "0            False           False          Night     5      46  2016      2   \n",
       "1            False           False          Night     6       7  2016      2   \n",
       "2            False            True          Night     6      49  2016      2   \n",
       "3            False           False            Day     7      23  2016      2   \n",
       "4            False            True            Day     7      39  2016      2   \n",
       "\n",
       "   Weekday  Day  \n",
       "0        0    8  \n",
       "1        0    8  \n",
       "2        0    8  \n",
       "3        0    8  \n",
       "4        0    8  \n",
       "\n",
       "[5 rows x 33 columns]"
      ]
     },
     "execution_count": 10,
     "metadata": {},
     "output_type": "execute_result"
    }
   ],
   "source": [
    "#After Exploratory Data Analysis we found that there are few feature that can be dropped based on least significance and redundant atrributes , so that model can be trained on cleaned dataset.\n",
    "least_Significant_features_to_drop = [\"ID\", \"Source\", \"TMC\", \"Start_Time\", \"End_Time\", \"End_Lat\", \"End_Lng\", \n",
    "                                      \"Description\", \"Number\", \"Street\", \"County\", \"State\", \"Zipcode\", \"Country\", \n",
    "                                      \"Timezone\", \"Airport_Code\", \"Weather_Timestamp\", \"Wind_Chill(F)\", \"Turning_Loop\"\n",
    "                                      , \"Sunrise_Sunset\", \"Nautical_Twilight\", \"Astronomical_Twilight\"]\n",
    "#newSet = df.drop(least_Significant_features_to_drop, axis=1)\n",
    "df = df.drop(least_Significant_features_to_drop, axis=1)\n",
    "#newSet.head()\n",
    "df.head()"
   ]
  },
  {
   "cell_type": "markdown",
   "metadata": {},
   "source": [
    "#Data Preprocessing:"
   ]
  },
  {
   "cell_type": "code",
   "execution_count": 11,
   "metadata": {},
   "outputs": [
    {
     "name": "stdout",
     "output_type": "stream",
     "text": [
      "Total Number of rows: 4232541\n",
      "Total number of rows after removing duplicates: 4232541\n"
     ]
    }
   ],
   "source": [
    "#Now we will check if data has some duplicates value and remove them from the dataset\n",
    "print(\"Total Number of rows:\", len(df.index))\n",
    "#newSet.drop_duplicates(inplace=True)\n",
    "df.drop_duplicates\n",
    "print(\"Total number of rows after removing duplicates:\", len(df.index))"
   ]
  },
  {
   "cell_type": "code",
   "execution_count": 12,
   "metadata": {},
   "outputs": [],
   "source": [
    "#Handling incorrect and missing values"
   ]
  },
  {
   "cell_type": "code",
   "execution_count": 13,
   "metadata": {},
   "outputs": [
    {
     "data": {
      "text/plain": [
       "R    3467079\n",
       "L     765461\n",
       "           1\n",
       "Name: Side, dtype: int64"
      ]
     },
     "execution_count": 13,
     "metadata": {},
     "output_type": "execute_result"
    }
   ],
   "source": [
    "#initially looking at the Side column\n",
    "df[\"Side\"].value_counts()"
   ]
  },
  {
   "cell_type": "code",
   "execution_count": 14,
   "metadata": {},
   "outputs": [
    {
     "data": {
      "text/plain": [
       "R    3467079\n",
       "L     765461\n",
       "Name: Side, dtype: int64"
      ]
     },
     "execution_count": 14,
     "metadata": {},
     "output_type": "execute_result"
    }
   ],
   "source": [
    "#the output shows 1 record without Side so that can be dropped\n",
    "df = df[df[\"Side\"] != \" \"]\n",
    "df[\"Side\"].value_counts()"
   ]
  },
  {
   "cell_type": "code",
   "execution_count": 15,
   "metadata": {},
   "outputs": [
    {
     "data": {
      "text/html": [
       "<div>\n",
       "<style scoped>\n",
       "    .dataframe tbody tr th:only-of-type {\n",
       "        vertical-align: middle;\n",
       "    }\n",
       "\n",
       "    .dataframe tbody tr th {\n",
       "        vertical-align: top;\n",
       "    }\n",
       "\n",
       "    .dataframe thead th {\n",
       "        text-align: right;\n",
       "    }\n",
       "</style>\n",
       "<table border=\"1\" class=\"dataframe\">\n",
       "  <thead>\n",
       "    <tr style=\"text-align: right;\">\n",
       "      <th></th>\n",
       "      <th>Visibility(mi)</th>\n",
       "      <th>Pressure(in)</th>\n",
       "    </tr>\n",
       "  </thead>\n",
       "  <tbody>\n",
       "    <tr>\n",
       "      <th>count</th>\n",
       "      <td>4133872.00</td>\n",
       "      <td>4156156.00</td>\n",
       "    </tr>\n",
       "    <tr>\n",
       "      <th>mean</th>\n",
       "      <td>9.11</td>\n",
       "      <td>29.69</td>\n",
       "    </tr>\n",
       "    <tr>\n",
       "      <th>std</th>\n",
       "      <td>2.82</td>\n",
       "      <td>0.86</td>\n",
       "    </tr>\n",
       "    <tr>\n",
       "      <th>min</th>\n",
       "      <td>0.00</td>\n",
       "      <td>0.00</td>\n",
       "    </tr>\n",
       "    <tr>\n",
       "      <th>25%</th>\n",
       "      <td>10.00</td>\n",
       "      <td>29.64</td>\n",
       "    </tr>\n",
       "    <tr>\n",
       "      <th>50%</th>\n",
       "      <td>10.00</td>\n",
       "      <td>29.93</td>\n",
       "    </tr>\n",
       "    <tr>\n",
       "      <th>75%</th>\n",
       "      <td>10.00</td>\n",
       "      <td>30.08</td>\n",
       "    </tr>\n",
       "    <tr>\n",
       "      <th>max</th>\n",
       "      <td>140.00</td>\n",
       "      <td>58.04</td>\n",
       "    </tr>\n",
       "  </tbody>\n",
       "</table>\n",
       "</div>"
      ],
      "text/plain": [
       "       Visibility(mi)  Pressure(in)\n",
       "count      4133872.00    4156156.00\n",
       "mean             9.11         29.69\n",
       "std              2.82          0.86\n",
       "min              0.00          0.00\n",
       "25%             10.00         29.64\n",
       "50%             10.00         29.93\n",
       "75%             10.00         30.08\n",
       "max            140.00         58.04"
      ]
     },
     "execution_count": 15,
     "metadata": {},
     "output_type": "execute_result"
    }
   ],
   "source": [
    "#next looking at visibility and pressure\n",
    "df[[\"Visibility(mi)\", \"Pressure(in)\"]].describe().round(2)"
   ]
  },
  {
   "cell_type": "code",
   "execution_count": 16,
   "metadata": {},
   "outputs": [
    {
     "data": {
      "text/html": [
       "<div>\n",
       "<style scoped>\n",
       "    .dataframe tbody tr th:only-of-type {\n",
       "        vertical-align: middle;\n",
       "    }\n",
       "\n",
       "    .dataframe tbody tr th {\n",
       "        vertical-align: top;\n",
       "    }\n",
       "\n",
       "    .dataframe thead th {\n",
       "        text-align: right;\n",
       "    }\n",
       "</style>\n",
       "<table border=\"1\" class=\"dataframe\">\n",
       "  <thead>\n",
       "    <tr style=\"text-align: right;\">\n",
       "      <th></th>\n",
       "      <th>Visibility(mi)</th>\n",
       "      <th>Pressure(in)</th>\n",
       "    </tr>\n",
       "  </thead>\n",
       "  <tbody>\n",
       "    <tr>\n",
       "      <th>count</th>\n",
       "      <td>4131229.00</td>\n",
       "      <td>4153515.00</td>\n",
       "    </tr>\n",
       "    <tr>\n",
       "      <th>mean</th>\n",
       "      <td>9.12</td>\n",
       "      <td>29.69</td>\n",
       "    </tr>\n",
       "    <tr>\n",
       "      <th>std</th>\n",
       "      <td>2.81</td>\n",
       "      <td>0.86</td>\n",
       "    </tr>\n",
       "    <tr>\n",
       "      <th>min</th>\n",
       "      <td>0.06</td>\n",
       "      <td>0.02</td>\n",
       "    </tr>\n",
       "    <tr>\n",
       "      <th>25%</th>\n",
       "      <td>10.00</td>\n",
       "      <td>29.64</td>\n",
       "    </tr>\n",
       "    <tr>\n",
       "      <th>50%</th>\n",
       "      <td>10.00</td>\n",
       "      <td>29.93</td>\n",
       "    </tr>\n",
       "    <tr>\n",
       "      <th>75%</th>\n",
       "      <td>10.00</td>\n",
       "      <td>30.08</td>\n",
       "    </tr>\n",
       "    <tr>\n",
       "      <th>max</th>\n",
       "      <td>140.00</td>\n",
       "      <td>58.04</td>\n",
       "    </tr>\n",
       "  </tbody>\n",
       "</table>\n",
       "</div>"
      ],
      "text/plain": [
       "       Visibility(mi)  Pressure(in)\n",
       "count      4131229.00    4153515.00\n",
       "mean             9.12         29.69\n",
       "std              2.81          0.86\n",
       "min              0.06          0.02\n",
       "25%             10.00         29.64\n",
       "50%             10.00         29.93\n",
       "75%             10.00         30.08\n",
       "max            140.00         58.04"
      ]
     },
     "execution_count": 16,
     "metadata": {},
     "output_type": "execute_result"
    }
   ],
   "source": [
    "#the output shows min as 0 which informs us that a number of records are missing them and have been replaced with 0\n",
    "#we are dropping the records with missing values for visibility and pressure\n",
    "df = df[df[\"Visibility(mi)\"] != 0]\n",
    "df = df[df[\"Pressure(in)\"] != 0]\n",
    "df[[\"Visibility(mi)\", \"Pressure(in)\"]].describe().round(2)"
   ]
  },
  {
   "cell_type": "code",
   "execution_count": 17,
   "metadata": {},
   "outputs": [
    {
     "name": "stdout",
     "output_type": "stream",
     "text": [
      "Total number of weather conditions:  132 \n",
      "\n",
      "['Light Rain' 'Overcast' 'Mostly Cloudy' 'Rain' 'Light Snow' 'Haze'\n",
      " 'Scattered Clouds' 'Partly Cloudy' 'Clear' 'Snow'\n",
      " 'Light Freezing Drizzle' 'Light Drizzle' 'Fog' 'Shallow Fog' 'Heavy Rain'\n",
      " 'Light Freezing Rain' 'Cloudy' 'Drizzle' nan 'Light Rain Showers' 'Mist'\n",
      " 'Smoke' 'Patches of Fog' 'Light Freezing Fog' 'Light Haze'\n",
      " 'Light Thunderstorms and Rain' 'Thunderstorms and Rain' 'Fair'\n",
      " 'Volcanic Ash' 'Blowing Sand' 'Blowing Dust / Windy' 'Widespread Dust'\n",
      " 'Fair / Windy' 'Rain Showers' 'Mostly Cloudy / Windy'\n",
      " 'Light Rain / Windy' 'Hail' 'Heavy Drizzle' 'Showers in the Vicinity'\n",
      " 'Thunderstorm' 'Light Rain Shower' 'Light Rain with Thunder'\n",
      " 'Partly Cloudy / Windy' 'Thunder in the Vicinity' 'T-Storm'\n",
      " 'Heavy Thunderstorms and Rain' 'Thunder' 'Heavy T-Storm' 'Funnel Cloud'\n",
      " 'Heavy T-Storm / Windy' 'Blowing Snow' 'Light Thunderstorms and Snow'\n",
      " 'Heavy Snow' 'Low Drifting Snow' 'Light Ice Pellets' 'Ice Pellets'\n",
      " 'Squalls' 'N/A Precipitation' 'Cloudy / Windy' 'Light Fog' 'Sand'\n",
      " 'Snow Grains' 'Snow Showers' 'Heavy Thunderstorms and Snow'\n",
      " 'Rain / Windy' 'Heavy Rain / Windy' 'Heavy Ice Pellets'\n",
      " 'Light Snow / Windy' 'Heavy Freezing Rain' 'Small Hail'\n",
      " 'Heavy Rain Showers' 'Wintry Mix' 'Drizzle and Fog' 'Wintry Mix / Windy'\n",
      " 'Snow / Windy' 'Heavy Snow / Windy' 'T-Storm / Windy' 'Fog / Windy'\n",
      " 'Haze / Windy' 'Snow and Sleet / Windy' 'Blowing Snow / Windy'\n",
      " 'Light Snow and Sleet' 'Light Sleet' 'Thunder / Windy' 'Rain Shower'\n",
      " 'Light Drizzle / Windy' 'Partial Fog' 'Squalls / Windy' 'Smoke / Windy'\n",
      " 'Sand / Dust Whirlwinds' 'Blowing Dust' 'Light Snow with Thunder'\n",
      " 'Thunder / Wintry Mix' 'Thunder / Wintry Mix / Windy'\n",
      " 'Light Rain Shower / Windy' 'Patches of Fog / Windy' 'Drizzle / Windy'\n",
      " 'Snow and Sleet' 'Light Freezing Rain / Windy' 'Light Snow Shower'\n",
      " 'Light Snow and Sleet / Windy' 'Freezing Rain' 'Freezing Drizzle' 'Sleet'\n",
      " 'Rain and Sleet' 'Heavy Sleet' 'Light Snow Grains' 'Partial Fog / Windy'\n",
      " 'Widespread Dust / Windy' 'Sand / Dust Whirlwinds / Windy' 'Tornado'\n",
      " 'Snow and Thunder' 'Heavy Snow with Thunder' 'Light Snow Showers'\n",
      " 'Heavy Blowing Snow' 'Light Hail' 'Heavy Smoke'\n",
      " 'Heavy Thunderstorms with Small Hail' 'Light Thunderstorm'\n",
      " 'Heavy Freezing Drizzle' 'Light Blowing Snow' 'Thunderstorms and Snow'\n",
      " 'Freezing Rain / Windy' 'Dust Whirls' 'Light Sleet / Windy'\n",
      " 'Mist / Windy' 'Sleet / Windy' 'Sand / Dust Whirls Nearby'\n",
      " 'Heavy Rain Shower' 'Thunder and Hail' 'Drifting Snow'\n",
      " 'Thunder and Hail / Windy']\n"
     ]
    }
   ],
   "source": [
    "#analyzing the weather conditions\n",
    "#outputting the total number of different conditions and their names\n",
    "weather_conditions = df[\"Weather_Condition\"].unique()\n",
    "print(\"Total number of weather conditions: \", len(weather_conditions), \"\\n\")\n",
    "print(weather_conditions)"
   ]
  },
  {
   "cell_type": "code",
   "execution_count": 18,
   "metadata": {},
   "outputs": [
    {
     "name": "stdout",
     "output_type": "stream",
     "text": [
      "Total number of weather conditions:  12 \n",
      "\n",
      "['Rain' 'Cloudy' 'Snow' 'Fog' 'Clear' nan 'Smoke' 'Sand' 'Windy' 'Hail'\n",
      " 'Thunderstorm' 'Tornado']\n"
     ]
    }
   ],
   "source": [
    "#reducing amount of weather conditions by substituting them with a more common name\n",
    "\n",
    "df.loc[df[\"Weather_Condition\"].str.contains(\"Hail|Pellets\", na=False), \"Weather_Condition\"] = \"Hail\"\n",
    "df.loc[df[\"Weather_Condition\"].str.contains(\"Mist|Haze|Fog\", na=False), \"Weather_Condition\"] = \"Fog\"\n",
    "df.loc[df[\"Weather_Condition\"].str.contains(\"Wind|Squalls\", na=False), \"Weather_Condition\"] = \"Windy\"\n",
    "df.loc[df[\"Weather_Condition\"].str.contains(\"Cloud|Overcast\", na=False), \"Weather_Condition\"] = \"Cloudy\"\n",
    "df.loc[df[\"Weather_Condition\"].str.contains(\"Snow|Sleet|Wintry\", na=False), \"Weather_Condition\"] = \"Snow\"\n",
    "df.loc[df[\"Weather_Condition\"].str.contains(\"Rain|Drizzle|Shower\", na=False), \"Weather_Condition\"] = \"Rain\"\n",
    "df.loc[df[\"Weather_Condition\"].str.contains(\"Sand|Dust\", na=False), \"Weather_Condition\"] = \"Sand\"\n",
    "df.loc[df[\"Weather_Condition\"].str.contains(\"Fair\", na=False), \"Weather_Condition\"] = \"Clear\"\n",
    "df.loc[df[\"Weather_Condition\"].str.contains(\"Smoke|Volcanic Ash\", na=False), \"Weather_Condition\"] = \"Smoke\"\n",
    "df.loc[df[\"Weather_Condition\"].str.contains(\"Thunder|T-Storm\", na=False), \"Weather_Condition\"] = \"Thunderstorm\"\n",
    "df.loc[df[\"Weather_Condition\"].str.contains(\"N/A Precipitation\", na=False), \"Weather_Condition\"] = np.nan\n",
    "\n",
    "common_weather = df[\"Weather_Condition\"].unique()\n",
    "print(\"Total number of weather conditions: \", len(common_weather), \"\\n\")\n",
    "print(common_weather)"
   ]
  },
  {
   "cell_type": "code",
   "execution_count": 19,
   "metadata": {},
   "outputs": [
    {
     "name": "stdout",
     "output_type": "stream",
     "text": [
      "Total number of wind directions:  25 \n",
      "\n",
      "['Calm' 'SW' 'SSW' 'WSW' 'WNW' 'NW' 'West' 'NNW' 'NNE' 'South' 'North'\n",
      " 'Variable' 'SE' 'SSE' 'ESE' 'East' 'NE' 'ENE' 'E' 'W' nan 'S' 'VAR'\n",
      " 'CALM' 'N']\n"
     ]
    }
   ],
   "source": [
    "#after checking the weather conditions, we are analyzing the wind directions\n",
    "#outputting the total number of different directions and their names\n",
    "\n",
    "wind_directions = df[\"Wind_Direction\"].unique()\n",
    "print(\"Total number of wind directions: \", len(wind_directions), \"\\n\")\n",
    "print(wind_directions)"
   ]
  },
  {
   "cell_type": "code",
   "execution_count": 20,
   "metadata": {},
   "outputs": [
    {
     "name": "stdout",
     "output_type": "stream",
     "text": [
      "Total number of wind directions:  11 \n",
      "\n",
      "['Calm' 'SW' 'NW' 'W' 'NE' 'S' 'N' 'Variable' 'SE' 'E' nan]\n"
     ]
    }
   ],
   "source": [
    "#similarly to weather conditions, we reduce the amount of wind directions by grouping the values\n",
    "\n",
    "df.loc[df[\"Wind_Direction\"] == \"North\", \"Wind_Direction\"] = \"N\"\n",
    "df.loc[df[\"Wind_Direction\"] == \"East\", \"Wind_Direction\"] = \"E\"\n",
    "df.loc[df[\"Wind_Direction\"] == \"South\", \"Wind_Direction\"] = \"S\"\n",
    "df.loc[df[\"Wind_Direction\"] == \"West\", \"Wind_Direction\"] = \"W\"\n",
    "df.loc[df[\"Wind_Direction\"] == \"CALM\", \"Wind_Direction\"] = \"Calm\"\n",
    "df.loc[df[\"Wind_Direction\"] == \"VAR\", \"Wind_Direction\"] = \"Variable\"\n",
    "df[\"Wind_Direction\"] = df[\"Wind_Direction\"].map(lambda i : i if len(i) != 3 else i[1:], na_action=\"ignore\")\n",
    "common_direction = df[\"Wind_Direction\"].unique()\n",
    "\n",
    "print(\"Total number of wind directions: \", len(common_direction), \"\\n\")\n",
    "print(common_direction)"
   ]
  },
  {
   "cell_type": "code",
   "execution_count": 21,
   "metadata": {},
   "outputs": [
    {
     "data": {
      "text/plain": [
       "Severity                   0\n",
       "Start_Lat                  0\n",
       "Start_Lng                  0\n",
       "Distance(mi)               0\n",
       "Side                       0\n",
       "City                     137\n",
       "Temperature(F)         89873\n",
       "Humidity(%)            95422\n",
       "Pressure(in)           76381\n",
       "Visibility(mi)         98667\n",
       "Wind_Direction         83601\n",
       "Wind_Speed(mph)       479284\n",
       "Precipitation(in)    2065296\n",
       "Weather_Condition      99024\n",
       "Amenity                    0\n",
       "Bump                       0\n",
       "Crossing                   0\n",
       "Give_Way                   0\n",
       "Junction                   0\n",
       "No_Exit                    0\n",
       "Railway                    0\n",
       "Roundabout                 0\n",
       "Station                    0\n",
       "Stop                       0\n",
       "Traffic_Calming            0\n",
       "Traffic_Signal             0\n",
       "Civil_Twilight           141\n",
       "Hour                       0\n",
       "Minute                     0\n",
       "Year                       0\n",
       "Month                      0\n",
       "Weekday                    0\n",
       "Day                        0\n",
       "dtype: int64"
      ]
     },
     "execution_count": 21,
     "metadata": {},
     "output_type": "execute_result"
    }
   ],
   "source": [
    "#analyzing the missing values\n",
    "df.isna().sum()"
   ]
  },
  {
   "cell_type": "code",
   "execution_count": 22,
   "metadata": {},
   "outputs": [
    {
     "data": {
      "text/plain": [
       "Severity             0\n",
       "Start_Lat            0\n",
       "Start_Lng            0\n",
       "Distance(mi)         0\n",
       "Side                 0\n",
       "City                 0\n",
       "Temperature(F)       0\n",
       "Humidity(%)          0\n",
       "Pressure(in)         0\n",
       "Visibility(mi)       0\n",
       "Wind_Direction       0\n",
       "Wind_Speed(mph)      0\n",
       "Precipitation(in)    0\n",
       "Weather_Condition    0\n",
       "Amenity              0\n",
       "Bump                 0\n",
       "Crossing             0\n",
       "Give_Way             0\n",
       "Junction             0\n",
       "No_Exit              0\n",
       "Railway              0\n",
       "Roundabout           0\n",
       "Station              0\n",
       "Stop                 0\n",
       "Traffic_Calming      0\n",
       "Traffic_Signal       0\n",
       "Civil_Twilight       0\n",
       "Hour                 0\n",
       "Minute               0\n",
       "Year                 0\n",
       "Month                0\n",
       "Weekday              0\n",
       "Day                  0\n",
       "dtype: int64"
      ]
     },
     "execution_count": 22,
     "metadata": {},
     "output_type": "execute_result"
    }
   ],
   "source": [
    "#from the output, we identified that many of the records don't contain informations about Precipitation so we will drop that feature\n",
    "#we fill in the missing features with the mean for numerical features \n",
    "#we delete the records with missing informations for categorical features\n",
    "fill_features = [\"Temperature(F)\", \"Humidity(%)\", \"Pressure(in)\", \"Visibility(mi)\", \"Wind_Speed(mph)\", \"Precipitation(in)\"]\n",
    "df[fill_features] = df[fill_features].fillna(df[fill_features].mean())\n",
    "df.dropna(inplace=True)\n",
    "df.isna().sum()"
   ]
  },
  {
   "cell_type": "code",
   "execution_count": 23,
   "metadata": {},
   "outputs": [],
   "source": [
    "#Encode target labels with value between 0 and n_classes-1\n",
    "encoder = preprocessing.LabelEncoder()\n",
    "df['Bump'] = encoder.fit_transform(df['Bump'])\n",
    "df['Amenity'] = encoder.fit_transform(df['Amenity'])\n",
    "df['Crossing'] = encoder.fit_transform(df['Crossing'])\n",
    "df['Give_Way'] = encoder.fit_transform(df['Give_Way'])\n",
    "df['Junction'] = encoder.fit_transform(df['Junction'])\n",
    "df['No_Exit'] = encoder.fit_transform(df['No_Exit'])\n",
    "df['Railway'] = encoder.fit_transform(df['Railway'])\n",
    "df['Roundabout'] = encoder.fit_transform(df['Roundabout'])\n",
    "df['Station'] = encoder.fit_transform(df['Station'])\n",
    "df['Stop'] = encoder.fit_transform(df['Stop'])\n",
    "df['Traffic_Calming'] = encoder.fit_transform(df['Traffic_Calming'])\n",
    "df['Traffic_Signal'] = encoder.fit_transform(df['Traffic_Signal'])\n",
    "df['City'] = encoder.fit_transform(df['City'])\n",
    "df['Weather_Condition'] = encoder.fit_transform(df['Weather_Condition'])\n",
    "df['Wind_Direction'] = encoder.fit_transform(df['Wind_Direction'])\n",
    "df['Side'] = encoder.fit_transform(df['Side'])\n",
    "df['Civil_Twilight'] = encoder.fit_transform(df['Civil_Twilight'])"
   ]
  },
  {
   "cell_type": "code",
   "execution_count": 24,
   "metadata": {},
   "outputs": [
    {
     "data": {
      "text/html": [
       "<div>\n",
       "<style scoped>\n",
       "    .dataframe tbody tr th:only-of-type {\n",
       "        vertical-align: middle;\n",
       "    }\n",
       "\n",
       "    .dataframe tbody tr th {\n",
       "        vertical-align: top;\n",
       "    }\n",
       "\n",
       "    .dataframe thead th {\n",
       "        text-align: right;\n",
       "    }\n",
       "</style>\n",
       "<table border=\"1\" class=\"dataframe\">\n",
       "  <thead>\n",
       "    <tr style=\"text-align: right;\">\n",
       "      <th></th>\n",
       "      <th>Severity</th>\n",
       "      <th>Start_Lat</th>\n",
       "      <th>Start_Lng</th>\n",
       "      <th>Distance(mi)</th>\n",
       "      <th>Side</th>\n",
       "      <th>City</th>\n",
       "      <th>Temperature(F)</th>\n",
       "      <th>Humidity(%)</th>\n",
       "      <th>Pressure(in)</th>\n",
       "      <th>Visibility(mi)</th>\n",
       "      <th>...</th>\n",
       "      <th>Stop</th>\n",
       "      <th>Traffic_Calming</th>\n",
       "      <th>Traffic_Signal</th>\n",
       "      <th>Civil_Twilight</th>\n",
       "      <th>Hour</th>\n",
       "      <th>Minute</th>\n",
       "      <th>Year</th>\n",
       "      <th>Month</th>\n",
       "      <th>Weekday</th>\n",
       "      <th>Day</th>\n",
       "    </tr>\n",
       "  </thead>\n",
       "  <tbody>\n",
       "    <tr>\n",
       "      <th>0</th>\n",
       "      <td>3</td>\n",
       "      <td>39.865147</td>\n",
       "      <td>-84.058723</td>\n",
       "      <td>0.01</td>\n",
       "      <td>1</td>\n",
       "      <td>2577</td>\n",
       "      <td>36.9</td>\n",
       "      <td>91.0</td>\n",
       "      <td>29.68</td>\n",
       "      <td>10.0</td>\n",
       "      <td>...</td>\n",
       "      <td>0</td>\n",
       "      <td>0</td>\n",
       "      <td>0</td>\n",
       "      <td>1</td>\n",
       "      <td>5</td>\n",
       "      <td>46</td>\n",
       "      <td>2016</td>\n",
       "      <td>2</td>\n",
       "      <td>0</td>\n",
       "      <td>8</td>\n",
       "    </tr>\n",
       "    <tr>\n",
       "      <th>1</th>\n",
       "      <td>2</td>\n",
       "      <td>39.928059</td>\n",
       "      <td>-82.831184</td>\n",
       "      <td>0.01</td>\n",
       "      <td>0</td>\n",
       "      <td>8978</td>\n",
       "      <td>37.9</td>\n",
       "      <td>100.0</td>\n",
       "      <td>29.65</td>\n",
       "      <td>10.0</td>\n",
       "      <td>...</td>\n",
       "      <td>0</td>\n",
       "      <td>0</td>\n",
       "      <td>0</td>\n",
       "      <td>1</td>\n",
       "      <td>6</td>\n",
       "      <td>7</td>\n",
       "      <td>2016</td>\n",
       "      <td>2</td>\n",
       "      <td>0</td>\n",
       "      <td>8</td>\n",
       "    </tr>\n",
       "    <tr>\n",
       "      <th>2</th>\n",
       "      <td>2</td>\n",
       "      <td>39.063148</td>\n",
       "      <td>-84.032608</td>\n",
       "      <td>0.01</td>\n",
       "      <td>1</td>\n",
       "      <td>11741</td>\n",
       "      <td>36.0</td>\n",
       "      <td>100.0</td>\n",
       "      <td>29.67</td>\n",
       "      <td>10.0</td>\n",
       "      <td>...</td>\n",
       "      <td>0</td>\n",
       "      <td>0</td>\n",
       "      <td>1</td>\n",
       "      <td>1</td>\n",
       "      <td>6</td>\n",
       "      <td>49</td>\n",
       "      <td>2016</td>\n",
       "      <td>2</td>\n",
       "      <td>0</td>\n",
       "      <td>8</td>\n",
       "    </tr>\n",
       "    <tr>\n",
       "      <th>3</th>\n",
       "      <td>3</td>\n",
       "      <td>39.747753</td>\n",
       "      <td>-84.205582</td>\n",
       "      <td>0.01</td>\n",
       "      <td>1</td>\n",
       "      <td>2577</td>\n",
       "      <td>35.1</td>\n",
       "      <td>96.0</td>\n",
       "      <td>29.64</td>\n",
       "      <td>9.0</td>\n",
       "      <td>...</td>\n",
       "      <td>0</td>\n",
       "      <td>0</td>\n",
       "      <td>0</td>\n",
       "      <td>0</td>\n",
       "      <td>7</td>\n",
       "      <td>23</td>\n",
       "      <td>2016</td>\n",
       "      <td>2</td>\n",
       "      <td>0</td>\n",
       "      <td>8</td>\n",
       "    </tr>\n",
       "    <tr>\n",
       "      <th>4</th>\n",
       "      <td>2</td>\n",
       "      <td>39.627781</td>\n",
       "      <td>-84.188354</td>\n",
       "      <td>0.01</td>\n",
       "      <td>1</td>\n",
       "      <td>2577</td>\n",
       "      <td>36.0</td>\n",
       "      <td>89.0</td>\n",
       "      <td>29.65</td>\n",
       "      <td>6.0</td>\n",
       "      <td>...</td>\n",
       "      <td>0</td>\n",
       "      <td>0</td>\n",
       "      <td>1</td>\n",
       "      <td>0</td>\n",
       "      <td>7</td>\n",
       "      <td>39</td>\n",
       "      <td>2016</td>\n",
       "      <td>2</td>\n",
       "      <td>0</td>\n",
       "      <td>8</td>\n",
       "    </tr>\n",
       "  </tbody>\n",
       "</table>\n",
       "<p>5 rows × 33 columns</p>\n",
       "</div>"
      ],
      "text/plain": [
       "   Severity  Start_Lat  Start_Lng  Distance(mi)  Side   City  Temperature(F)  \\\n",
       "0         3  39.865147 -84.058723          0.01     1   2577            36.9   \n",
       "1         2  39.928059 -82.831184          0.01     0   8978            37.9   \n",
       "2         2  39.063148 -84.032608          0.01     1  11741            36.0   \n",
       "3         3  39.747753 -84.205582          0.01     1   2577            35.1   \n",
       "4         2  39.627781 -84.188354          0.01     1   2577            36.0   \n",
       "\n",
       "   Humidity(%)  Pressure(in)  Visibility(mi)  ...  Stop  Traffic_Calming  \\\n",
       "0         91.0         29.68            10.0  ...     0                0   \n",
       "1        100.0         29.65            10.0  ...     0                0   \n",
       "2        100.0         29.67            10.0  ...     0                0   \n",
       "3         96.0         29.64             9.0  ...     0                0   \n",
       "4         89.0         29.65             6.0  ...     0                0   \n",
       "\n",
       "   Traffic_Signal  Civil_Twilight  Hour  Minute  Year  Month  Weekday  Day  \n",
       "0               0               1     5      46  2016      2        0    8  \n",
       "1               0               1     6       7  2016      2        0    8  \n",
       "2               1               1     6      49  2016      2        0    8  \n",
       "3               0               0     7      23  2016      2        0    8  \n",
       "4               1               0     7      39  2016      2        0    8  \n",
       "\n",
       "[5 rows x 33 columns]"
      ]
     },
     "execution_count": 24,
     "metadata": {},
     "output_type": "execute_result"
    }
   ],
   "source": [
    "df.head()"
   ]
  },
  {
   "cell_type": "markdown",
   "metadata": {},
   "source": [
    "#Displaying number of records in each Severity"
   ]
  },
  {
   "cell_type": "code",
   "execution_count": 25,
   "metadata": {},
   "outputs": [
    {
     "name": "stderr",
     "output_type": "stream",
     "text": [
      "/opt/anaconda3/lib/python3.8/site-packages/seaborn/_decorators.py:36: FutureWarning: Pass the following variables as keyword args: x, y. From version 0.12, the only valid positional argument will be `data`, and passing other arguments without an explicit keyword will result in an error or misinterpretation.\n",
      "  warnings.warn(\n"
     ]
    },
    {
     "data": {
      "image/png": "[encoded data removed]",
      "text/plain": [
       "<Figure size 576x432 with 1 Axes>"
      ]
     },
     "metadata": {
      "needs_background": "light"
     },
     "output_type": "display_data"
    }
   ],
   "source": [
    "severityCount = df['Severity'].value_counts()\n",
    "plt.figure(figsize=(8, 6))\n",
    "plt.title(\"Severity Vs Values\")\n",
    "sns.barplot(severityCount.index, severityCount.values)\n",
    "plt.xlabel(\"Severity\")\n",
    "plt.ylabel(\"Value\")\n",
    "plt.show()"
   ]
  },
  {
   "cell_type": "markdown",
   "metadata": {},
   "source": [
    "#Data distribution is not uniform, we find number of records for each severity"
   ]
  },
  {
   "cell_type": "code",
   "execution_count": 26,
   "metadata": {},
   "outputs": [
    {
     "name": "stdout",
     "output_type": "stream",
     "text": [
      "No. of rows in Severity 1:  28718\n",
      "No. of rows in Severity 2:  2925644\n",
      "No. of rows in Severity 3:  1043246\n",
      "No. of rows in Severity 4:  119248\n"
     ]
    }
   ],
   "source": [
    "size1 = len(df[df[\"Severity\"]==1].index)\n",
    "print('No. of rows in Severity 1: ',size1 )\n",
    "size2 = len(df[df[\"Severity\"]==2].index)\n",
    "print('No. of rows in Severity 2: ',size2)\n",
    "size3 = len(df[df[\"Severity\"]==3].index)\n",
    "print('No. of rows in Severity 3: ',size3)\n",
    "size4 = len(df[df[\"Severity\"]==4].index)\n",
    "print('No. of rows in Severity 4: ',size4)"
   ]
  },
  {
   "cell_type": "markdown",
   "metadata": {},
   "source": [
    "#the data is collected from various sources and their method of reporting the sources may vay\n",
    "#So, we are broadly classifying the accidents into 2 major categories\n",
    "#SEVERITY 1 - MINOR ACCIDENTS\n",
    "#SEVERITY 2 - MAJOR ACCIDENTS"
   ]
  },
  {
   "cell_type": "code",
   "execution_count": 27,
   "metadata": {},
   "outputs": [],
   "source": [
    "df.loc[df[\"Severity\"] == 2, \"Severity\"] = 1\n",
    "df.loc[df[\"Severity\"] == 3, \"Severity\"] = 2\n",
    "df.loc[df[\"Severity\"] == 4, \"Severity\"] = 2"
   ]
  },
  {
   "cell_type": "code",
   "execution_count": 28,
   "metadata": {},
   "outputs": [
    {
     "name": "stdout",
     "output_type": "stream",
     "text": [
      "Size of each severity after altering the severity to 2 levels: Minor accidents & Major accidents\n",
      "No. of rows in Severity 1:  2954362\n",
      "No. of rows in Severity 2:  1162494\n"
     ]
    }
   ],
   "source": [
    "X = pd.DataFrame()\n",
    "print(\"Size of each severity after altering the severity to 2 levels: Minor accidents & Major accidents\")\n",
    "size1 = len(df[df[\"Severity\"]==1].index)\n",
    "print('No. of rows in Severity 1: ',size1)\n",
    "size2 = len(df[df[\"Severity\"]==2].index)\n",
    "print('No. of rows in Severity 2: ',size2)"
   ]
  },
  {
   "cell_type": "code",
   "execution_count": 29,
   "metadata": {},
   "outputs": [],
   "source": [
    "#We take all the records of severity 2 & consider same number of records from severity 1\n",
    "for i in range(1,3):\n",
    "    S = df[df['Severity']==i]\n",
    "    temp = S.sample(size2, random_state=42)\n",
    "    X = X.append(temp)"
   ]
  },
  {
   "cell_type": "markdown",
   "metadata": {},
   "source": [
    "#Reducing no. of records for further processing"
   ]
  },
  {
   "cell_type": "code",
   "execution_count": 30,
   "metadata": {},
   "outputs": [
    {
     "name": "stderr",
     "output_type": "stream",
     "text": [
      "/opt/anaconda3/lib/python3.8/site-packages/seaborn/_decorators.py:36: FutureWarning: Pass the following variables as keyword args: x, y. From version 0.12, the only valid positional argument will be `data`, and passing other arguments without an explicit keyword will result in an error or misinterpretation.\n",
      "  warnings.warn(\n"
     ]
    },
    {
     "data": {
      "image/png": "[encoded data removed]",
      "text/plain": [
       "<Figure size 576x432 with 1 Axes>"
      ]
     },
     "metadata": {
      "needs_background": "light"
     },
     "output_type": "display_data"
    }
   ],
   "source": [
    "severityCount = X['Severity'].value_counts()\n",
    "plt.figure(figsize=(8, 6))\n",
    "plt.title(\"Severity Vs Values\")\n",
    "sns.barplot(severityCount.index, severityCount.values)\n",
    "plt.xlabel(\"Severity\")\n",
    "plt.ylabel(\"Value\")\n",
    "plt.show()"
   ]
  },
  {
   "cell_type": "code",
   "execution_count": 31,
   "metadata": {},
   "outputs": [
    {
     "name": "stdout",
     "output_type": "stream",
     "text": [
      "Size of data taken for analysis  (2324988, 33)\n"
     ]
    },
    {
     "data": {
      "text/plain": [
       "Index(['Severity', 'Start_Lat', 'Start_Lng', 'Distance(mi)', 'Side', 'City',\n",
       "       'Temperature(F)', 'Humidity(%)', 'Pressure(in)', 'Visibility(mi)',\n",
       "       'Wind_Direction', 'Wind_Speed(mph)', 'Precipitation(in)',\n",
       "       'Weather_Condition', 'Amenity', 'Bump', 'Crossing', 'Give_Way',\n",
       "       'Junction', 'No_Exit', 'Railway', 'Roundabout', 'Station', 'Stop',\n",
       "       'Traffic_Calming', 'Traffic_Signal', 'Civil_Twilight', 'Hour', 'Minute',\n",
       "       'Year', 'Month', 'Weekday', 'Day'],\n",
       "      dtype='object')"
      ]
     },
     "execution_count": 31,
     "metadata": {},
     "output_type": "execute_result"
    }
   ],
   "source": [
    "print(\"Size of data taken for analysis \", X.shape)\n",
    "X.columns"
   ]
  },
  {
   "cell_type": "markdown",
   "metadata": {},
   "source": [
    "#Scaling the features using MinMaxScaler"
   ]
  },
  {
   "cell_type": "code",
   "execution_count": 32,
   "metadata": {},
   "outputs": [
    {
     "data": {
      "text/html": [
       "<div>\n",
       "<style scoped>\n",
       "    .dataframe tbody tr th:only-of-type {\n",
       "        vertical-align: middle;\n",
       "    }\n",
       "\n",
       "    .dataframe tbody tr th {\n",
       "        vertical-align: top;\n",
       "    }\n",
       "\n",
       "    .dataframe thead th {\n",
       "        text-align: right;\n",
       "    }\n",
       "</style>\n",
       "<table border=\"1\" class=\"dataframe\">\n",
       "  <thead>\n",
       "    <tr style=\"text-align: right;\">\n",
       "      <th></th>\n",
       "      <th>Severity</th>\n",
       "      <th>Start_Lat</th>\n",
       "      <th>Start_Lng</th>\n",
       "      <th>Distance(mi)</th>\n",
       "      <th>Side</th>\n",
       "      <th>City</th>\n",
       "      <th>Temperature(F)</th>\n",
       "      <th>Humidity(%)</th>\n",
       "      <th>Pressure(in)</th>\n",
       "      <th>Visibility(mi)</th>\n",
       "      <th>...</th>\n",
       "      <th>Stop</th>\n",
       "      <th>Traffic_Calming</th>\n",
       "      <th>Traffic_Signal</th>\n",
       "      <th>Civil_Twilight</th>\n",
       "      <th>Hour</th>\n",
       "      <th>Minute</th>\n",
       "      <th>Year</th>\n",
       "      <th>Month</th>\n",
       "      <th>Weekday</th>\n",
       "      <th>Day</th>\n",
       "    </tr>\n",
       "  </thead>\n",
       "  <tbody>\n",
       "    <tr>\n",
       "      <th>3786025</th>\n",
       "      <td>1</td>\n",
       "      <td>0.379336</td>\n",
       "      <td>0.110031</td>\n",
       "      <td>0.000000</td>\n",
       "      <td>0</td>\n",
       "      <td>0.132231</td>\n",
       "      <td>0.550360</td>\n",
       "      <td>0.828283</td>\n",
       "      <td>0.513640</td>\n",
       "      <td>0.071030</td>\n",
       "      <td>...</td>\n",
       "      <td>0</td>\n",
       "      <td>0</td>\n",
       "      <td>0</td>\n",
       "      <td>1</td>\n",
       "      <td>1.000000</td>\n",
       "      <td>0.677966</td>\n",
       "      <td>0.75</td>\n",
       "      <td>0.818182</td>\n",
       "      <td>0.666667</td>\n",
       "      <td>0.100000</td>\n",
       "    </tr>\n",
       "    <tr>\n",
       "      <th>2945921</th>\n",
       "      <td>1</td>\n",
       "      <td>0.382903</td>\n",
       "      <td>0.704231</td>\n",
       "      <td>0.000000</td>\n",
       "      <td>1</td>\n",
       "      <td>0.033078</td>\n",
       "      <td>0.608273</td>\n",
       "      <td>0.757576</td>\n",
       "      <td>0.517438</td>\n",
       "      <td>0.063885</td>\n",
       "      <td>...</td>\n",
       "      <td>0</td>\n",
       "      <td>0</td>\n",
       "      <td>0</td>\n",
       "      <td>0</td>\n",
       "      <td>0.434783</td>\n",
       "      <td>0.016949</td>\n",
       "      <td>0.25</td>\n",
       "      <td>0.545455</td>\n",
       "      <td>0.166667</td>\n",
       "      <td>0.333333</td>\n",
       "    </tr>\n",
       "    <tr>\n",
       "      <th>1025903</th>\n",
       "      <td>1</td>\n",
       "      <td>0.336665</td>\n",
       "      <td>0.481612</td>\n",
       "      <td>0.000000</td>\n",
       "      <td>1</td>\n",
       "      <td>0.348654</td>\n",
       "      <td>0.428058</td>\n",
       "      <td>0.797980</td>\n",
       "      <td>0.511913</td>\n",
       "      <td>0.071030</td>\n",
       "      <td>...</td>\n",
       "      <td>0</td>\n",
       "      <td>0</td>\n",
       "      <td>0</td>\n",
       "      <td>0</td>\n",
       "      <td>0.304348</td>\n",
       "      <td>0.983051</td>\n",
       "      <td>0.75</td>\n",
       "      <td>1.000000</td>\n",
       "      <td>0.166667</td>\n",
       "      <td>0.533333</td>\n",
       "    </tr>\n",
       "    <tr>\n",
       "      <th>1581916</th>\n",
       "      <td>1</td>\n",
       "      <td>0.212721</td>\n",
       "      <td>0.511259</td>\n",
       "      <td>0.000000</td>\n",
       "      <td>1</td>\n",
       "      <td>0.409408</td>\n",
       "      <td>0.571223</td>\n",
       "      <td>1.000000</td>\n",
       "      <td>0.512776</td>\n",
       "      <td>0.049593</td>\n",
       "      <td>...</td>\n",
       "      <td>0</td>\n",
       "      <td>0</td>\n",
       "      <td>1</td>\n",
       "      <td>0</td>\n",
       "      <td>0.739130</td>\n",
       "      <td>1.000000</td>\n",
       "      <td>0.75</td>\n",
       "      <td>0.090909</td>\n",
       "      <td>0.000000</td>\n",
       "      <td>0.333333</td>\n",
       "    </tr>\n",
       "    <tr>\n",
       "      <th>3242552</th>\n",
       "      <td>1</td>\n",
       "      <td>0.161637</td>\n",
       "      <td>0.766872</td>\n",
       "      <td>0.000075</td>\n",
       "      <td>1</td>\n",
       "      <td>0.892121</td>\n",
       "      <td>0.589928</td>\n",
       "      <td>0.777778</td>\n",
       "      <td>0.516575</td>\n",
       "      <td>0.049593</td>\n",
       "      <td>...</td>\n",
       "      <td>0</td>\n",
       "      <td>0</td>\n",
       "      <td>0</td>\n",
       "      <td>1</td>\n",
       "      <td>0.217391</td>\n",
       "      <td>0.118644</td>\n",
       "      <td>1.00</td>\n",
       "      <td>0.909091</td>\n",
       "      <td>0.666667</td>\n",
       "      <td>0.866667</td>\n",
       "    </tr>\n",
       "  </tbody>\n",
       "</table>\n",
       "<p>5 rows × 33 columns</p>\n",
       "</div>"
      ],
      "text/plain": [
       "         Severity  Start_Lat  Start_Lng  Distance(mi)  Side      City  \\\n",
       "3786025         1   0.379336   0.110031      0.000000     0  0.132231   \n",
       "2945921         1   0.382903   0.704231      0.000000     1  0.033078   \n",
       "1025903         1   0.336665   0.481612      0.000000     1  0.348654   \n",
       "1581916         1   0.212721   0.511259      0.000000     1  0.409408   \n",
       "3242552         1   0.161637   0.766872      0.000075     1  0.892121   \n",
       "\n",
       "         Temperature(F)  Humidity(%)  Pressure(in)  Visibility(mi)  ...  Stop  \\\n",
       "3786025        0.550360     0.828283      0.513640        0.071030  ...     0   \n",
       "2945921        0.608273     0.757576      0.517438        0.063885  ...     0   \n",
       "1025903        0.428058     0.797980      0.511913        0.071030  ...     0   \n",
       "1581916        0.571223     1.000000      0.512776        0.049593  ...     0   \n",
       "3242552        0.589928     0.777778      0.516575        0.049593  ...     0   \n",
       "\n",
       "         Traffic_Calming  Traffic_Signal  Civil_Twilight      Hour    Minute  \\\n",
       "3786025                0               0               1  1.000000  0.677966   \n",
       "2945921                0               0               0  0.434783  0.016949   \n",
       "1025903                0               0               0  0.304348  0.983051   \n",
       "1581916                0               1               0  0.739130  1.000000   \n",
       "3242552                0               0               1  0.217391  0.118644   \n",
       "\n",
       "         Year     Month   Weekday       Day  \n",
       "3786025  0.75  0.818182  0.666667  0.100000  \n",
       "2945921  0.25  0.545455  0.166667  0.333333  \n",
       "1025903  0.75  1.000000  0.166667  0.533333  \n",
       "1581916  0.75  0.090909  0.000000  0.333333  \n",
       "3242552  1.00  0.909091  0.666667  0.866667  \n",
       "\n",
       "[5 rows x 33 columns]"
      ]
     },
     "execution_count": 32,
     "metadata": {},
     "output_type": "execute_result"
    }
   ],
   "source": [
    "scaler = MinMaxScaler()\n",
    "featuresForScaling = ['Start_Lat', 'Start_Lng','Distance(mi)','Temperature(F)', 'Humidity(%)', 'Pressure(in)', 'Visibility(mi)','Wind_Speed(mph)', 'Precipitation(in)','Hour', 'Minute',\n",
    "       'Year', 'Month', 'Weekday', 'Day', 'City', 'Wind_Direction', 'Weather_Condition']\n",
    "X[featuresForScaling] = scaler.fit_transform(X[featuresForScaling])\n",
    "X.head()"
   ]
  },
  {
   "cell_type": "code",
   "execution_count": 33,
   "metadata": {},
   "outputs": [
    {
     "name": "stdout",
     "output_type": "stream",
     "text": [
      "<class 'pandas.core.frame.DataFrame'>\n",
      "Int64Index: 2324988 entries, 3786025 to 340507\n",
      "Data columns (total 33 columns):\n",
      " #   Column             Dtype  \n",
      "---  ------             -----  \n",
      " 0   Severity           int64  \n",
      " 1   Start_Lat          float64\n",
      " 2   Start_Lng          float64\n",
      " 3   Distance(mi)       float64\n",
      " 4   Side               int64  \n",
      " 5   City               float64\n",
      " 6   Temperature(F)     float64\n",
      " 7   Humidity(%)        float64\n",
      " 8   Pressure(in)       float64\n",
      " 9   Visibility(mi)     float64\n",
      " 10  Wind_Direction     float64\n",
      " 11  Wind_Speed(mph)    float64\n",
      " 12  Precipitation(in)  float64\n",
      " 13  Weather_Condition  float64\n",
      " 14  Amenity            int64  \n",
      " 15  Bump               int64  \n",
      " 16  Crossing           int64  \n",
      " 17  Give_Way           int64  \n",
      " 18  Junction           int64  \n",
      " 19  No_Exit            int64  \n",
      " 20  Railway            int64  \n",
      " 21  Roundabout         int64  \n",
      " 22  Station            int64  \n",
      " 23  Stop               int64  \n",
      " 24  Traffic_Calming    int64  \n",
      " 25  Traffic_Signal     int64  \n",
      " 26  Civil_Twilight     int64  \n",
      " 27  Hour               float64\n",
      " 28  Minute             float64\n",
      " 29  Year               float64\n",
      " 30  Month              float64\n",
      " 31  Weekday            float64\n",
      " 32  Day                float64\n",
      "dtypes: float64(18), int64(15)\n",
      "memory usage: 603.1 MB\n"
     ]
    }
   ],
   "source": [
    "X.info()"
   ]
  },
  {
   "cell_type": "markdown",
   "metadata": {},
   "source": [
    "#Decision Tree"
   ]
  },
  {
   "cell_type": "code",
   "execution_count": 34,
   "metadata": {},
   "outputs": [
    {
     "name": "stdout",
     "output_type": "stream",
     "text": [
      "(1859990, 33) (464998, 33)\n"
     ]
    }
   ],
   "source": [
    "#Train - Test split \n",
    "X1, X1_test_data = train_test_split(X, test_size=.2, random_state=42)\n",
    "print(X1.shape, X1_test_data.shape)"
   ]
  },
  {
   "cell_type": "code",
   "execution_count": 35,
   "metadata": {},
   "outputs": [],
   "source": [
    "#Train-valid split\n",
    "sampleSet = X1\n",
    "y_data = sampleSet[\"Severity\"]\n",
    "X_data = sampleSet.drop(\"Severity\", axis=1)\n",
    "\n",
    "X_train, X_val, y_train, y_val = train_test_split(X_data, y_data, random_state=42)"
   ]
  },
  {
   "cell_type": "code",
   "execution_count": 36,
   "metadata": {},
   "outputs": [
    {
     "name": "stdout",
     "output_type": "stream",
     "text": [
      "(1394992, 32) (1394992,)\n",
      "(464998, 32) (464998,)\n"
     ]
    }
   ],
   "source": [
    "print(X_train.shape,y_train.shape)\n",
    "print(X_val.shape,y_val.shape)"
   ]
  },
  {
   "cell_type": "code",
   "execution_count": 37,
   "metadata": {},
   "outputs": [
    {
     "name": "stdout",
     "output_type": "stream",
     "text": [
      "Fitting 5 folds for each of 8 candidates, totalling 40 fits\n"
     ]
    },
    {
     "name": "stderr",
     "output_type": "stream",
     "text": [
      "[Parallel(n_jobs=-1)]: Using backend LokyBackend with 16 concurrent workers.\n",
      "[Parallel(n_jobs=-1)]: Done  18 out of  40 | elapsed:  1.4min remaining:  1.8min\n",
      "[Parallel(n_jobs=-1)]: Done  27 out of  40 | elapsed:  2.2min remaining:  1.1min\n",
      "[Parallel(n_jobs=-1)]: Done  36 out of  40 | elapsed:  2.6min remaining:   17.5s\n",
      "[Parallel(n_jobs=-1)]: Done  40 out of  40 | elapsed:  2.8min finished\n"
     ]
    },
    {
     "data": {
      "text/plain": [
       "GridSearchCV(estimator=DecisionTreeClassifier(random_state=42), n_jobs=-1,\n",
       "             param_grid=[{'criterion': ['gini', 'entropy'],\n",
       "                          'max_depth': [5, 10, 15, 30]}],\n",
       "             verbose=5)"
      ]
     },
     "execution_count": 37,
     "metadata": {},
     "output_type": "execute_result"
    }
   ],
   "source": [
    "# Create Decision Tree classifer\n",
    "clf = DecisionTreeClassifier(random_state=42)\n",
    "\n",
    "#Train the classifier\n",
    "parameter = [{\"criterion\":[\"gini\", \"entropy\"], \"max_depth\": [5,10,15,30]}]\n",
    "\n",
    "#cross-validated grid-search\n",
    "gridSearch = GridSearchCV(clf,parameter,verbose = 5,n_jobs=-1)\n",
    "gridSearch.fit(X_train,y_train)"
   ]
  },
  {
   "cell_type": "code",
   "execution_count": 38,
   "metadata": {},
   "outputs": [
    {
     "name": "stdout",
     "output_type": "stream",
     "text": [
      "Parameter score using GridSearchCV in sklearn\n",
      "Parameter score:  {'criterion': 'entropy', 'max_depth': 30}\n",
      "Training score:  0.9587574695768865\n",
      "validation score:  0.8106335941229855\n"
     ]
    }
   ],
   "source": [
    "#Print parameter score\n",
    "print(\"Parameter score using GridSearchCV in sklearn\")\n",
    "print(\"Parameter score: \",gridSearch.best_params_)\n",
    "print(\"Training score: \",gridSearch.score(X_train, y_train))\n",
    "print(\"validation score: \",gridSearch.score(X_val, y_val))"
   ]
  },
  {
   "cell_type": "code",
   "execution_count": 39,
   "metadata": {},
   "outputs": [
    {
     "name": "stdout",
     "output_type": "stream",
     "text": [
      "Scoring only using the decision tree classifier\n",
      "Training score:  0.9994157672588804\n",
      "Validation score:  0.8047389451137424\n"
     ]
    }
   ],
   "source": [
    "#Print parameter score\n",
    "print(\"Scoring only using the decision tree classifier\")\n",
    "clf.fit(X_train,y_train)\n",
    "print(\"Training score: \",clf.score(X_train, y_train))\n",
    "print(\"Validation score: \",clf.score(X_val, y_val))"
   ]
  },
  {
   "cell_type": "code",
   "execution_count": 40,
   "metadata": {},
   "outputs": [
    {
     "name": "stdout",
     "output_type": "stream",
     "text": [
      "Accuracy of Decision Tree: 0.8047389451137424\n"
     ]
    }
   ],
   "source": [
    "accuracy = dict()\n",
    "f1 = dict()\n",
    "\n",
    "y_pred_dt = clf.predict(X_val)\n",
    "accuracy['Decision Tree']=metrics.accuracy_score(y_val, y_pred_dt)\n",
    "f1['Decision Tree'] = f1_score(y_val, y_pred_dt, average=\"macro\")\n",
    "print(\"Accuracy of Decision Tree:\",accuracy['Decision Tree'])"
   ]
  },
  {
   "cell_type": "code",
   "execution_count": 41,
   "metadata": {},
   "outputs": [
    {
     "name": "stdout",
     "output_type": "stream",
     "text": [
      "              precision    recall  f1-score   support\n",
      "\n",
      "           1       1.00      1.00      1.00    697787\n",
      "           2       1.00      1.00      1.00    697205\n",
      "\n",
      "    accuracy                           1.00   1394992\n",
      "   macro avg       1.00      1.00      1.00   1394992\n",
      "weighted avg       1.00      1.00      1.00   1394992\n",
      "\n",
      "              precision    recall  f1-score   support\n",
      "\n",
      "           1       0.81      0.80      0.80    232458\n",
      "           2       0.80      0.81      0.81    232540\n",
      "\n",
      "    accuracy                           0.80    464998\n",
      "   macro avg       0.80      0.80      0.80    464998\n",
      "weighted avg       0.80      0.80      0.80    464998\n",
      "\n"
     ]
    }
   ],
   "source": [
    "print(classification_report(y_train, clf.predict(X_train)))\n",
    "print(classification_report(y_val, y_pred_dt))"
   ]
  },
  {
   "cell_type": "code",
   "execution_count": 42,
   "metadata": {},
   "outputs": [
    {
     "data": {
      "image/png": "[encoded data removed]",
      "text/plain": [
       "<Figure size 1800x1080 with 1 Axes>"
      ]
     },
     "metadata": {
      "needs_background": "light"
     },
     "output_type": "display_data"
    }
   ],
   "source": [
    "from sklearn.tree import plot_tree\n",
    "import matplotlib.pyplot as plt\n",
    "fig, axes = plt.subplots(figsize = (25,15))\n",
    "plot_tree(clf,max_depth=3,fontsize=9,feature_names=X_train.columns.to_list(),class_names=True,filled = True)\n",
    "fig.savefig('DecisionTree.png')"
   ]
  },
  {
   "cell_type": "markdown",
   "metadata": {},
   "source": [
    "#Gaussian Naive Bayes classifier"
   ]
  },
  {
   "cell_type": "code",
   "execution_count": 43,
   "metadata": {},
   "outputs": [
    {
     "name": "stdout",
     "output_type": "stream",
     "text": [
      "Training score: 0.6355592003395002\n",
      "Validation score: 0.6352199364298341\n"
     ]
    }
   ],
   "source": [
    "#Gaussian Naive Bayes classfier\n",
    "gausNaiveB = GaussianNB()\n",
    "gausNaiveB.fit(X_train, y_train)\n",
    "\n",
    "print(\"Training score:\", gausNaiveB.score(X_train, y_train))\n",
    "print(\"Validation score:\", gausNaiveB.score(X_val, y_val))"
   ]
  },
  {
   "cell_type": "code",
   "execution_count": 44,
   "metadata": {},
   "outputs": [
    {
     "name": "stdout",
     "output_type": "stream",
     "text": [
      "              precision    recall  f1-score   support\n",
      "\n",
      "           1       0.78      0.38      0.51    697787\n",
      "           2       0.59      0.89      0.71    697205\n",
      "\n",
      "    accuracy                           0.64   1394992\n",
      "   macro avg       0.68      0.64      0.61   1394992\n",
      "weighted avg       0.69      0.64      0.61   1394992\n",
      "\n",
      "              precision    recall  f1-score   support\n",
      "\n",
      "           1       0.78      0.38      0.51    232458\n",
      "           2       0.59      0.89      0.71    232540\n",
      "\n",
      "    accuracy                           0.64    464998\n",
      "   macro avg       0.68      0.64      0.61    464998\n",
      "weighted avg       0.68      0.64      0.61    464998\n",
      "\n"
     ]
    }
   ],
   "source": [
    "y_pred_nb = gausNaiveB.predict(X_val)\n",
    "\n",
    "print(classification_report(y_train, gausNaiveB.predict(X_train)))\n",
    "print(classification_report(y_val, y_pred_nb))"
   ]
  },
  {
   "cell_type": "code",
   "execution_count": 45,
   "metadata": {},
   "outputs": [
    {
     "name": "stdout",
     "output_type": "stream",
     "text": [
      "Accuracy of NB: 0.6352199364298341\n"
     ]
    }
   ],
   "source": [
    "# Model Accuracy, how often is the classifier correct\n",
    "accuracy['Naive Bayes'] = metrics.accuracy_score(y_val, y_pred_nb)\n",
    "print(\"Accuracy of NB:\",accuracy['Naive Bayes'])\n",
    "f1['Naive Bayes'] = f1_score(y_val, y_pred_nb, average=\"macro\")"
   ]
  },
  {
   "cell_type": "markdown",
   "metadata": {},
   "source": [
    "#Random Forest Classifier"
   ]
  },
  {
   "cell_type": "code",
   "execution_count": 46,
   "metadata": {},
   "outputs": [
    {
     "name": "stdout",
     "output_type": "stream",
     "text": [
      "Fitting 5 folds for each of 1 candidates, totalling 5 fits\n"
     ]
    },
    {
     "name": "stderr",
     "output_type": "stream",
     "text": [
      "[Parallel(n_jobs=-1)]: Using backend LokyBackend with 16 concurrent workers.\n",
      "[Parallel(n_jobs=-1)]: Done   2 out of   5 | elapsed: 15.3min remaining: 23.0min\n",
      "[Parallel(n_jobs=-1)]: Done   5 out of   5 | elapsed: 15.3min finished\n"
     ]
    },
    {
     "name": "stdout",
     "output_type": "stream",
     "text": [
      "Best parameters scores:\n",
      "{'max_depth': 30, 'n_estimators': 200}\n",
      "Train score: 0.9541280523472536\n",
      "Validation score: 0.8091776738824683\n"
     ]
    }
   ],
   "source": [
    "rand_Forest = RandomForestClassifier(n_jobs=-1, random_state=42)\n",
    "grid = [{\"n_estimators\": [200], \"max_depth\": [30]}]\n",
    "clf_rand_For = GridSearchCV(rand_Forest, grid, verbose=5, n_jobs=-1)\n",
    "clf_rand_For.fit(X_train, y_train)\n",
    "\n",
    "print(\"Best parameters scores:\")\n",
    "print(clf_rand_For.best_params_)\n",
    "print(\"Train score:\", clf_rand_For.score(X_train, y_train))\n",
    "print(\"Validation score:\", clf_rand_For.score(X_val, y_val))"
   ]
  },
  {
   "cell_type": "code",
   "execution_count": 47,
   "metadata": {},
   "outputs": [],
   "source": [
    "rand_Forest.fit(X_train,y_train)\n",
    "y_pred_rand_Forest=rand_Forest.predict(X_val)"
   ]
  },
  {
   "cell_type": "code",
   "execution_count": 48,
   "metadata": {},
   "outputs": [
    {
     "name": "stdout",
     "output_type": "stream",
     "text": [
      "              precision    recall  f1-score   support\n",
      "\n",
      "           1       0.85      0.78      0.81    232458\n",
      "           2       0.79      0.86      0.82    232540\n",
      "\n",
      "    accuracy                           0.82    464998\n",
      "   macro avg       0.82      0.82      0.82    464998\n",
      "weighted avg       0.82      0.82      0.82    464998\n",
      "\n",
      "Accuracy: 0.8176895384496278\n"
     ]
    }
   ],
   "source": [
    "#print(confusion_matrix(y_val, y_pred_rand_Forest))  \n",
    "print(classification_report(y_val, y_pred_rand_Forest))\n",
    "# Model Accuracy, how often is the classifier correct?\n",
    "accuracy['Random Forest'] =metrics.accuracy_score(y_val, y_pred_rand_Forest)\n",
    "print(\"Accuracy:\",accuracy['Random Forest'])\n",
    "f1['Random Forest'] = f1_score(y_val, y_pred_rand_Forest, average=\"macro\")"
   ]
  },
  {
   "cell_type": "markdown",
   "metadata": {},
   "source": [
    "#Logistic Regression"
   ]
  },
  {
   "cell_type": "code",
   "execution_count": 49,
   "metadata": {},
   "outputs": [
    {
     "name": "stdout",
     "output_type": "stream",
     "text": [
      "              precision    recall  f1-score   support\n",
      "\n",
      "           1       0.71      0.62      0.66    232458\n",
      "           2       0.66      0.75      0.71    232540\n",
      "\n",
      "    accuracy                           0.69    464998\n",
      "   macro avg       0.69      0.69      0.69    464998\n",
      "weighted avg       0.69      0.69      0.69    464998\n",
      "\n"
     ]
    }
   ],
   "source": [
    "#logistic regression\n",
    "from sklearn.linear_model import LogisticRegression\n",
    "from sklearn.metrics import classification_report, confusion_matrix  \n",
    "Log_reg = LogisticRegression(solver='lbfgs', max_iter=4000)\n",
    "Log_reg.fit(X_train, y_train)\n",
    "y_pred_Log_reg = Log_reg.predict(X_val)\n",
    "#print(confusion_matrix(y_val, y_pred_Log_reg))  \n",
    "print(classification_report(y_val, y_pred_Log_reg))"
   ]
  },
  {
   "cell_type": "code",
   "execution_count": 50,
   "metadata": {},
   "outputs": [
    {
     "name": "stdout",
     "output_type": "stream",
     "text": [
      " Train score: 0.687134406505557\n",
      "Validation score: 0.6864674686772846\n"
     ]
    }
   ],
   "source": [
    "print(\" Train score:\", Log_reg.score(X_train, y_train))\n",
    "print(\"Validation score:\", Log_reg.score(X_val, y_val))"
   ]
  },
  {
   "cell_type": "code",
   "execution_count": 51,
   "metadata": {},
   "outputs": [
    {
     "name": "stdout",
     "output_type": "stream",
     "text": [
      "Fitting 5 folds for each of 3 candidates, totalling 15 fits\n"
     ]
    },
    {
     "name": "stderr",
     "output_type": "stream",
     "text": [
      "[Parallel(n_jobs=-1)]: Using backend LokyBackend with 16 concurrent workers.\n",
      "[Parallel(n_jobs=-1)]: Done   4 out of  15 | elapsed:   45.5s remaining:  2.1min\n",
      "[Parallel(n_jobs=-1)]: Done   8 out of  15 | elapsed:   52.4s remaining:   45.9s\n",
      "[Parallel(n_jobs=-1)]: Done  12 out of  15 | elapsed:  1.5min remaining:   22.1s\n",
      "[Parallel(n_jobs=-1)]: Done  15 out of  15 | elapsed:  1.5min finished\n"
     ]
    },
    {
     "name": "stdout",
     "output_type": "stream",
     "text": [
      "Best parameters scores:\n",
      "{'solver': 'newton-cg'}\n",
      "Train score witg Grid search: 0.6871516109052955\n",
      "Validation score with grid search: 0.6864653181304006\n"
     ]
    }
   ],
   "source": [
    "#logistic regression with GridSearchCV\n",
    "logistic_regres = LogisticRegression(random_state=42, n_jobs=-1)\n",
    "params = {\"solver\": [\"newton-cg\", \"sag\", \"saga\"]}\n",
    "grid = GridSearchCV(logistic_regres, params, n_jobs=-1, verbose=5)\n",
    "grid.fit(X_train, y_train)\n",
    "\n",
    "print(\"Best parameters scores:\")\n",
    "print(grid.best_params_)\n",
    "print(\"Train score witg Grid search:\", grid.score(X_train, y_train))\n",
    "print(\"Validation score with grid search:\", grid.score(X_val, y_val))"
   ]
  },
  {
   "cell_type": "code",
   "execution_count": 54,
   "metadata": {},
   "outputs": [
    {
     "name": "stdout",
     "output_type": "stream",
     "text": [
      "Accuracy of Logistic Regression classifier: 0.6864674686772846\n"
     ]
    }
   ],
   "source": [
    "accuracy['Logistic regression'] = metrics.accuracy_score(y_val, y_pred_Log_reg)\n",
    "print(\"Accuracy of Logistic Regression classifier:\",accuracy['Logistic regression'])\n",
    "f1['Logistic regression'] = f1_score(y_val, y_pred_Log_reg, average=\"macro\")"
   ]
  },
  {
   "cell_type": "markdown",
   "metadata": {},
   "source": [
    "#Support Vector Machines"
   ]
  },
  {
   "cell_type": "code",
   "execution_count": 55,
   "metadata": {},
   "outputs": [
    {
     "name": "stdout",
     "output_type": "stream",
     "text": [
      "train test split:  (1859990, 33) (464998, 33)\n"
     ]
    }
   ],
   "source": [
    "param = [{\"kernel\": [\"linear\", \"rbf\", \"sigmoid\"], \"C\": [.2, .5, .8, 1.]}, \n",
    "         {\"kernel\": [\"poly\"], \"C\": [.2, .5, .8, 1.], \"degree\": [2, 3, 4]}]\n",
    "\n",
    "svm_svc = svm.SVC(verbose=5, random_state=42)\n",
    "grid_search = GridSearchCV(svm_svc, param, verbose=5, n_jobs=-1)\n",
    "\n",
    "x, x_test = train_test_split(X, test_size=.2, random_state=42)\n",
    "print(\"train test split: \", x.shape, x_test.shape)"
   ]
  },
  {
   "cell_type": "code",
   "execution_count": 56,
   "metadata": {},
   "outputs": [
    {
     "name": "stdout",
     "output_type": "stream",
     "text": [
      "Fitting 5 folds for each of 24 candidates, totalling 120 fits\n"
     ]
    },
    {
     "name": "stderr",
     "output_type": "stream",
     "text": [
      "[Parallel(n_jobs=-1)]: Using backend LokyBackend with 16 concurrent workers.\n",
      "[Parallel(n_jobs=-1)]: Done  40 tasks      | elapsed:    8.5s\n",
      "[Parallel(n_jobs=-1)]: Done 114 out of 120 | elapsed:   16.6s remaining:    0.9s\n",
      "[Parallel(n_jobs=-1)]: Done 120 out of 120 | elapsed:   17.0s finished\n"
     ]
    },
    {
     "name": "stdout",
     "output_type": "stream",
     "text": [
      "[LibSVM]"
     ]
    },
    {
     "data": {
      "text/plain": [
       "GridSearchCV(estimator=SVC(random_state=42, verbose=5), n_jobs=-1,\n",
       "             param_grid=[{'C': [0.2, 0.5, 0.8, 1.0],\n",
       "                          'kernel': ['linear', 'rbf', 'sigmoid']},\n",
       "                         {'C': [0.2, 0.5, 0.8, 1.0], 'degree': [2, 3, 4],\n",
       "                          'kernel': ['poly']}],\n",
       "             verbose=5)"
      ]
     },
     "execution_count": 56,
     "metadata": {},
     "output_type": "execute_result"
    }
   ],
   "source": [
    "smpl = x.sample(5_000, random_state=42)\n",
    "y_smpl = smpl[\"Severity\"]\n",
    "x_smpl = smpl.drop(\"Severity\", axis=1)\n",
    "grid_search.fit(x_smpl, y_smpl)"
   ]
  },
  {
   "cell_type": "code",
   "execution_count": 57,
   "metadata": {},
   "outputs": [
    {
     "name": "stdout",
     "output_type": "stream",
     "text": [
      "top scores of parameters: {'C': 0.5, 'degree': 4, 'kernel': 'poly'}\n",
      "train score: 0.7298\n"
     ]
    }
   ],
   "source": [
    "print(\"top scores of parameters:\", grid_search.best_params_)\n",
    "print(\"train score:\", grid_search.score(x_smpl, y_smpl))"
   ]
  },
  {
   "cell_type": "code",
   "execution_count": 58,
   "metadata": {},
   "outputs": [
    {
     "name": "stdout",
     "output_type": "stream",
     "text": [
      "[LibSVM]default scores: SVC(random_state=42, verbose=5)\n",
      "train score: 0.7128\n"
     ]
    }
   ],
   "source": [
    "print(\"default scores:\", svm_svc.fit(x_smpl, y_smpl))\n",
    "print(\"train score:\", svm_svc.score(x_smpl, y_smpl))"
   ]
  },
  {
   "cell_type": "code",
   "execution_count": 59,
   "metadata": {},
   "outputs": [
    {
     "name": "stdout",
     "output_type": "stream",
     "text": [
      "train:  (8000, 32) (8000,)\n",
      "validation:  (2000, 32) (2000,)\n"
     ]
    }
   ],
   "source": [
    "#pd.DataFrame(grid_search.cv_results_).sort_values(by = \"rank_test_score\")\n",
    "smpl = x.sample(10_000, random_state = 42)\n",
    "y_smpl = smpl[\"Severity\"]\n",
    "x_smpl = smpl.drop(\"Severity\", axis=1)\n",
    "x_train, x_val, y_train, y_val = train_test_split(x_smpl, y_smpl, test_size = .2, random_state = 42)\n",
    "print(\"train: \", x_train.shape, y_train.shape)\n",
    "print(\"validation: \", x_val.shape, y_val.shape)"
   ]
  },
  {
   "cell_type": "code",
   "execution_count": 60,
   "metadata": {},
   "outputs": [
    {
     "data": {
      "text/plain": [
       "SVC(C=0.5, degree=4, kernel='poly', random_state=42)"
      ]
     },
     "execution_count": 60,
     "metadata": {},
     "output_type": "execute_result"
    }
   ],
   "source": [
    "svm_svc = svm.SVC(**grid_search.best_params_, random_state = 42)\n",
    "svm_svc.fit(x_train, y_train)"
   ]
  },
  {
   "cell_type": "code",
   "execution_count": 61,
   "metadata": {},
   "outputs": [
    {
     "name": "stdout",
     "output_type": "stream",
     "text": [
      "train:  0.7185\n",
      "validation:  0.706\n"
     ]
    }
   ],
   "source": [
    "print(\"train: \", svm_svc.score(x_train, y_train))\n",
    "print(\"validation: \", svm_svc.score(x_val, y_val))"
   ]
  },
  {
   "cell_type": "code",
   "execution_count": 62,
   "metadata": {},
   "outputs": [],
   "source": [
    "y_pred = svm_svc.predict(x_val)"
   ]
  },
  {
   "cell_type": "code",
   "execution_count": 63,
   "metadata": {},
   "outputs": [
    {
     "name": "stdout",
     "output_type": "stream",
     "text": [
      "              precision    recall  f1-score   support\n",
      "\n",
      "           1       0.77      0.62      0.69      4031\n",
      "           2       0.68      0.81      0.74      3969\n",
      "\n",
      "    accuracy                           0.72      8000\n",
      "   macro avg       0.73      0.72      0.72      8000\n",
      "weighted avg       0.73      0.72      0.72      8000\n",
      "\n",
      "              precision    recall  f1-score   support\n",
      "\n",
      "           1       0.74      0.61      0.67       980\n",
      "           2       0.68      0.79      0.73      1020\n",
      "\n",
      "    accuracy                           0.71      2000\n",
      "   macro avg       0.71      0.70      0.70      2000\n",
      "weighted avg       0.71      0.71      0.70      2000\n",
      "\n"
     ]
    }
   ],
   "source": [
    "print(classification_report(y_train, svm_svc.predict(x_train)))\n",
    "print(classification_report(y_val, y_pred))"
   ]
  },
  {
   "cell_type": "code",
   "execution_count": 64,
   "metadata": {},
   "outputs": [],
   "source": [
    "y_pred = svm_svc.predict(x_val)"
   ]
  },
  {
   "cell_type": "code",
   "execution_count": 65,
   "metadata": {},
   "outputs": [
    {
     "name": "stdout",
     "output_type": "stream",
     "text": [
      "Accuracy: 0.706\n"
     ]
    }
   ],
   "source": [
    "accuracy['Support Vector Machine'] = metrics.accuracy_score(y_val, y_pred)\n",
    "print(\"Accuracy:\",accuracy['Support Vector Machine'])\n",
    "f1['Support Vector Machine'] = f1_score(y_val, y_pred, average=\"macro\")\n",
    "#print(f1['Support Vector Machine'])"
   ]
  },
  {
   "cell_type": "code",
   "execution_count": 66,
   "metadata": {},
   "outputs": [],
   "source": [
    "#Comparing accuracy of each model"
   ]
  },
  {
   "cell_type": "code",
   "execution_count": 67,
   "metadata": {},
   "outputs": [
    {
     "name": "stderr",
     "output_type": "stream",
     "text": [
      "/opt/anaconda3/lib/python3.8/site-packages/seaborn/_decorators.py:36: FutureWarning: Pass the following variables as keyword args: x, y. From version 0.12, the only valid positional argument will be `data`, and passing other arguments without an explicit keyword will result in an error or misinterpretation.\n",
      "  warnings.warn(\n"
     ]
    },
    {
     "data": {
      "image/png": "[encoded data removed]",
      "text/plain": [
       "<Figure size 1440x576 with 1 Axes>"
      ]
     },
     "metadata": {
      "needs_background": "light"
     },
     "output_type": "display_data"
    }
   ],
   "source": [
    "plt.figure(figsize=(20, 8))\n",
    "plt.title(\"Accuracy on Validation set for each model\")\n",
    "sns.barplot(list(range(len(accuracy))), list(accuracy.values()))\n",
    "plt.xticks(range(len(accuracy)), labels=accuracy.keys())\n",
    "plt.show()"
   ]
  },
  {
   "cell_type": "code",
   "execution_count": 68,
   "metadata": {},
   "outputs": [],
   "source": [
    "#Comparing f1 score of each model"
   ]
  },
  {
   "cell_type": "code",
   "execution_count": 69,
   "metadata": {},
   "outputs": [
    {
     "name": "stderr",
     "output_type": "stream",
     "text": [
      "/opt/anaconda3/lib/python3.8/site-packages/seaborn/_decorators.py:36: FutureWarning: Pass the following variables as keyword args: x, y. From version 0.12, the only valid positional argument will be `data`, and passing other arguments without an explicit keyword will result in an error or misinterpretation.\n",
      "  warnings.warn(\n"
     ]
    },
    {
     "data": {
      "image/png": "[encoded data removed]",
      "text/plain": [
       "<Figure size 1440x576 with 1 Axes>"
      ]
     },
     "metadata": {
      "needs_background": "light"
     },
     "output_type": "display_data"
    }
   ],
   "source": [
    "plt.figure(figsize=(20, 8))\n",
    "plt.title(\"F1 score on Validation set for each model\")\n",
    "sns.barplot(list(range(len(f1))), list(f1.values()))\n",
    "plt.xticks(range(len(f1)), labels=f1.keys())\n",
    "plt.show()"
   ]
  },
  {
   "cell_type": "code",
   "execution_count": 70,
   "metadata": {},
   "outputs": [],
   "source": [
    "#Testing sample data on the model we got the best F1 score - Random Forest"
   ]
  },
  {
   "cell_type": "code",
   "execution_count": 71,
   "metadata": {},
   "outputs": [
    {
     "name": "stdout",
     "output_type": "stream",
     "text": [
      "              precision    recall  f1-score   support\n",
      "\n",
      "           1       0.85      0.78      0.81    232249\n",
      "           2       0.79      0.86      0.83    232749\n",
      "\n",
      "    accuracy                           0.82    464998\n",
      "   macro avg       0.82      0.82      0.82    464998\n",
      "weighted avg       0.82      0.82      0.82    464998\n",
      "\n",
      "Accuracy:  0.8181454543890512\n",
      "F1 score:  0.8178061784264817\n"
     ]
    }
   ],
   "source": [
    "smpl_test_data = X1_test_data\n",
    "y_smpl_test_data = smpl_test_data[\"Severity\"]\n",
    "X_smpl_test_data = smpl_test_data.drop(\"Severity\", axis=1)\n",
    "\n",
    "y_pred_ran_for = rand_Forest.predict(X_smpl_test_data)\n",
    "print(classification_report(y_smpl_test_data, y_pred_ran_for))\n",
    "print(\"Accuracy: \",metrics.accuracy_score(y_smpl_test_data, y_pred_ran_for))\n",
    "print(\"F1 score: \",f1_score(y_smpl_test_data, y_pred_ran_for, average=\"macro\"))\n",
    "#con_mat = confusion_matrix(y_true=y_smpl_test_data, y_pred=y_pred_ran_for)\n",
    "#print(con_mat)"
   ]
  },
  {
   "cell_type": "code",
   "execution_count": 62,
   "metadata": {},
   "outputs": [],
   "source": []
  }
 ],
 "metadata": {
  "kernelspec": {
   "display_name": "Python 3",
   "language": "python",
   "name": "python3"
  },
  "language_info": {
   "codemirror_mode": {
    "name": "ipython",
    "version": 3
   },
   "file_extension": ".py",
   "mimetype": "text/x-python",
   "name": "python",
   "nbconvert_exporter": "python",
   "pygments_lexer": "ipython3",
   "version": "3.8.2"
  }
 },
 "nbformat": 4,
 "nbformat_minor": 4
}
