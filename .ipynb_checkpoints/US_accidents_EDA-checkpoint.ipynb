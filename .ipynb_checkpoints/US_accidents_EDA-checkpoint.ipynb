{
 "cells": [
  {
   "cell_type": "markdown",
   "metadata": {},
   "source": [
    "<b>ID</b>: This is a unique identifier of the accident record.\n",
    "\n",
    "<b>Source</b>: Indicates source of the accident report (i.e. the API which reported the accident.).\n",
    "\n",
    "<b>TMC</b>: A traffic accident may have a Traffic Message Channel (TMC) code which provides more detailed description of the event.\n",
    "\n",
    "<b>Severity</b>: Shows the severity of the accident, a number between 1 and 4, where 1 indicates the least impact on traffic (i.e., short delay as a result of the accident) and 4 indicates a significant impact on traffic (i.e., long delay).\n",
    "\n",
    "<b>Start_Time</b>: Shows start time of the accident in local time zone.\n",
    "\n",
    "<b>End_Time</b>: Shows end time of the accident in local time zone.\n",
    "\n",
    "<b>Start_Lat</b>: Shows latitude in GPS coordinate of the start point.\n",
    "\n",
    "<b>Start_Lng</b>: Shows longitude in GPS coordinate of the start point.\n",
    "\n",
    "<b>End_Lat</b>: Shows latitude in GPS coordinate of the end point.\n",
    "\n",
    "<b>End_Lng</b>: Shows longitude in GPS coordinate of the end point.\n",
    "\n",
    "<b>Distance(mi)</b>: The length of the road extent affected by the accident.\n",
    "\n",
    "<b>Description</b>: Shows natural language description of the accident.\n",
    "\n",
    "Address Attributes (9):\n",
    "\n",
    "</b>Number</b>: Shows the street number in address field.\n",
    "\n",
    "</b>Street</b>: Shows the street name in address field.\n",
    "\n",
    "<b>Side</b>: Shows the relative side of the street (Right/Left) in address field.\n",
    "\n",
    "<b>City</b>: Shows the city in address field.\n",
    "\n",
    "<b>County</b>: Shows the county in address field.\n",
    "\n",
    "<b>State</b>: Shows the state in address field.\n",
    "\n",
    "<b>Zipcode</b>: Shows the zipcode in address field.\n",
    "\n",
    "Country: Shows the country in address field.\n",
    "\n",
    "Timezone: Shows timezone based on the location of the accident (eastern, central, etc.).\n",
    "\n",
    "Weather Attributes (11):\n",
    "\n",
    "Airport_Code: Denotes an airport-based weather station which is the closest one to location of the accident.\n",
    "\n",
    "Weather_Timestamp: Shows the time-stamp of weather observation record (in local time).\n",
    "\n",
    "Temperature(F): Shows the temperature (in Fahrenheit).\n",
    "\n",
    "Wind_Chill(F): Shows the wind chill (in Fahrenheit).\n",
    "\n",
    "Humidity(%): Shows the humidity (in percentage).\n",
    "\n",
    "Pressure(in): Shows the air pressure (in inches).\n",
    "\n",
    "Visibility(mi): Shows visibility (in miles).\n",
    "\n",
    "Wind_Direction: Shows wind direction.\n",
    "\n",
    "Wind_Speed(mph): Shows wind speed (in miles per hour).\n",
    "\n",
    "Precipitation(in): Shows precipitation amount in inches, if there is any.\n",
    "\n",
    "Weather_Condition: Shows the weather condition (rain, snow, thunderstorm, fog, etc.).\n",
    "\n",
    "POI Attributes (13):\n",
    "\n",
    "Amenity: A Point-Of-Interest (POI) annotation which indicates presence of amenity in a nearby location.\n",
    "\n",
    "Bump: A POI annotation which indicates presence of speed bump or hump in a nearby location.\n",
    "\n",
    "Crossing: A POI annotation which indicates presence of crossing in a nearby location.\n",
    "\n",
    "Give_Way: A POI annotation which indicates presence of give_way sign in a nearby location.\n",
    "\n",
    "Junction: A POI annotation which indicates presence of junction in a nearby location.\n",
    "\n",
    "No_Exit: A POI annotation which indicates presence of no_exit sign in a nearby location.\n",
    "\n",
    "Railway: A POI annotation which indicates presence of railway in a nearby location.\n",
    "\n",
    "Roundabout: A POI annotation which indicates presence of roundabout in a nearby location.\n",
    "\n",
    "Station: A POI annotation which indicates presence of station (bus, train, etc.) in a nearby location.\n",
    "\n",
    "Stop: A POI annotation which indicates presence of stop sign in a nearby location.\n",
    "\n",
    "Traffic_Calming: A POI annotation which indicates presence of traffic_calming means in a nearby location.\n",
    "\n",
    "Traffic_Signal: A POI annotation which indicates presence of traffic_signal in a nearby location.\n",
    "\n",
    "Turning_Loop: A POI annotation which indicates presence of turning_loop in a nearby location.\n",
    "\n",
    "Period-of-Day (4):\n",
    "\n",
    "<b>Sunrise_Sunset</b>: Shows the period of day (i.e. day or night) based on sunrise/sunset.\n",
    "\n",
    "<b>Civil_Twilight</b>: Shows the period of day (i.e. day or night) based on civil twilight.\n",
    "\n",
    "<b>Nautical_Twilight</b>: Shows the period of day (i.e. day or night) based on nautical twilight.\n",
    "\n",
    "<b>Astronomical_Twilight</b>: Shows the period of day (i.e. day or night) based on astronomical twilight."
   ]
  },
  {
   "cell_type": "code",
   "execution_count": 1,
   "metadata": {},
   "outputs": [],
   "source": [
    "import numpy as np \n",
    "import pandas as pd \n",
    "import json\n",
    "import matplotlib\n",
    "import matplotlib.pyplot as plt\n",
    "from matplotlib import cm\n",
    "from datetime import datetime\n",
    "import glob\n",
    "from scipy.stats import boxcox\n"
   ]
  },
  {
   "cell_type": "code",
   "execution_count": null,
   "metadata": {},
   "outputs": [],
   "source": [
    "df = pd.read_csv('US_Accidents_Dec20.csv')\n",
    "print(\"The shape of data is:\",(df.shape))\n",
    "display(df.head(3))\n"
   ]
  },
  {
   "cell_type": "code",
   "execution_count": null,
   "metadata": {},
   "outputs": [],
   "source": [
    "df.dtypes\n"
   ]
  },
  {
   "cell_type": "code",
   "execution_count": null,
   "metadata": {},
   "outputs": [],
   "source": [
    "df.isnull().sum()\n"
   ]
  },
  {
   "cell_type": "markdown",
   "metadata": {},
   "source": [
    "this will give us the count of accidents per state"
   ]
  },
  {
   "cell_type": "code",
   "execution_count": null,
   "metadata": {},
   "outputs": [],
   "source": [
    "state_wise_counts = df.groupby('State')['ID'].count().reset_index()\n"
   ]
  },
  {
   "cell_type": "code",
   "execution_count": null,
   "metadata": {},
   "outputs": [],
   "source": [
    "state_wise_counts.shape\n"
   ]
  },
  {
   "cell_type": "code",
   "execution_count": null,
   "metadata": {},
   "outputs": [],
   "source": [
    "state_wise_counts = state_wise_counts.sort_values(by = \"ID\",ascending=False)\n"
   ]
  },
  {
   "cell_type": "code",
   "execution_count": null,
   "metadata": {},
   "outputs": [],
   "source": [
    "state_wise_counts.head()\n"
   ]
  },
  {
   "cell_type": "code",
   "execution_count": null,
   "metadata": {},
   "outputs": [],
   "source": [
    "import seaborn as sns\n",
    "import matplotlib.pyplot as plt\n",
    "sns.set(style=\"whitegrid\")\n"
   ]
  },
  {
   "cell_type": "code",
   "execution_count": null,
   "metadata": {},
   "outputs": [],
   "source": [
    "f, ax = plt.subplots(figsize=(9, 15))\n",
    "sns.barplot(y=\"State\", x=\"ID\", data=state_wise_counts, palette=\"gist_stern\")\n"
   ]
  },
  {
   "cell_type": "markdown",
   "metadata": {},
   "source": [
    " analyze which are the most frequent road features in accidents"
   ]
  },
  {
   "cell_type": "code",
   "execution_count": null,
   "metadata": {},
   "outputs": [],
   "source": [
    "road_features = [\"Amenity\", \"Bump\", \"Crossing\", \"Give_Way\", \"Junction\", \"No_Exit\", \"Railway\", \"Roundabout\", \"Station\", \"Stop\", \"Traffic_Calming\", \"Traffic_Signal\", \"Turning_Loop\"]\n",
    "data = df[road_features].sum().sort_values(ascending=False)\n",
    "\n",
    "plt.figure(figsize=(18, 8))\n",
    "plt.title(\"Most frequent road features\")\n",
    "sns.barplot(data.values, data.index, color='cyan')\n",
    "plt.xlabel(\"count\")\n",
    "plt.ylabel(\"Condtions\")\n",
    "plt.show()"
   ]
  },
  {
   "cell_type": "code",
   "execution_count": null,
   "metadata": {},
   "outputs": [],
   "source": [
    "counts = df[\"Weather_Condition\"].value_counts()[:15]\n",
    "plt.figure(figsize=(20, 8))\n",
    "\n",
    "plt.title(\"Histogram distribution of the top 15 weather conditions\")\n",
    "sns.barplot(counts.index, counts.values, palette=\"Paired\")\n",
    "plt.xlabel(\"Weather Condition\")\n",
    "plt.ylabel(\"Count\")\n",
    "plt.show()\n"
   ]
  },
  {
   "cell_type": "code",
   "execution_count": null,
   "metadata": {},
   "outputs": [],
   "source": [
    "for s in np.arange(1,5):\n",
    "    plt.subplots(figsize=(12,5))\n",
    "    df.loc[df[\"Severity\"] == s]['Weather_Condition'].value_counts().sort_values(ascending=False).head(20).plot.bar(width=0.5,color='r',edgecolor='k',align='center',linewidth=1)\n",
    "    plt.xlabel('Weather Condition',fontsize=10)\n",
    "    plt.ylabel('Accident Count',fontsize=10)\n",
    "    plt.title('20 Most frequent Weather Conditions for Accidents of Severity ' + str(s),fontsize=15)\n",
    "    plt.xticks(fontsize=10)\n",
    "    plt.yticks(fontsize=10)"
   ]
  },
  {
   "cell_type": "code",
   "execution_count": null,
   "metadata": {},
   "outputs": [],
   "source": [
    "counts = pd.to_datetime(df['Start_Time']).dt.day_name().value_counts()\n",
    "weekdays = [\"Monday\", \"Tuesday\", \"Wednesday\", \"Thursday\", \"Friday\", \"Saturday\", \"Sunday\"]\n",
    "\n",
    "plt.figure(figsize=(20, 8))\n",
    "plt.title(\"Number of accidents for each day in a week\")\n",
    "sns.barplot(counts.index, counts.values, order=weekdays)\n",
    "plt.xlabel(\"Weekday\")\n",
    "plt.ylabel(\"Value\")\n",
    "plt.show()\n"
   ]
  },
  {
   "cell_type": "code",
   "execution_count": null,
   "metadata": {},
   "outputs": [],
   "source": [
    "df_time = df.loc[:,['ID', 'Start_Time', 'End_Time']]  # converting start end time to date time format\n",
    "df_time['Start_Time'] = pd.to_datetime(df_time['Start_Time'])\n",
    "df_time['End_Time'] = pd.to_datetime(df_time['End_Time'])\n",
    "df_time.info()\n"
   ]
  },
  {
   "cell_type": "code",
   "execution_count": null,
   "metadata": {},
   "outputs": [],
   "source": [
    "df_time['Start_hour'] = df_time['Start_Time'].dt.hour\n",
    "hours = df_time.groupby(['Start_hour']).count()\n",
    "\n",
    "hours"
   ]
  },
  {
   "cell_type": "code",
   "execution_count": null,
   "metadata": {},
   "outputs": [],
   "source": [
    "f, ax = plt.subplots(figsize = (18, 10))\n",
    "sns.barplot(x = hours.index, y = 'Start_Time', data = hours, color='green')\n",
    "plt.xlabel('Time of accident (hour)', labelpad = 10, fontsize=12, weight='bold')\n",
    "plt.ylabel('Number of accidents', labelpad = 10, fontsize=12, weight='bold')\n",
    "plt.title('Time when accident usually oocur in the US', fontsize = 15, weight = 'bold')\n"
   ]
  },
  {
   "cell_type": "markdown",
   "metadata": {},
   "source": [
    "As We Can See Most Accident Occurs in the Morning Between 6am to 10 Am. As people leave to their Work in hurry.\n",
    "\n",
    "Next Highest Percentage is between 3pm to 6pm"
   ]
  },
  {
   "cell_type": "code",
   "execution_count": null,
   "metadata": {},
   "outputs": [],
   "source": [
    "\n",
    "import plotly.graph_objects as go\n",
    "import matplotlib.ticker as ticker\n",
    "\n",
    "\n",
    "%matplotlib inline\n"
   ]
  },
  {
   "cell_type": "code",
   "execution_count": null,
   "metadata": {},
   "outputs": [],
   "source": [
    "df_st_ct = pd.value_counts(df['State'])\n",
    "\n",
    "fig = go.Figure(data=go.Choropleth(\n",
    "    locations=df_st_ct.index,\n",
    "    z = df_st_ct.values.astype(float),  # Data to be color-coded\n",
    "    locationmode = 'USA-states',     # set of locations match entries in `locations`\n",
    "    colorscale = 'darkmint',\n",
    "    colorbar_title = \"Count\",\n",
    "))\n",
    "\n",
    "fig.update_layout(\n",
    "    title_text = 'US Accidents by State',\n",
    "    geo_scope='usa', # limite map scope to USA\n",
    ")\n",
    "\n",
    "fig.show()\n"
   ]
  },
  {
   "cell_type": "code",
   "execution_count": null,
   "metadata": {},
   "outputs": [],
   "source": []
  }
 ],
 "metadata": {
  "kernelspec": {
   "display_name": "Python 3",
   "language": "python",
   "name": "python3"
  },
  "language_info": {
   "codemirror_mode": {
    "name": "ipython",
    "version": 3
   },
   "file_extension": ".py",
   "mimetype": "text/x-python",
   "name": "python",
   "nbconvert_exporter": "python",
   "pygments_lexer": "ipython3",
   "version": "3.7.6"
  }
 },
 "nbformat": 4,
 "nbformat_minor": 4
}
