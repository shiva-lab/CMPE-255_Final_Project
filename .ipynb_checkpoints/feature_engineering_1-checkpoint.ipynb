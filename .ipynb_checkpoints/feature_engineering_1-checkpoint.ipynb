{
 "cells": [
  {
   "cell_type": "code",
   "execution_count": 1,
   "metadata": {},
   "outputs": [],
   "source": [
    "import pandas as pd \n",
    "import numpy as np\n",
    "import seaborn as sns\n",
    "from sklearn import preprocessing\n",
    "import matplotlib\n",
    "import matplotlib.pyplot as plt"
   ]
  },
  {
   "cell_type": "raw",
   "metadata": {},
   "source": [
    "#Read CSV file"
   ]
  },
  {
   "cell_type": "code",
   "execution_count": 2,
   "metadata": {},
   "outputs": [
    {
     "name": "stdout",
     "output_type": "stream",
     "text": [
      "The shape of data is: (4232541, 49)\n"
     ]
    },
    {
     "data": {
      "text/html": [
       "<div>\n",
       "<style scoped>\n",
       "    .dataframe tbody tr th:only-of-type {\n",
       "        vertical-align: middle;\n",
       "    }\n",
       "\n",
       "    .dataframe tbody tr th {\n",
       "        vertical-align: top;\n",
       "    }\n",
       "\n",
       "    .dataframe thead th {\n",
       "        text-align: right;\n",
       "    }\n",
       "</style>\n",
       "<table border=\"1\" class=\"dataframe\">\n",
       "  <thead>\n",
       "    <tr style=\"text-align: right;\">\n",
       "      <th></th>\n",
       "      <th>ID</th>\n",
       "      <th>Source</th>\n",
       "      <th>TMC</th>\n",
       "      <th>Severity</th>\n",
       "      <th>Start_Time</th>\n",
       "      <th>End_Time</th>\n",
       "      <th>Start_Lat</th>\n",
       "      <th>Start_Lng</th>\n",
       "      <th>End_Lat</th>\n",
       "      <th>End_Lng</th>\n",
       "      <th>...</th>\n",
       "      <th>Roundabout</th>\n",
       "      <th>Station</th>\n",
       "      <th>Stop</th>\n",
       "      <th>Traffic_Calming</th>\n",
       "      <th>Traffic_Signal</th>\n",
       "      <th>Turning_Loop</th>\n",
       "      <th>Sunrise_Sunset</th>\n",
       "      <th>Civil_Twilight</th>\n",
       "      <th>Nautical_Twilight</th>\n",
       "      <th>Astronomical_Twilight</th>\n",
       "    </tr>\n",
       "  </thead>\n",
       "  <tbody>\n",
       "    <tr>\n",
       "      <td>0</td>\n",
       "      <td>A-1</td>\n",
       "      <td>MapQuest</td>\n",
       "      <td>201.0</td>\n",
       "      <td>3</td>\n",
       "      <td>2016-02-08 05:46:00</td>\n",
       "      <td>2016-02-08 11:00:00</td>\n",
       "      <td>39.865147</td>\n",
       "      <td>-84.058723</td>\n",
       "      <td>NaN</td>\n",
       "      <td>NaN</td>\n",
       "      <td>...</td>\n",
       "      <td>False</td>\n",
       "      <td>False</td>\n",
       "      <td>False</td>\n",
       "      <td>False</td>\n",
       "      <td>False</td>\n",
       "      <td>False</td>\n",
       "      <td>Night</td>\n",
       "      <td>Night</td>\n",
       "      <td>Night</td>\n",
       "      <td>Night</td>\n",
       "    </tr>\n",
       "    <tr>\n",
       "      <td>1</td>\n",
       "      <td>A-2</td>\n",
       "      <td>MapQuest</td>\n",
       "      <td>201.0</td>\n",
       "      <td>2</td>\n",
       "      <td>2016-02-08 06:07:59</td>\n",
       "      <td>2016-02-08 06:37:59</td>\n",
       "      <td>39.928059</td>\n",
       "      <td>-82.831184</td>\n",
       "      <td>NaN</td>\n",
       "      <td>NaN</td>\n",
       "      <td>...</td>\n",
       "      <td>False</td>\n",
       "      <td>False</td>\n",
       "      <td>False</td>\n",
       "      <td>False</td>\n",
       "      <td>False</td>\n",
       "      <td>False</td>\n",
       "      <td>Night</td>\n",
       "      <td>Night</td>\n",
       "      <td>Night</td>\n",
       "      <td>Day</td>\n",
       "    </tr>\n",
       "    <tr>\n",
       "      <td>2</td>\n",
       "      <td>A-3</td>\n",
       "      <td>MapQuest</td>\n",
       "      <td>201.0</td>\n",
       "      <td>2</td>\n",
       "      <td>2016-02-08 06:49:27</td>\n",
       "      <td>2016-02-08 07:19:27</td>\n",
       "      <td>39.063148</td>\n",
       "      <td>-84.032608</td>\n",
       "      <td>NaN</td>\n",
       "      <td>NaN</td>\n",
       "      <td>...</td>\n",
       "      <td>False</td>\n",
       "      <td>False</td>\n",
       "      <td>False</td>\n",
       "      <td>False</td>\n",
       "      <td>True</td>\n",
       "      <td>False</td>\n",
       "      <td>Night</td>\n",
       "      <td>Night</td>\n",
       "      <td>Day</td>\n",
       "      <td>Day</td>\n",
       "    </tr>\n",
       "  </tbody>\n",
       "</table>\n",
       "<p>3 rows × 49 columns</p>\n",
       "</div>"
      ],
      "text/plain": [
       "    ID    Source    TMC  Severity           Start_Time             End_Time  \\\n",
       "0  A-1  MapQuest  201.0         3  2016-02-08 05:46:00  2016-02-08 11:00:00   \n",
       "1  A-2  MapQuest  201.0         2  2016-02-08 06:07:59  2016-02-08 06:37:59   \n",
       "2  A-3  MapQuest  201.0         2  2016-02-08 06:49:27  2016-02-08 07:19:27   \n",
       "\n",
       "   Start_Lat  Start_Lng  End_Lat  End_Lng  ...  Roundabout Station   Stop  \\\n",
       "0  39.865147 -84.058723      NaN      NaN  ...       False   False  False   \n",
       "1  39.928059 -82.831184      NaN      NaN  ...       False   False  False   \n",
       "2  39.063148 -84.032608      NaN      NaN  ...       False   False  False   \n",
       "\n",
       "  Traffic_Calming Traffic_Signal Turning_Loop Sunrise_Sunset Civil_Twilight  \\\n",
       "0           False          False        False          Night          Night   \n",
       "1           False          False        False          Night          Night   \n",
       "2           False           True        False          Night          Night   \n",
       "\n",
       "  Nautical_Twilight Astronomical_Twilight  \n",
       "0             Night                 Night  \n",
       "1             Night                   Day  \n",
       "2               Day                   Day  \n",
       "\n",
       "[3 rows x 49 columns]"
      ]
     },
     "metadata": {},
     "output_type": "display_data"
    }
   ],
   "source": [
    "df = pd.read_csv('US_Accidents_Dec20.csv')\n",
    "print(\"The shape of data is:\",(df.shape))\n",
    "display(df.head(3))"
   ]
  },
  {
   "cell_type": "markdown",
   "metadata": {},
   "source": [
    "#Split 'Start_Time' attributes"
   ]
  },
  {
   "cell_type": "code",
   "execution_count": 3,
   "metadata": {
    "scrolled": true
   },
   "outputs": [
    {
     "data": {
      "text/html": [
       "<div>\n",
       "<style scoped>\n",
       "    .dataframe tbody tr th:only-of-type {\n",
       "        vertical-align: middle;\n",
       "    }\n",
       "\n",
       "    .dataframe tbody tr th {\n",
       "        vertical-align: top;\n",
       "    }\n",
       "\n",
       "    .dataframe thead th {\n",
       "        text-align: right;\n",
       "    }\n",
       "</style>\n",
       "<table border=\"1\" class=\"dataframe\">\n",
       "  <thead>\n",
       "    <tr style=\"text-align: right;\">\n",
       "      <th></th>\n",
       "      <th>ID</th>\n",
       "      <th>Source</th>\n",
       "      <th>TMC</th>\n",
       "      <th>Severity</th>\n",
       "      <th>Start_Time</th>\n",
       "      <th>End_Time</th>\n",
       "      <th>Start_Lat</th>\n",
       "      <th>Start_Lng</th>\n",
       "      <th>End_Lat</th>\n",
       "      <th>End_Lng</th>\n",
       "      <th>...</th>\n",
       "      <th>Sunrise_Sunset</th>\n",
       "      <th>Civil_Twilight</th>\n",
       "      <th>Nautical_Twilight</th>\n",
       "      <th>Astronomical_Twilight</th>\n",
       "      <th>Hour</th>\n",
       "      <th>Minute</th>\n",
       "      <th>Year</th>\n",
       "      <th>Month</th>\n",
       "      <th>Weekday</th>\n",
       "      <th>Day</th>\n",
       "    </tr>\n",
       "  </thead>\n",
       "  <tbody>\n",
       "    <tr>\n",
       "      <td>0</td>\n",
       "      <td>A-1</td>\n",
       "      <td>MapQuest</td>\n",
       "      <td>201.0</td>\n",
       "      <td>3</td>\n",
       "      <td>2016-02-08 05:46:00</td>\n",
       "      <td>2016-02-08 11:00:00</td>\n",
       "      <td>39.865147</td>\n",
       "      <td>-84.058723</td>\n",
       "      <td>NaN</td>\n",
       "      <td>NaN</td>\n",
       "      <td>...</td>\n",
       "      <td>Night</td>\n",
       "      <td>Night</td>\n",
       "      <td>Night</td>\n",
       "      <td>Night</td>\n",
       "      <td>5</td>\n",
       "      <td>46</td>\n",
       "      <td>2016</td>\n",
       "      <td>2</td>\n",
       "      <td>0</td>\n",
       "      <td>8</td>\n",
       "    </tr>\n",
       "    <tr>\n",
       "      <td>1</td>\n",
       "      <td>A-2</td>\n",
       "      <td>MapQuest</td>\n",
       "      <td>201.0</td>\n",
       "      <td>2</td>\n",
       "      <td>2016-02-08 06:07:59</td>\n",
       "      <td>2016-02-08 06:37:59</td>\n",
       "      <td>39.928059</td>\n",
       "      <td>-82.831184</td>\n",
       "      <td>NaN</td>\n",
       "      <td>NaN</td>\n",
       "      <td>...</td>\n",
       "      <td>Night</td>\n",
       "      <td>Night</td>\n",
       "      <td>Night</td>\n",
       "      <td>Day</td>\n",
       "      <td>6</td>\n",
       "      <td>7</td>\n",
       "      <td>2016</td>\n",
       "      <td>2</td>\n",
       "      <td>0</td>\n",
       "      <td>8</td>\n",
       "    </tr>\n",
       "    <tr>\n",
       "      <td>2</td>\n",
       "      <td>A-3</td>\n",
       "      <td>MapQuest</td>\n",
       "      <td>201.0</td>\n",
       "      <td>2</td>\n",
       "      <td>2016-02-08 06:49:27</td>\n",
       "      <td>2016-02-08 07:19:27</td>\n",
       "      <td>39.063148</td>\n",
       "      <td>-84.032608</td>\n",
       "      <td>NaN</td>\n",
       "      <td>NaN</td>\n",
       "      <td>...</td>\n",
       "      <td>Night</td>\n",
       "      <td>Night</td>\n",
       "      <td>Day</td>\n",
       "      <td>Day</td>\n",
       "      <td>6</td>\n",
       "      <td>49</td>\n",
       "      <td>2016</td>\n",
       "      <td>2</td>\n",
       "      <td>0</td>\n",
       "      <td>8</td>\n",
       "    </tr>\n",
       "    <tr>\n",
       "      <td>3</td>\n",
       "      <td>A-4</td>\n",
       "      <td>MapQuest</td>\n",
       "      <td>201.0</td>\n",
       "      <td>3</td>\n",
       "      <td>2016-02-08 07:23:34</td>\n",
       "      <td>2016-02-08 07:53:34</td>\n",
       "      <td>39.747753</td>\n",
       "      <td>-84.205582</td>\n",
       "      <td>NaN</td>\n",
       "      <td>NaN</td>\n",
       "      <td>...</td>\n",
       "      <td>Night</td>\n",
       "      <td>Day</td>\n",
       "      <td>Day</td>\n",
       "      <td>Day</td>\n",
       "      <td>7</td>\n",
       "      <td>23</td>\n",
       "      <td>2016</td>\n",
       "      <td>2</td>\n",
       "      <td>0</td>\n",
       "      <td>8</td>\n",
       "    </tr>\n",
       "    <tr>\n",
       "      <td>4</td>\n",
       "      <td>A-5</td>\n",
       "      <td>MapQuest</td>\n",
       "      <td>201.0</td>\n",
       "      <td>2</td>\n",
       "      <td>2016-02-08 07:39:07</td>\n",
       "      <td>2016-02-08 08:09:07</td>\n",
       "      <td>39.627781</td>\n",
       "      <td>-84.188354</td>\n",
       "      <td>NaN</td>\n",
       "      <td>NaN</td>\n",
       "      <td>...</td>\n",
       "      <td>Day</td>\n",
       "      <td>Day</td>\n",
       "      <td>Day</td>\n",
       "      <td>Day</td>\n",
       "      <td>7</td>\n",
       "      <td>39</td>\n",
       "      <td>2016</td>\n",
       "      <td>2</td>\n",
       "      <td>0</td>\n",
       "      <td>8</td>\n",
       "    </tr>\n",
       "  </tbody>\n",
       "</table>\n",
       "<p>5 rows × 55 columns</p>\n",
       "</div>"
      ],
      "text/plain": [
       "    ID    Source    TMC  Severity          Start_Time             End_Time  \\\n",
       "0  A-1  MapQuest  201.0         3 2016-02-08 05:46:00  2016-02-08 11:00:00   \n",
       "1  A-2  MapQuest  201.0         2 2016-02-08 06:07:59  2016-02-08 06:37:59   \n",
       "2  A-3  MapQuest  201.0         2 2016-02-08 06:49:27  2016-02-08 07:19:27   \n",
       "3  A-4  MapQuest  201.0         3 2016-02-08 07:23:34  2016-02-08 07:53:34   \n",
       "4  A-5  MapQuest  201.0         2 2016-02-08 07:39:07  2016-02-08 08:09:07   \n",
       "\n",
       "   Start_Lat  Start_Lng  End_Lat  End_Lng  ...  Sunrise_Sunset Civil_Twilight  \\\n",
       "0  39.865147 -84.058723      NaN      NaN  ...           Night          Night   \n",
       "1  39.928059 -82.831184      NaN      NaN  ...           Night          Night   \n",
       "2  39.063148 -84.032608      NaN      NaN  ...           Night          Night   \n",
       "3  39.747753 -84.205582      NaN      NaN  ...           Night            Day   \n",
       "4  39.627781 -84.188354      NaN      NaN  ...             Day            Day   \n",
       "\n",
       "   Nautical_Twilight Astronomical_Twilight Hour Minute  Year Month Weekday Day  \n",
       "0              Night                 Night    5     46  2016     2       0   8  \n",
       "1              Night                   Day    6      7  2016     2       0   8  \n",
       "2                Day                   Day    6     49  2016     2       0   8  \n",
       "3                Day                   Day    7     23  2016     2       0   8  \n",
       "4                Day                   Day    7     39  2016     2       0   8  \n",
       "\n",
       "[5 rows x 55 columns]"
      ]
     },
     "execution_count": 3,
     "metadata": {},
     "output_type": "execute_result"
    }
   ],
   "source": [
    "#split 'Start-Time attribute into Year,month,weekday,day,hours and minutes'\n",
    "df[\"Start_Time\"] = pd.to_datetime(df[\"Start_Time\"])\n",
    "df[\"Hour\"] = df[\"Start_Time\"].dt.hour\n",
    "df[\"Minute\"] = df[\"Start_Time\"].dt.minute\n",
    "df[\"Year\"] = df[\"Start_Time\"].dt.year\n",
    "df[\"Month\"] = df[\"Start_Time\"].dt.month\n",
    "df[\"Weekday\"] = df[\"Start_Time\"].dt.weekday\n",
    "df[\"Day\"] = df[\"Start_Time\"].dt.day\n",
    "df.head()"
   ]
  },
  {
   "cell_type": "code",
   "execution_count": 4,
   "metadata": {},
   "outputs": [
    {
     "data": {
      "text/plain": [
       "Index(['ID', 'Source', 'TMC', 'Severity', 'Start_Time', 'End_Time',\n",
       "       'Start_Lat', 'Start_Lng', 'End_Lat', 'End_Lng', 'Distance(mi)',\n",
       "       'Description', 'Number', 'Street', 'Side', 'City', 'County', 'State',\n",
       "       'Zipcode', 'Country', 'Timezone', 'Airport_Code', 'Weather_Timestamp',\n",
       "       'Temperature(F)', 'Wind_Chill(F)', 'Humidity(%)', 'Pressure(in)',\n",
       "       'Visibility(mi)', 'Wind_Direction', 'Wind_Speed(mph)',\n",
       "       'Precipitation(in)', 'Weather_Condition', 'Amenity', 'Bump', 'Crossing',\n",
       "       'Give_Way', 'Junction', 'No_Exit', 'Railway', 'Roundabout', 'Station',\n",
       "       'Stop', 'Traffic_Calming', 'Traffic_Signal', 'Turning_Loop',\n",
       "       'Sunrise_Sunset', 'Civil_Twilight', 'Nautical_Twilight',\n",
       "       'Astronomical_Twilight', 'Hour', 'Minute', 'Year', 'Month', 'Weekday',\n",
       "       'Day'],\n",
       "      dtype='object')"
      ]
     },
     "execution_count": 4,
     "metadata": {},
     "output_type": "execute_result"
    }
   ],
   "source": [
    "df.columns"
   ]
  },
  {
   "cell_type": "markdown",
   "metadata": {},
   "source": [
    "#Dropping unwanted attributes"
   ]
  },
  {
   "cell_type": "code",
   "execution_count": 5,
   "metadata": {},
   "outputs": [
    {
     "data": {
      "text/html": [
       "<div>\n",
       "<style scoped>\n",
       "    .dataframe tbody tr th:only-of-type {\n",
       "        vertical-align: middle;\n",
       "    }\n",
       "\n",
       "    .dataframe tbody tr th {\n",
       "        vertical-align: top;\n",
       "    }\n",
       "\n",
       "    .dataframe thead th {\n",
       "        text-align: right;\n",
       "    }\n",
       "</style>\n",
       "<table border=\"1\" class=\"dataframe\">\n",
       "  <thead>\n",
       "    <tr style=\"text-align: right;\">\n",
       "      <th></th>\n",
       "      <th>Severity</th>\n",
       "      <th>Start_Lat</th>\n",
       "      <th>Start_Lng</th>\n",
       "      <th>Distance(mi)</th>\n",
       "      <th>Side</th>\n",
       "      <th>City</th>\n",
       "      <th>Temperature(F)</th>\n",
       "      <th>Humidity(%)</th>\n",
       "      <th>Pressure(in)</th>\n",
       "      <th>Visibility(mi)</th>\n",
       "      <th>...</th>\n",
       "      <th>Stop</th>\n",
       "      <th>Traffic_Calming</th>\n",
       "      <th>Traffic_Signal</th>\n",
       "      <th>Civil_Twilight</th>\n",
       "      <th>Hour</th>\n",
       "      <th>Minute</th>\n",
       "      <th>Year</th>\n",
       "      <th>Month</th>\n",
       "      <th>Weekday</th>\n",
       "      <th>Day</th>\n",
       "    </tr>\n",
       "  </thead>\n",
       "  <tbody>\n",
       "    <tr>\n",
       "      <td>0</td>\n",
       "      <td>3</td>\n",
       "      <td>39.865147</td>\n",
       "      <td>-84.058723</td>\n",
       "      <td>0.01</td>\n",
       "      <td>R</td>\n",
       "      <td>Dayton</td>\n",
       "      <td>36.9</td>\n",
       "      <td>91.0</td>\n",
       "      <td>29.68</td>\n",
       "      <td>10.0</td>\n",
       "      <td>...</td>\n",
       "      <td>False</td>\n",
       "      <td>False</td>\n",
       "      <td>False</td>\n",
       "      <td>Night</td>\n",
       "      <td>5</td>\n",
       "      <td>46</td>\n",
       "      <td>2016</td>\n",
       "      <td>2</td>\n",
       "      <td>0</td>\n",
       "      <td>8</td>\n",
       "    </tr>\n",
       "    <tr>\n",
       "      <td>1</td>\n",
       "      <td>2</td>\n",
       "      <td>39.928059</td>\n",
       "      <td>-82.831184</td>\n",
       "      <td>0.01</td>\n",
       "      <td>L</td>\n",
       "      <td>Reynoldsburg</td>\n",
       "      <td>37.9</td>\n",
       "      <td>100.0</td>\n",
       "      <td>29.65</td>\n",
       "      <td>10.0</td>\n",
       "      <td>...</td>\n",
       "      <td>False</td>\n",
       "      <td>False</td>\n",
       "      <td>False</td>\n",
       "      <td>Night</td>\n",
       "      <td>6</td>\n",
       "      <td>7</td>\n",
       "      <td>2016</td>\n",
       "      <td>2</td>\n",
       "      <td>0</td>\n",
       "      <td>8</td>\n",
       "    </tr>\n",
       "    <tr>\n",
       "      <td>2</td>\n",
       "      <td>2</td>\n",
       "      <td>39.063148</td>\n",
       "      <td>-84.032608</td>\n",
       "      <td>0.01</td>\n",
       "      <td>R</td>\n",
       "      <td>Williamsburg</td>\n",
       "      <td>36.0</td>\n",
       "      <td>100.0</td>\n",
       "      <td>29.67</td>\n",
       "      <td>10.0</td>\n",
       "      <td>...</td>\n",
       "      <td>False</td>\n",
       "      <td>False</td>\n",
       "      <td>True</td>\n",
       "      <td>Night</td>\n",
       "      <td>6</td>\n",
       "      <td>49</td>\n",
       "      <td>2016</td>\n",
       "      <td>2</td>\n",
       "      <td>0</td>\n",
       "      <td>8</td>\n",
       "    </tr>\n",
       "    <tr>\n",
       "      <td>3</td>\n",
       "      <td>3</td>\n",
       "      <td>39.747753</td>\n",
       "      <td>-84.205582</td>\n",
       "      <td>0.01</td>\n",
       "      <td>R</td>\n",
       "      <td>Dayton</td>\n",
       "      <td>35.1</td>\n",
       "      <td>96.0</td>\n",
       "      <td>29.64</td>\n",
       "      <td>9.0</td>\n",
       "      <td>...</td>\n",
       "      <td>False</td>\n",
       "      <td>False</td>\n",
       "      <td>False</td>\n",
       "      <td>Day</td>\n",
       "      <td>7</td>\n",
       "      <td>23</td>\n",
       "      <td>2016</td>\n",
       "      <td>2</td>\n",
       "      <td>0</td>\n",
       "      <td>8</td>\n",
       "    </tr>\n",
       "    <tr>\n",
       "      <td>4</td>\n",
       "      <td>2</td>\n",
       "      <td>39.627781</td>\n",
       "      <td>-84.188354</td>\n",
       "      <td>0.01</td>\n",
       "      <td>R</td>\n",
       "      <td>Dayton</td>\n",
       "      <td>36.0</td>\n",
       "      <td>89.0</td>\n",
       "      <td>29.65</td>\n",
       "      <td>6.0</td>\n",
       "      <td>...</td>\n",
       "      <td>False</td>\n",
       "      <td>False</td>\n",
       "      <td>True</td>\n",
       "      <td>Day</td>\n",
       "      <td>7</td>\n",
       "      <td>39</td>\n",
       "      <td>2016</td>\n",
       "      <td>2</td>\n",
       "      <td>0</td>\n",
       "      <td>8</td>\n",
       "    </tr>\n",
       "  </tbody>\n",
       "</table>\n",
       "<p>5 rows × 33 columns</p>\n",
       "</div>"
      ],
      "text/plain": [
       "   Severity  Start_Lat  Start_Lng  Distance(mi) Side          City  \\\n",
       "0         3  39.865147 -84.058723          0.01    R        Dayton   \n",
       "1         2  39.928059 -82.831184          0.01    L  Reynoldsburg   \n",
       "2         2  39.063148 -84.032608          0.01    R  Williamsburg   \n",
       "3         3  39.747753 -84.205582          0.01    R        Dayton   \n",
       "4         2  39.627781 -84.188354          0.01    R        Dayton   \n",
       "\n",
       "   Temperature(F)  Humidity(%)  Pressure(in)  Visibility(mi)  ...   Stop  \\\n",
       "0            36.9         91.0         29.68            10.0  ...  False   \n",
       "1            37.9        100.0         29.65            10.0  ...  False   \n",
       "2            36.0        100.0         29.67            10.0  ...  False   \n",
       "3            35.1         96.0         29.64             9.0  ...  False   \n",
       "4            36.0         89.0         29.65             6.0  ...  False   \n",
       "\n",
       "   Traffic_Calming  Traffic_Signal Civil_Twilight  Hour  Minute  Year  Month  \\\n",
       "0            False           False          Night     5      46  2016      2   \n",
       "1            False           False          Night     6       7  2016      2   \n",
       "2            False            True          Night     6      49  2016      2   \n",
       "3            False           False            Day     7      23  2016      2   \n",
       "4            False            True            Day     7      39  2016      2   \n",
       "\n",
       "   Weekday  Day  \n",
       "0        0    8  \n",
       "1        0    8  \n",
       "2        0    8  \n",
       "3        0    8  \n",
       "4        0    8  \n",
       "\n",
       "[5 rows x 33 columns]"
      ]
     },
     "execution_count": 5,
     "metadata": {},
     "output_type": "execute_result"
    }
   ],
   "source": [
    "#After Exploratory Data Analysis we found that there are few feature that can be dropped based on least significance and redundant atrributes , so that model can be trained on cleaned dataset.\n",
    "least_Significant_features_to_drop = [\"ID\", \"Source\", \"TMC\", \"Start_Time\", \"End_Time\", \"End_Lat\", \"End_Lng\", \n",
    "                                      \"Description\", \"Number\", \"Street\", \"County\", \"State\", \"Zipcode\", \"Country\", \n",
    "                                      \"Timezone\", \"Airport_Code\", \"Weather_Timestamp\", \"Wind_Chill(F)\", \"Turning_Loop\"\n",
    "                                      , \"Sunrise_Sunset\", \"Nautical_Twilight\", \"Astronomical_Twilight\"]\n",
    "#newSet = df.drop(least_Significant_features_to_drop, axis=1)\n",
    "df = df.drop(least_Significant_features_to_drop, axis=1)\n",
    "#newSet.head()\n",
    "df.head()"
   ]
  },
  {
   "cell_type": "markdown",
   "metadata": {},
   "source": [
    "#Data Preprocessing:"
   ]
  },
  {
   "cell_type": "code",
   "execution_count": 6,
   "metadata": {},
   "outputs": [
    {
     "name": "stdout",
     "output_type": "stream",
     "text": [
      "Total Number of rows: 4232541\n",
      "Total number of rows after removing duplicates: 4232541\n"
     ]
    }
   ],
   "source": [
    "#Now we will check if data has some duplicates value and remove them from the dataset\n",
    "print(\"Total Number of rows:\", len(df.index))\n",
    "#newSet.drop_duplicates(inplace=True)\n",
    "df.drop_duplicates\n",
    "print(\"Total number of rows after removing duplicates:\", len(df.index))"
   ]
  },
  {
   "cell_type": "code",
   "execution_count": 7,
   "metadata": {},
   "outputs": [],
   "source": [
    "#Handling incorrect and missing values"
   ]
  },
  {
   "cell_type": "code",
   "execution_count": 8,
   "metadata": {},
   "outputs": [
    {
     "data": {
      "text/plain": [
       "R    3467079\n",
       "L     765461\n",
       "           1\n",
       "Name: Side, dtype: int64"
      ]
     },
     "execution_count": 8,
     "metadata": {},
     "output_type": "execute_result"
    }
   ],
   "source": [
    "#initially looking at the Side column\n",
    "df[\"Side\"].value_counts()"
   ]
  },
  {
   "cell_type": "code",
   "execution_count": 9,
   "metadata": {},
   "outputs": [
    {
     "data": {
      "text/plain": [
       "R    3467079\n",
       "L     765461\n",
       "Name: Side, dtype: int64"
      ]
     },
     "execution_count": 9,
     "metadata": {},
     "output_type": "execute_result"
    }
   ],
   "source": [
    "#the output shows 1 record without Side so that can be dropped\n",
    "df = df[df[\"Side\"] != \" \"]\n",
    "df[\"Side\"].value_counts()"
   ]
  },
  {
   "cell_type": "code",
   "execution_count": 10,
   "metadata": {},
   "outputs": [
    {
     "data": {
      "text/html": [
       "<div>\n",
       "<style scoped>\n",
       "    .dataframe tbody tr th:only-of-type {\n",
       "        vertical-align: middle;\n",
       "    }\n",
       "\n",
       "    .dataframe tbody tr th {\n",
       "        vertical-align: top;\n",
       "    }\n",
       "\n",
       "    .dataframe thead th {\n",
       "        text-align: right;\n",
       "    }\n",
       "</style>\n",
       "<table border=\"1\" class=\"dataframe\">\n",
       "  <thead>\n",
       "    <tr style=\"text-align: right;\">\n",
       "      <th></th>\n",
       "      <th>Visibility(mi)</th>\n",
       "      <th>Pressure(in)</th>\n",
       "    </tr>\n",
       "  </thead>\n",
       "  <tbody>\n",
       "    <tr>\n",
       "      <td>count</td>\n",
       "      <td>4133872.00</td>\n",
       "      <td>4156156.00</td>\n",
       "    </tr>\n",
       "    <tr>\n",
       "      <td>mean</td>\n",
       "      <td>9.11</td>\n",
       "      <td>29.69</td>\n",
       "    </tr>\n",
       "    <tr>\n",
       "      <td>std</td>\n",
       "      <td>2.82</td>\n",
       "      <td>0.86</td>\n",
       "    </tr>\n",
       "    <tr>\n",
       "      <td>min</td>\n",
       "      <td>0.00</td>\n",
       "      <td>0.00</td>\n",
       "    </tr>\n",
       "    <tr>\n",
       "      <td>25%</td>\n",
       "      <td>10.00</td>\n",
       "      <td>29.64</td>\n",
       "    </tr>\n",
       "    <tr>\n",
       "      <td>50%</td>\n",
       "      <td>10.00</td>\n",
       "      <td>29.93</td>\n",
       "    </tr>\n",
       "    <tr>\n",
       "      <td>75%</td>\n",
       "      <td>10.00</td>\n",
       "      <td>30.08</td>\n",
       "    </tr>\n",
       "    <tr>\n",
       "      <td>max</td>\n",
       "      <td>140.00</td>\n",
       "      <td>58.04</td>\n",
       "    </tr>\n",
       "  </tbody>\n",
       "</table>\n",
       "</div>"
      ],
      "text/plain": [
       "       Visibility(mi)  Pressure(in)\n",
       "count      4133872.00    4156156.00\n",
       "mean             9.11         29.69\n",
       "std              2.82          0.86\n",
       "min              0.00          0.00\n",
       "25%             10.00         29.64\n",
       "50%             10.00         29.93\n",
       "75%             10.00         30.08\n",
       "max            140.00         58.04"
      ]
     },
     "execution_count": 10,
     "metadata": {},
     "output_type": "execute_result"
    }
   ],
   "source": [
    "#next looking at visibility and pressure\n",
    "df[[\"Visibility(mi)\", \"Pressure(in)\"]].describe().round(2)"
   ]
  },
  {
   "cell_type": "code",
   "execution_count": 11,
   "metadata": {},
   "outputs": [
    {
     "data": {
      "text/html": [
       "<div>\n",
       "<style scoped>\n",
       "    .dataframe tbody tr th:only-of-type {\n",
       "        vertical-align: middle;\n",
       "    }\n",
       "\n",
       "    .dataframe tbody tr th {\n",
       "        vertical-align: top;\n",
       "    }\n",
       "\n",
       "    .dataframe thead th {\n",
       "        text-align: right;\n",
       "    }\n",
       "</style>\n",
       "<table border=\"1\" class=\"dataframe\">\n",
       "  <thead>\n",
       "    <tr style=\"text-align: right;\">\n",
       "      <th></th>\n",
       "      <th>Visibility(mi)</th>\n",
       "      <th>Pressure(in)</th>\n",
       "    </tr>\n",
       "  </thead>\n",
       "  <tbody>\n",
       "    <tr>\n",
       "      <td>count</td>\n",
       "      <td>4131229.00</td>\n",
       "      <td>4153515.00</td>\n",
       "    </tr>\n",
       "    <tr>\n",
       "      <td>mean</td>\n",
       "      <td>9.12</td>\n",
       "      <td>29.69</td>\n",
       "    </tr>\n",
       "    <tr>\n",
       "      <td>std</td>\n",
       "      <td>2.81</td>\n",
       "      <td>0.86</td>\n",
       "    </tr>\n",
       "    <tr>\n",
       "      <td>min</td>\n",
       "      <td>0.06</td>\n",
       "      <td>0.02</td>\n",
       "    </tr>\n",
       "    <tr>\n",
       "      <td>25%</td>\n",
       "      <td>10.00</td>\n",
       "      <td>29.64</td>\n",
       "    </tr>\n",
       "    <tr>\n",
       "      <td>50%</td>\n",
       "      <td>10.00</td>\n",
       "      <td>29.93</td>\n",
       "    </tr>\n",
       "    <tr>\n",
       "      <td>75%</td>\n",
       "      <td>10.00</td>\n",
       "      <td>30.08</td>\n",
       "    </tr>\n",
       "    <tr>\n",
       "      <td>max</td>\n",
       "      <td>140.00</td>\n",
       "      <td>58.04</td>\n",
       "    </tr>\n",
       "  </tbody>\n",
       "</table>\n",
       "</div>"
      ],
      "text/plain": [
       "       Visibility(mi)  Pressure(in)\n",
       "count      4131229.00    4153515.00\n",
       "mean             9.12         29.69\n",
       "std              2.81          0.86\n",
       "min              0.06          0.02\n",
       "25%             10.00         29.64\n",
       "50%             10.00         29.93\n",
       "75%             10.00         30.08\n",
       "max            140.00         58.04"
      ]
     },
     "execution_count": 11,
     "metadata": {},
     "output_type": "execute_result"
    }
   ],
   "source": [
    "#the output shows min as 0 which informs us that a number of records are missing them and have been replaced with 0\n",
    "#we are dropping the records with missing values for visibility and pressure\n",
    "\n",
    "df = df[df[\"Visibility(mi)\"] != 0]\n",
    "df = df[df[\"Pressure(in)\"] != 0]\n",
    "df[[\"Visibility(mi)\", \"Pressure(in)\"]].describe().round(2)"
   ]
  },
  {
   "cell_type": "code",
   "execution_count": 12,
   "metadata": {},
   "outputs": [
    {
     "name": "stdout",
     "output_type": "stream",
     "text": [
      "Total number of weather conditions:  132 \n",
      "\n",
      "['Light Rain' 'Overcast' 'Mostly Cloudy' 'Rain' 'Light Snow' 'Haze'\n",
      " 'Scattered Clouds' 'Partly Cloudy' 'Clear' 'Snow'\n",
      " 'Light Freezing Drizzle' 'Light Drizzle' 'Fog' 'Shallow Fog' 'Heavy Rain'\n",
      " 'Light Freezing Rain' 'Cloudy' 'Drizzle' nan 'Light Rain Showers' 'Mist'\n",
      " 'Smoke' 'Patches of Fog' 'Light Freezing Fog' 'Light Haze'\n",
      " 'Light Thunderstorms and Rain' 'Thunderstorms and Rain' 'Fair'\n",
      " 'Volcanic Ash' 'Blowing Sand' 'Blowing Dust / Windy' 'Widespread Dust'\n",
      " 'Fair / Windy' 'Rain Showers' 'Mostly Cloudy / Windy'\n",
      " 'Light Rain / Windy' 'Hail' 'Heavy Drizzle' 'Showers in the Vicinity'\n",
      " 'Thunderstorm' 'Light Rain Shower' 'Light Rain with Thunder'\n",
      " 'Partly Cloudy / Windy' 'Thunder in the Vicinity' 'T-Storm'\n",
      " 'Heavy Thunderstorms and Rain' 'Thunder' 'Heavy T-Storm' 'Funnel Cloud'\n",
      " 'Heavy T-Storm / Windy' 'Blowing Snow' 'Light Thunderstorms and Snow'\n",
      " 'Heavy Snow' 'Low Drifting Snow' 'Light Ice Pellets' 'Ice Pellets'\n",
      " 'Squalls' 'N/A Precipitation' 'Cloudy / Windy' 'Light Fog' 'Sand'\n",
      " 'Snow Grains' 'Snow Showers' 'Heavy Thunderstorms and Snow'\n",
      " 'Rain / Windy' 'Heavy Rain / Windy' 'Heavy Ice Pellets'\n",
      " 'Light Snow / Windy' 'Heavy Freezing Rain' 'Small Hail'\n",
      " 'Heavy Rain Showers' 'Wintry Mix' 'Drizzle and Fog' 'Wintry Mix / Windy'\n",
      " 'Snow / Windy' 'Heavy Snow / Windy' 'T-Storm / Windy' 'Fog / Windy'\n",
      " 'Haze / Windy' 'Snow and Sleet / Windy' 'Blowing Snow / Windy'\n",
      " 'Light Snow and Sleet' 'Light Sleet' 'Thunder / Windy' 'Rain Shower'\n",
      " 'Light Drizzle / Windy' 'Partial Fog' 'Squalls / Windy' 'Smoke / Windy'\n",
      " 'Sand / Dust Whirlwinds' 'Blowing Dust' 'Light Snow with Thunder'\n",
      " 'Thunder / Wintry Mix' 'Thunder / Wintry Mix / Windy'\n",
      " 'Light Rain Shower / Windy' 'Patches of Fog / Windy' 'Drizzle / Windy'\n",
      " 'Snow and Sleet' 'Light Freezing Rain / Windy' 'Light Snow Shower'\n",
      " 'Light Snow and Sleet / Windy' 'Freezing Rain' 'Freezing Drizzle' 'Sleet'\n",
      " 'Rain and Sleet' 'Heavy Sleet' 'Light Snow Grains' 'Partial Fog / Windy'\n",
      " 'Widespread Dust / Windy' 'Sand / Dust Whirlwinds / Windy' 'Tornado'\n",
      " 'Snow and Thunder' 'Heavy Snow with Thunder' 'Light Snow Showers'\n",
      " 'Heavy Blowing Snow' 'Light Hail' 'Heavy Smoke'\n",
      " 'Heavy Thunderstorms with Small Hail' 'Light Thunderstorm'\n",
      " 'Heavy Freezing Drizzle' 'Light Blowing Snow' 'Thunderstorms and Snow'\n",
      " 'Freezing Rain / Windy' 'Dust Whirls' 'Light Sleet / Windy'\n",
      " 'Mist / Windy' 'Sleet / Windy' 'Sand / Dust Whirls Nearby'\n",
      " 'Heavy Rain Shower' 'Thunder and Hail' 'Drifting Snow'\n",
      " 'Thunder and Hail / Windy']\n"
     ]
    }
   ],
   "source": [
    "#analyzing the weather conditions\n",
    "#outputting the total number of different conditions and their names\n",
    "\n",
    "weather_conditions = df[\"Weather_Condition\"].unique()\n",
    "print(\"Total number of weather conditions: \", len(weather_conditions), \"\\n\")\n",
    "print(weather_conditions)"
   ]
  },
  {
   "cell_type": "code",
   "execution_count": 13,
   "metadata": {},
   "outputs": [
    {
     "name": "stdout",
     "output_type": "stream",
     "text": [
      "Total number of weather conditions:  12 \n",
      "\n",
      "['Rain' 'Cloudy' 'Snow' 'Fog' 'Clear' nan 'Smoke' 'Sand' 'Windy' 'Hail'\n",
      " 'Thunderstorm' 'Tornado']\n"
     ]
    }
   ],
   "source": [
    "#reducing the amount of weather conditions by substituting them with a more common name\n",
    "\n",
    "df.loc[df[\"Weather_Condition\"].str.contains(\"Hail|Pellets\", na=False), \"Weather_Condition\"] = \"Hail\"\n",
    "df.loc[df[\"Weather_Condition\"].str.contains(\"Mist|Haze|Fog\", na=False), \"Weather_Condition\"] = \"Fog\"\n",
    "df.loc[df[\"Weather_Condition\"].str.contains(\"Wind|Squalls\", na=False), \"Weather_Condition\"] = \"Windy\"\n",
    "df.loc[df[\"Weather_Condition\"].str.contains(\"Cloud|Overcast\", na=False), \"Weather_Condition\"] = \"Cloudy\"\n",
    "df.loc[df[\"Weather_Condition\"].str.contains(\"Snow|Sleet|Wintry\", na=False), \"Weather_Condition\"] = \"Snow\"\n",
    "df.loc[df[\"Weather_Condition\"].str.contains(\"Rain|Drizzle|Shower\", na=False), \"Weather_Condition\"] = \"Rain\"\n",
    "df.loc[df[\"Weather_Condition\"].str.contains(\"Sand|Dust\", na=False), \"Weather_Condition\"] = \"Sand\"\n",
    "df.loc[df[\"Weather_Condition\"].str.contains(\"Fair\", na=False), \"Weather_Condition\"] = \"Clear\"\n",
    "df.loc[df[\"Weather_Condition\"].str.contains(\"Smoke|Volcanic Ash\", na=False), \"Weather_Condition\"] = \"Smoke\"\n",
    "df.loc[df[\"Weather_Condition\"].str.contains(\"Thunder|T-Storm\", na=False), \"Weather_Condition\"] = \"Thunderstorm\"\n",
    "df.loc[df[\"Weather_Condition\"].str.contains(\"N/A Precipitation\", na=False), \"Weather_Condition\"] = np.nan\n",
    "\n",
    "common_weather = df[\"Weather_Condition\"].unique()\n",
    "print(\"Total number of weather conditions: \", len(common_weather), \"\\n\")\n",
    "print(common_weather)"
   ]
  },
  {
   "cell_type": "code",
   "execution_count": 14,
   "metadata": {},
   "outputs": [
    {
     "name": "stdout",
     "output_type": "stream",
     "text": [
      "Total number of wind directions:  25 \n",
      "\n",
      "['Calm' 'SW' 'SSW' 'WSW' 'WNW' 'NW' 'West' 'NNW' 'NNE' 'South' 'North'\n",
      " 'Variable' 'SE' 'SSE' 'ESE' 'East' 'NE' 'ENE' 'E' 'W' nan 'S' 'VAR'\n",
      " 'CALM' 'N']\n"
     ]
    }
   ],
   "source": [
    "#after checking the weather conditions, we are analyzing the wind directions\n",
    "#outputting the total number of different directions and their names\n",
    "\n",
    "wind_directions = df[\"Wind_Direction\"].unique()\n",
    "print(\"Total number of wind directions: \", len(wind_directions), \"\\n\")\n",
    "print(wind_directions)"
   ]
  },
  {
   "cell_type": "code",
   "execution_count": 15,
   "metadata": {},
   "outputs": [
    {
     "name": "stdout",
     "output_type": "stream",
     "text": [
      "Total number of wind directions:  11 \n",
      "\n",
      "['Calm' 'SW' 'NW' 'W' 'NE' 'S' 'N' 'Variable' 'SE' 'E' nan]\n"
     ]
    }
   ],
   "source": [
    "#similarly to weather conditions, we reduce the amount of wind directions by grouping the values\n",
    "\n",
    "df.loc[df[\"Wind_Direction\"] == \"North\", \"Wind_Direction\"] = \"N\"\n",
    "df.loc[df[\"Wind_Direction\"] == \"East\", \"Wind_Direction\"] = \"E\"\n",
    "df.loc[df[\"Wind_Direction\"] == \"South\", \"Wind_Direction\"] = \"S\"\n",
    "df.loc[df[\"Wind_Direction\"] == \"West\", \"Wind_Direction\"] = \"W\"\n",
    "df.loc[df[\"Wind_Direction\"] == \"CALM\", \"Wind_Direction\"] = \"Calm\"\n",
    "df.loc[df[\"Wind_Direction\"] == \"VAR\", \"Wind_Direction\"] = \"Variable\"\n",
    "df[\"Wind_Direction\"] = df[\"Wind_Direction\"].map(lambda i : i if len(i) != 3 else i[1:], na_action=\"ignore\")\n",
    "common_direction = df[\"Wind_Direction\"].unique()\n",
    "\n",
    "print(\"Total number of wind directions: \", len(common_direction), \"\\n\")\n",
    "print(common_direction)"
   ]
  },
  {
   "cell_type": "code",
   "execution_count": 16,
   "metadata": {},
   "outputs": [
    {
     "data": {
      "text/plain": [
       "Severity                   0\n",
       "Start_Lat                  0\n",
       "Start_Lng                  0\n",
       "Distance(mi)               0\n",
       "Side                       0\n",
       "City                     137\n",
       "Temperature(F)         89873\n",
       "Humidity(%)            95422\n",
       "Pressure(in)           76381\n",
       "Visibility(mi)         98667\n",
       "Wind_Direction         83601\n",
       "Wind_Speed(mph)       479284\n",
       "Precipitation(in)    2065296\n",
       "Weather_Condition      99024\n",
       "Amenity                    0\n",
       "Bump                       0\n",
       "Crossing                   0\n",
       "Give_Way                   0\n",
       "Junction                   0\n",
       "No_Exit                    0\n",
       "Railway                    0\n",
       "Roundabout                 0\n",
       "Station                    0\n",
       "Stop                       0\n",
       "Traffic_Calming            0\n",
       "Traffic_Signal             0\n",
       "Civil_Twilight           141\n",
       "Hour                       0\n",
       "Minute                     0\n",
       "Year                       0\n",
       "Month                      0\n",
       "Weekday                    0\n",
       "Day                        0\n",
       "dtype: int64"
      ]
     },
     "execution_count": 16,
     "metadata": {},
     "output_type": "execute_result"
    }
   ],
   "source": [
    "#analyzing the missing values\n",
    "df.isna().sum()"
   ]
  },
  {
   "cell_type": "code",
   "execution_count": 17,
   "metadata": {},
   "outputs": [
    {
     "data": {
      "text/plain": [
       "Severity             0\n",
       "Start_Lat            0\n",
       "Start_Lng            0\n",
       "Distance(mi)         0\n",
       "Side                 0\n",
       "City                 0\n",
       "Temperature(F)       0\n",
       "Humidity(%)          0\n",
       "Pressure(in)         0\n",
       "Visibility(mi)       0\n",
       "Wind_Direction       0\n",
       "Wind_Speed(mph)      0\n",
       "Precipitation(in)    0\n",
       "Weather_Condition    0\n",
       "Amenity              0\n",
       "Bump                 0\n",
       "Crossing             0\n",
       "Give_Way             0\n",
       "Junction             0\n",
       "No_Exit              0\n",
       "Railway              0\n",
       "Roundabout           0\n",
       "Station              0\n",
       "Stop                 0\n",
       "Traffic_Calming      0\n",
       "Traffic_Signal       0\n",
       "Civil_Twilight       0\n",
       "Hour                 0\n",
       "Minute               0\n",
       "Year                 0\n",
       "Month                0\n",
       "Weekday              0\n",
       "Day                  0\n",
       "dtype: int64"
      ]
     },
     "execution_count": 17,
     "metadata": {},
     "output_type": "execute_result"
    }
   ],
   "source": [
    "#from the output, we identified that many of the records don't contain informations about Precipitation so we will drop that feature\n",
    "#we fill in the missing features with the mean for numerical features \n",
    "#we delete the records with missing informations for categorical features\n",
    "fill_features = [\"Temperature(F)\", \"Humidity(%)\", \"Pressure(in)\", \"Visibility(mi)\", \"Wind_Speed(mph)\", \"Precipitation(in)\"]\n",
    "df[fill_features] = df[fill_features].fillna(df[fill_features].mean())\n",
    "df.dropna(inplace=True)\n",
    "df.isna().sum()"
   ]
  },
  {
   "cell_type": "code",
   "execution_count": 18,
   "metadata": {},
   "outputs": [],
   "source": [
    "#Encode target labels with value between 0 and n_classes-1\n",
    "encoder = preprocessing.LabelEncoder()\n",
    "df['Bump'] = encoder.fit_transform(df['Bump'])\n",
    "df['Amenity'] = encoder.fit_transform(df['Amenity'])\n",
    "df['Crossing'] = encoder.fit_transform(df['Crossing'])\n",
    "df['Give_Way'] = encoder.fit_transform(df['Give_Way'])\n",
    "df['Junction'] = encoder.fit_transform(df['Junction'])\n",
    "df['No_Exit'] = encoder.fit_transform(df['No_Exit'])\n",
    "df['Railway'] = encoder.fit_transform(df['Railway'])\n",
    "df['Roundabout'] = encoder.fit_transform(df['Roundabout'])\n",
    "df['Station'] = encoder.fit_transform(df['Station'])\n",
    "df['Stop'] = encoder.fit_transform(df['Stop'])\n",
    "df['Traffic_Calming'] = encoder.fit_transform(df['Traffic_Calming'])\n",
    "df['Traffic_Signal'] = encoder.fit_transform(df['Traffic_Signal'])\n",
    "df['City'] = encoder.fit_transform(df['City'])\n",
    "df['Weather_Condition'] = encoder.fit_transform(df['Weather_Condition'])\n",
    "df['Wind_Direction'] = encoder.fit_transform(df['Wind_Direction'])\n",
    "df['Side'] = encoder.fit_transform(df['Side'])\n",
    "df['Civil_Twilight'] = encoder.fit_transform(df['Civil_Twilight'])"
   ]
  },
  {
   "cell_type": "code",
   "execution_count": 19,
   "metadata": {},
   "outputs": [
    {
     "data": {
      "text/html": [
       "<div>\n",
       "<style scoped>\n",
       "    .dataframe tbody tr th:only-of-type {\n",
       "        vertical-align: middle;\n",
       "    }\n",
       "\n",
       "    .dataframe tbody tr th {\n",
       "        vertical-align: top;\n",
       "    }\n",
       "\n",
       "    .dataframe thead th {\n",
       "        text-align: right;\n",
       "    }\n",
       "</style>\n",
       "<table border=\"1\" class=\"dataframe\">\n",
       "  <thead>\n",
       "    <tr style=\"text-align: right;\">\n",
       "      <th></th>\n",
       "      <th>Severity</th>\n",
       "      <th>Start_Lat</th>\n",
       "      <th>Start_Lng</th>\n",
       "      <th>Distance(mi)</th>\n",
       "      <th>Side</th>\n",
       "      <th>City</th>\n",
       "      <th>Temperature(F)</th>\n",
       "      <th>Humidity(%)</th>\n",
       "      <th>Pressure(in)</th>\n",
       "      <th>Visibility(mi)</th>\n",
       "      <th>...</th>\n",
       "      <th>Stop</th>\n",
       "      <th>Traffic_Calming</th>\n",
       "      <th>Traffic_Signal</th>\n",
       "      <th>Civil_Twilight</th>\n",
       "      <th>Hour</th>\n",
       "      <th>Minute</th>\n",
       "      <th>Year</th>\n",
       "      <th>Month</th>\n",
       "      <th>Weekday</th>\n",
       "      <th>Day</th>\n",
       "    </tr>\n",
       "  </thead>\n",
       "  <tbody>\n",
       "    <tr>\n",
       "      <td>0</td>\n",
       "      <td>3</td>\n",
       "      <td>39.865147</td>\n",
       "      <td>-84.058723</td>\n",
       "      <td>0.01</td>\n",
       "      <td>1</td>\n",
       "      <td>2577</td>\n",
       "      <td>36.9</td>\n",
       "      <td>91.0</td>\n",
       "      <td>29.68</td>\n",
       "      <td>10.0</td>\n",
       "      <td>...</td>\n",
       "      <td>0</td>\n",
       "      <td>0</td>\n",
       "      <td>0</td>\n",
       "      <td>1</td>\n",
       "      <td>5</td>\n",
       "      <td>46</td>\n",
       "      <td>2016</td>\n",
       "      <td>2</td>\n",
       "      <td>0</td>\n",
       "      <td>8</td>\n",
       "    </tr>\n",
       "    <tr>\n",
       "      <td>1</td>\n",
       "      <td>2</td>\n",
       "      <td>39.928059</td>\n",
       "      <td>-82.831184</td>\n",
       "      <td>0.01</td>\n",
       "      <td>0</td>\n",
       "      <td>8978</td>\n",
       "      <td>37.9</td>\n",
       "      <td>100.0</td>\n",
       "      <td>29.65</td>\n",
       "      <td>10.0</td>\n",
       "      <td>...</td>\n",
       "      <td>0</td>\n",
       "      <td>0</td>\n",
       "      <td>0</td>\n",
       "      <td>1</td>\n",
       "      <td>6</td>\n",
       "      <td>7</td>\n",
       "      <td>2016</td>\n",
       "      <td>2</td>\n",
       "      <td>0</td>\n",
       "      <td>8</td>\n",
       "    </tr>\n",
       "    <tr>\n",
       "      <td>2</td>\n",
       "      <td>2</td>\n",
       "      <td>39.063148</td>\n",
       "      <td>-84.032608</td>\n",
       "      <td>0.01</td>\n",
       "      <td>1</td>\n",
       "      <td>11741</td>\n",
       "      <td>36.0</td>\n",
       "      <td>100.0</td>\n",
       "      <td>29.67</td>\n",
       "      <td>10.0</td>\n",
       "      <td>...</td>\n",
       "      <td>0</td>\n",
       "      <td>0</td>\n",
       "      <td>1</td>\n",
       "      <td>1</td>\n",
       "      <td>6</td>\n",
       "      <td>49</td>\n",
       "      <td>2016</td>\n",
       "      <td>2</td>\n",
       "      <td>0</td>\n",
       "      <td>8</td>\n",
       "    </tr>\n",
       "    <tr>\n",
       "      <td>3</td>\n",
       "      <td>3</td>\n",
       "      <td>39.747753</td>\n",
       "      <td>-84.205582</td>\n",
       "      <td>0.01</td>\n",
       "      <td>1</td>\n",
       "      <td>2577</td>\n",
       "      <td>35.1</td>\n",
       "      <td>96.0</td>\n",
       "      <td>29.64</td>\n",
       "      <td>9.0</td>\n",
       "      <td>...</td>\n",
       "      <td>0</td>\n",
       "      <td>0</td>\n",
       "      <td>0</td>\n",
       "      <td>0</td>\n",
       "      <td>7</td>\n",
       "      <td>23</td>\n",
       "      <td>2016</td>\n",
       "      <td>2</td>\n",
       "      <td>0</td>\n",
       "      <td>8</td>\n",
       "    </tr>\n",
       "    <tr>\n",
       "      <td>4</td>\n",
       "      <td>2</td>\n",
       "      <td>39.627781</td>\n",
       "      <td>-84.188354</td>\n",
       "      <td>0.01</td>\n",
       "      <td>1</td>\n",
       "      <td>2577</td>\n",
       "      <td>36.0</td>\n",
       "      <td>89.0</td>\n",
       "      <td>29.65</td>\n",
       "      <td>6.0</td>\n",
       "      <td>...</td>\n",
       "      <td>0</td>\n",
       "      <td>0</td>\n",
       "      <td>1</td>\n",
       "      <td>0</td>\n",
       "      <td>7</td>\n",
       "      <td>39</td>\n",
       "      <td>2016</td>\n",
       "      <td>2</td>\n",
       "      <td>0</td>\n",
       "      <td>8</td>\n",
       "    </tr>\n",
       "  </tbody>\n",
       "</table>\n",
       "<p>5 rows × 33 columns</p>\n",
       "</div>"
      ],
      "text/plain": [
       "   Severity  Start_Lat  Start_Lng  Distance(mi)  Side   City  Temperature(F)  \\\n",
       "0         3  39.865147 -84.058723          0.01     1   2577            36.9   \n",
       "1         2  39.928059 -82.831184          0.01     0   8978            37.9   \n",
       "2         2  39.063148 -84.032608          0.01     1  11741            36.0   \n",
       "3         3  39.747753 -84.205582          0.01     1   2577            35.1   \n",
       "4         2  39.627781 -84.188354          0.01     1   2577            36.0   \n",
       "\n",
       "   Humidity(%)  Pressure(in)  Visibility(mi)  ...  Stop  Traffic_Calming  \\\n",
       "0         91.0         29.68            10.0  ...     0                0   \n",
       "1        100.0         29.65            10.0  ...     0                0   \n",
       "2        100.0         29.67            10.0  ...     0                0   \n",
       "3         96.0         29.64             9.0  ...     0                0   \n",
       "4         89.0         29.65             6.0  ...     0                0   \n",
       "\n",
       "   Traffic_Signal  Civil_Twilight  Hour  Minute  Year  Month  Weekday  Day  \n",
       "0               0               1     5      46  2016      2        0    8  \n",
       "1               0               1     6       7  2016      2        0    8  \n",
       "2               1               1     6      49  2016      2        0    8  \n",
       "3               0               0     7      23  2016      2        0    8  \n",
       "4               1               0     7      39  2016      2        0    8  \n",
       "\n",
       "[5 rows x 33 columns]"
      ]
     },
     "execution_count": 19,
     "metadata": {},
     "output_type": "execute_result"
    }
   ],
   "source": [
    "df.head()"
   ]
  },
  {
   "cell_type": "markdown",
   "metadata": {},
   "source": [
    "#Displaying number of records in each Severity"
   ]
  },
  {
   "cell_type": "code",
   "execution_count": 20,
   "metadata": {},
   "outputs": [
    {
     "data": {
      "image/png": "[encoded data removed]",
      "text/plain": [
       "<Figure size 576x432 with 1 Axes>"
      ]
     },
     "metadata": {
      "needs_background": "light"
     },
     "output_type": "display_data"
    }
   ],
   "source": [
    "severityCount = df['Severity'].value_counts()\n",
    "plt.figure(figsize=(8, 6))\n",
    "plt.title(\"Severity Vs Values\")\n",
    "sns.barplot(severityCount.index, severityCount.values)\n",
    "plt.xlabel(\"Severity\")\n",
    "plt.ylabel(\"Value\")\n",
    "plt.show()"
   ]
  },
  {
   "cell_type": "code",
   "execution_count": 21,
   "metadata": {},
   "outputs": [],
   "source": [
    "#Data distribution is not uniform, we number of records for each severity"
   ]
  },
  {
   "cell_type": "code",
   "execution_count": 22,
   "metadata": {},
   "outputs": [
    {
     "name": "stdout",
     "output_type": "stream",
     "text": [
      "No. of rows in Severity 1:  28718\n",
      "No. of rows in Severity 2:  2925644\n",
      "No. of rows in Severity 3:  1043246\n",
      "No. of rows in Severity 4:  119248\n"
     ]
    }
   ],
   "source": [
    "size1 = len(df[df[\"Severity\"]==1].index)\n",
    "print('No. of rows in Severity 1: ',size1 )\n",
    "size2 = len(df[df[\"Severity\"]==2].index)\n",
    "print('No. of rows in Severity 2: ',size2)\n",
    "size3 = len(df[df[\"Severity\"]==3].index)\n",
    "print('No. of rows in Severity 3: ',size3)\n",
    "size4 = len(df[df[\"Severity\"]==4].index)\n",
    "print('No. of rows in Severity 4: ',size4)"
   ]
  },
  {
   "cell_type": "code",
   "execution_count": 23,
   "metadata": {},
   "outputs": [],
   "source": [
    "X = pd.DataFrame()\n",
    "#We take all the records for severity 1\n",
    "for i in range(1,2):\n",
    "    S = df[df['Severity']==i]\n",
    "    temp = S.sample(size1, random_state=42)\n",
    "    X = X.append(temp)"
   ]
  },
  {
   "cell_type": "code",
   "execution_count": 24,
   "metadata": {},
   "outputs": [],
   "source": [
    "#We take all the records for severity 4\n",
    "for i in range(4,5):\n",
    "    S = df[df['Severity']==i]\n",
    "    temp = S.sample(size4, random_state=42)\n",
    "    X = X.append(temp)"
   ]
  },
  {
   "cell_type": "code",
   "execution_count": 25,
   "metadata": {},
   "outputs": [],
   "source": [
    "#We take all the records for severity 3 & same size of records for severity 2\n",
    "for i in range(2,4):\n",
    "    S = df[df['Severity']==i]\n",
    "    temp = S.sample(size3, random_state=42)\n",
    "    X = X.append(temp)"
   ]
  },
  {
   "cell_type": "markdown",
   "metadata": {},
   "source": [
    "#Reducing no. of records for further processing"
   ]
  },
  {
   "cell_type": "code",
   "execution_count": 26,
   "metadata": {},
   "outputs": [
    {
     "data": {
      "image/png": "[encoded data removed]",
      "text/plain": [
       "<Figure size 576x432 with 1 Axes>"
      ]
     },
     "metadata": {
      "needs_background": "light"
     },
     "output_type": "display_data"
    }
   ],
   "source": [
    "severityCount = X['Severity'].value_counts()\n",
    "plt.figure(figsize=(8, 6))\n",
    "plt.title(\"Severity Vs Values\")\n",
    "sns.barplot(severityCount.index, severityCount.values)\n",
    "plt.xlabel(\"Severity\")\n",
    "plt.ylabel(\"Value\")\n",
    "plt.show()"
   ]
  },
  {
   "cell_type": "code",
   "execution_count": 27,
   "metadata": {},
   "outputs": [
    {
     "name": "stdout",
     "output_type": "stream",
     "text": [
      "Size of data taken for analysis  (2234458, 33)\n"
     ]
    },
    {
     "data": {
      "text/plain": [
       "Index(['Severity', 'Start_Lat', 'Start_Lng', 'Distance(mi)', 'Side', 'City',\n",
       "       'Temperature(F)', 'Humidity(%)', 'Pressure(in)', 'Visibility(mi)',\n",
       "       'Wind_Direction', 'Wind_Speed(mph)', 'Precipitation(in)',\n",
       "       'Weather_Condition', 'Amenity', 'Bump', 'Crossing', 'Give_Way',\n",
       "       'Junction', 'No_Exit', 'Railway', 'Roundabout', 'Station', 'Stop',\n",
       "       'Traffic_Calming', 'Traffic_Signal', 'Civil_Twilight', 'Hour', 'Minute',\n",
       "       'Year', 'Month', 'Weekday', 'Day'],\n",
       "      dtype='object')"
      ]
     },
     "execution_count": 27,
     "metadata": {},
     "output_type": "execute_result"
    }
   ],
   "source": [
    "print(\"Size of data taken for analysis \", X.shape)\n",
    "X.columns"
   ]
  },
  {
   "cell_type": "markdown",
   "metadata": {},
   "source": [
    "#Scaling the features using MinMaxScaler"
   ]
  },
  {
   "cell_type": "code",
   "execution_count": 28,
   "metadata": {},
   "outputs": [
    {
     "data": {
      "text/html": [
       "<div>\n",
       "<style scoped>\n",
       "    .dataframe tbody tr th:only-of-type {\n",
       "        vertical-align: middle;\n",
       "    }\n",
       "\n",
       "    .dataframe tbody tr th {\n",
       "        vertical-align: top;\n",
       "    }\n",
       "\n",
       "    .dataframe thead th {\n",
       "        text-align: right;\n",
       "    }\n",
       "</style>\n",
       "<table border=\"1\" class=\"dataframe\">\n",
       "  <thead>\n",
       "    <tr style=\"text-align: right;\">\n",
       "      <th></th>\n",
       "      <th>Severity</th>\n",
       "      <th>Start_Lat</th>\n",
       "      <th>Start_Lng</th>\n",
       "      <th>Distance(mi)</th>\n",
       "      <th>Side</th>\n",
       "      <th>City</th>\n",
       "      <th>Temperature(F)</th>\n",
       "      <th>Humidity(%)</th>\n",
       "      <th>Pressure(in)</th>\n",
       "      <th>Visibility(mi)</th>\n",
       "      <th>...</th>\n",
       "      <th>Stop</th>\n",
       "      <th>Traffic_Calming</th>\n",
       "      <th>Traffic_Signal</th>\n",
       "      <th>Civil_Twilight</th>\n",
       "      <th>Hour</th>\n",
       "      <th>Minute</th>\n",
       "      <th>Year</th>\n",
       "      <th>Month</th>\n",
       "      <th>Weekday</th>\n",
       "      <th>Day</th>\n",
       "    </tr>\n",
       "  </thead>\n",
       "  <tbody>\n",
       "    <tr>\n",
       "      <td>3608693</td>\n",
       "      <td>1</td>\n",
       "      <td>0.550071</td>\n",
       "      <td>0.043328</td>\n",
       "      <td>0.000000</td>\n",
       "      <td>1</td>\n",
       "      <td>0.180768</td>\n",
       "      <td>0.492806</td>\n",
       "      <td>0.676768</td>\n",
       "      <td>0.516201</td>\n",
       "      <td>0.07103</td>\n",
       "      <td>...</td>\n",
       "      <td>0</td>\n",
       "      <td>0</td>\n",
       "      <td>0</td>\n",
       "      <td>1</td>\n",
       "      <td>0.000000</td>\n",
       "      <td>0.661017</td>\n",
       "      <td>1.0</td>\n",
       "      <td>0.272727</td>\n",
       "      <td>0.500000</td>\n",
       "      <td>0.033333</td>\n",
       "    </tr>\n",
       "    <tr>\n",
       "      <td>3557570</td>\n",
       "      <td>1</td>\n",
       "      <td>0.317206</td>\n",
       "      <td>0.235195</td>\n",
       "      <td>0.000000</td>\n",
       "      <td>1</td>\n",
       "      <td>0.904255</td>\n",
       "      <td>0.672662</td>\n",
       "      <td>0.030303</td>\n",
       "      <td>0.465701</td>\n",
       "      <td>0.07103</td>\n",
       "      <td>...</td>\n",
       "      <td>0</td>\n",
       "      <td>0</td>\n",
       "      <td>1</td>\n",
       "      <td>0</td>\n",
       "      <td>0.826087</td>\n",
       "      <td>0.322034</td>\n",
       "      <td>1.0</td>\n",
       "      <td>0.454545</td>\n",
       "      <td>0.666667</td>\n",
       "      <td>0.600000</td>\n",
       "    </tr>\n",
       "    <tr>\n",
       "      <td>3598039</td>\n",
       "      <td>1</td>\n",
       "      <td>0.315379</td>\n",
       "      <td>0.237577</td>\n",
       "      <td>0.000007</td>\n",
       "      <td>0</td>\n",
       "      <td>0.904255</td>\n",
       "      <td>0.507194</td>\n",
       "      <td>0.383838</td>\n",
       "      <td>0.467942</td>\n",
       "      <td>0.07103</td>\n",
       "      <td>...</td>\n",
       "      <td>0</td>\n",
       "      <td>0</td>\n",
       "      <td>1</td>\n",
       "      <td>0</td>\n",
       "      <td>0.478261</td>\n",
       "      <td>0.711864</td>\n",
       "      <td>1.0</td>\n",
       "      <td>0.181818</td>\n",
       "      <td>0.666667</td>\n",
       "      <td>0.866667</td>\n",
       "    </tr>\n",
       "    <tr>\n",
       "      <td>3511994</td>\n",
       "      <td>1</td>\n",
       "      <td>0.462211</td>\n",
       "      <td>0.773903</td>\n",
       "      <td>0.000000</td>\n",
       "      <td>1</td>\n",
       "      <td>0.886386</td>\n",
       "      <td>0.618705</td>\n",
       "      <td>0.494949</td>\n",
       "      <td>0.502068</td>\n",
       "      <td>0.07103</td>\n",
       "      <td>...</td>\n",
       "      <td>0</td>\n",
       "      <td>0</td>\n",
       "      <td>0</td>\n",
       "      <td>0</td>\n",
       "      <td>0.652174</td>\n",
       "      <td>0.254237</td>\n",
       "      <td>1.0</td>\n",
       "      <td>0.454545</td>\n",
       "      <td>0.333333</td>\n",
       "      <td>0.766667</td>\n",
       "    </tr>\n",
       "    <tr>\n",
       "      <td>3583845</td>\n",
       "      <td>1</td>\n",
       "      <td>0.514955</td>\n",
       "      <td>0.044404</td>\n",
       "      <td>0.000000</td>\n",
       "      <td>1</td>\n",
       "      <td>0.508644</td>\n",
       "      <td>0.510791</td>\n",
       "      <td>0.686869</td>\n",
       "      <td>0.519304</td>\n",
       "      <td>0.07103</td>\n",
       "      <td>...</td>\n",
       "      <td>0</td>\n",
       "      <td>0</td>\n",
       "      <td>0</td>\n",
       "      <td>0</td>\n",
       "      <td>0.391304</td>\n",
       "      <td>0.406780</td>\n",
       "      <td>1.0</td>\n",
       "      <td>0.181818</td>\n",
       "      <td>0.666667</td>\n",
       "      <td>0.633333</td>\n",
       "    </tr>\n",
       "  </tbody>\n",
       "</table>\n",
       "<p>5 rows × 33 columns</p>\n",
       "</div>"
      ],
      "text/plain": [
       "         Severity  Start_Lat  Start_Lng  Distance(mi)  Side      City  \\\n",
       "3608693         1   0.550071   0.043328      0.000000     1  0.180768   \n",
       "3557570         1   0.317206   0.235195      0.000000     1  0.904255   \n",
       "3598039         1   0.315379   0.237577      0.000007     0  0.904255   \n",
       "3511994         1   0.462211   0.773903      0.000000     1  0.886386   \n",
       "3583845         1   0.514955   0.044404      0.000000     1  0.508644   \n",
       "\n",
       "         Temperature(F)  Humidity(%)  Pressure(in)  Visibility(mi)  ...  Stop  \\\n",
       "3608693        0.492806     0.676768      0.516201         0.07103  ...     0   \n",
       "3557570        0.672662     0.030303      0.465701         0.07103  ...     0   \n",
       "3598039        0.507194     0.383838      0.467942         0.07103  ...     0   \n",
       "3511994        0.618705     0.494949      0.502068         0.07103  ...     0   \n",
       "3583845        0.510791     0.686869      0.519304         0.07103  ...     0   \n",
       "\n",
       "         Traffic_Calming  Traffic_Signal  Civil_Twilight      Hour    Minute  \\\n",
       "3608693                0               0               1  0.000000  0.661017   \n",
       "3557570                0               1               0  0.826087  0.322034   \n",
       "3598039                0               1               0  0.478261  0.711864   \n",
       "3511994                0               0               0  0.652174  0.254237   \n",
       "3583845                0               0               0  0.391304  0.406780   \n",
       "\n",
       "         Year     Month   Weekday       Day  \n",
       "3608693   1.0  0.272727  0.500000  0.033333  \n",
       "3557570   1.0  0.454545  0.666667  0.600000  \n",
       "3598039   1.0  0.181818  0.666667  0.866667  \n",
       "3511994   1.0  0.454545  0.333333  0.766667  \n",
       "3583845   1.0  0.181818  0.666667  0.633333  \n",
       "\n",
       "[5 rows x 33 columns]"
      ]
     },
     "execution_count": 28,
     "metadata": {},
     "output_type": "execute_result"
    }
   ],
   "source": [
    "from sklearn.preprocessing import MinMaxScaler\n",
    "scaler = MinMaxScaler()\n",
    "featuresForScaling = ['Start_Lat', 'Start_Lng','Distance(mi)','Temperature(F)', 'Humidity(%)', 'Pressure(in)', 'Visibility(mi)','Wind_Speed(mph)', 'Precipitation(in)','Hour', 'Minute',\n",
    "       'Year', 'Month', 'Weekday', 'Day', 'City', 'Wind_Direction', 'Weather_Condition']\n",
    "X[featuresForScaling] = scaler.fit_transform(X[featuresForScaling])\n",
    "X.head()"
   ]
  },
  {
   "cell_type": "code",
   "execution_count": 29,
   "metadata": {},
   "outputs": [
    {
     "name": "stdout",
     "output_type": "stream",
     "text": [
      "<class 'pandas.core.frame.DataFrame'>\n",
      "Int64Index: 2234458 entries, 3608693 to 341042\n",
      "Data columns (total 33 columns):\n",
      "Severity             int64\n",
      "Start_Lat            float64\n",
      "Start_Lng            float64\n",
      "Distance(mi)         float64\n",
      "Side                 int64\n",
      "City                 float64\n",
      "Temperature(F)       float64\n",
      "Humidity(%)          float64\n",
      "Pressure(in)         float64\n",
      "Visibility(mi)       float64\n",
      "Wind_Direction       float64\n",
      "Wind_Speed(mph)      float64\n",
      "Precipitation(in)    float64\n",
      "Weather_Condition    float64\n",
      "Amenity              int64\n",
      "Bump                 int64\n",
      "Crossing             int64\n",
      "Give_Way             int64\n",
      "Junction             int64\n",
      "No_Exit              int64\n",
      "Railway              int64\n",
      "Roundabout           int64\n",
      "Station              int64\n",
      "Stop                 int64\n",
      "Traffic_Calming      int64\n",
      "Traffic_Signal       int64\n",
      "Civil_Twilight       int64\n",
      "Hour                 float64\n",
      "Minute               float64\n",
      "Year                 float64\n",
      "Month                float64\n",
      "Weekday              float64\n",
      "Day                  float64\n",
      "dtypes: float64(18), int64(15)\n",
      "memory usage: 579.6 MB\n"
     ]
    }
   ],
   "source": [
    "X.info()"
   ]
  },
  {
   "cell_type": "markdown",
   "metadata": {},
   "source": [
    "#Decision Tree"
   ]
  },
  {
   "cell_type": "code",
   "execution_count": 36,
   "metadata": {},
   "outputs": [
    {
     "name": "stdout",
     "output_type": "stream",
     "text": [
      "(1787566, 33) (446892, 33)\n"
     ]
    }
   ],
   "source": [
    "# Train - Test split \n",
    "#new\n",
    "X, X_test_data = train_test_split(X, test_size=.2, random_state=42)\n",
    "print(X.shape, X_test_data.shape)"
   ]
  },
  {
   "cell_type": "code",
   "execution_count": 30,
   "metadata": {},
   "outputs": [],
   "source": [
    "#Decision Tree\n",
    "sampleSet = X\n",
    "Y = sampleSet[\"Severity\"]\n",
    "X_sample = sampleSet.drop(\"Severity\", axis=1)"
   ]
  },
  {
   "cell_type": "code",
   "execution_count": 31,
   "metadata": {},
   "outputs": [
    {
     "name": "stdout",
     "output_type": "stream",
     "text": [
      "(1675843, 32) (1675843,)\n",
      "(558615, 32) (558615,)\n"
     ]
    }
   ],
   "source": [
    "from sklearn.model_selection import train_test_split, GridSearchCV\n",
    "X_train, X_test, y_train, y_test = train_test_split(X_sample, Y, random_state=42)\n",
    "print(X_train.shape,y_train.shape)\n",
    "print(X_test.shape,y_test.shape)"
   ]
  },
  {
   "cell_type": "code",
   "execution_count": 32,
   "metadata": {},
   "outputs": [
    {
     "name": "stdout",
     "output_type": "stream",
     "text": [
      "Fitting 5 folds for each of 8 candidates, totalling 40 fits\n"
     ]
    },
    {
     "name": "stderr",
     "output_type": "stream",
     "text": [
      "[Parallel(n_jobs=-1)]: Using backend LokyBackend with 16 concurrent workers.\n",
      "[Parallel(n_jobs=-1)]: Done  18 out of  40 | elapsed:  1.4min remaining:  1.8min\n",
      "[Parallel(n_jobs=-1)]: Done  27 out of  40 | elapsed:  2.2min remaining:  1.1min\n",
      "[Parallel(n_jobs=-1)]: Done  36 out of  40 | elapsed:  2.7min remaining:   17.9s\n",
      "[Parallel(n_jobs=-1)]: Done  40 out of  40 | elapsed:  2.9min finished\n"
     ]
    },
    {
     "data": {
      "text/plain": [
       "GridSearchCV(estimator=DecisionTreeClassifier(random_state=42), n_jobs=-1,\n",
       "             param_grid=[{'criterion': ['gini', 'entropy'],\n",
       "                          'max_depth': [5, 10, 15, 30]}],\n",
       "             verbose=5)"
      ]
     },
     "execution_count": 32,
     "metadata": {},
     "output_type": "execute_result"
    }
   ],
   "source": [
    "from sklearn.tree import DecisionTreeClassifier\n",
    "# Create Decision Tree classifer\n",
    "clf = DecisionTreeClassifier(random_state=42)\n",
    "\n",
    "#Train the classifier\n",
    "parameter = [{\"criterion\":[\"gini\", \"entropy\"], \"max_depth\": [5,10,15,30]}]\n",
    "\n",
    "#cross-validated grid-search\n",
    "gridSearch = GridSearchCV(clf,parameter,verbose = 5,n_jobs=-1)\n",
    "gridSearch.fit(X_train,y_train)"
   ]
  },
  {
   "cell_type": "code",
   "execution_count": 33,
   "metadata": {},
   "outputs": [
    {
     "name": "stdout",
     "output_type": "stream",
     "text": [
      "Parameter score using GridSearchCV in sklearn\n",
      "Parameter score:  {'criterion': 'gini', 'max_depth': 30}\n",
      "Training score:  0.9652718064878393\n",
      "Test score:  0.7867260993707652\n"
     ]
    }
   ],
   "source": [
    "#Print parameter score\n",
    "print(\"Parameter score using GridSearchCV in sklearn\")\n",
    "print(\"Parameter score: \",gridSearch.best_params_)\n",
    "print(\"Training score: \",gridSearch.score(X_train, y_train))\n",
    "print(\"Test score: \",gridSearch.score(X_test, y_test))"
   ]
  },
  {
   "cell_type": "code",
   "execution_count": 34,
   "metadata": {},
   "outputs": [
    {
     "name": "stdout",
     "output_type": "stream",
     "text": [
      "Scoring only using the decision tree classifier\n",
      "Training score:  0.9992660410312899\n",
      "Test score:  0.7785952758160808\n"
     ]
    }
   ],
   "source": [
    "#Print parameter score\n",
    "print(\"Scoring only using the decision tree classifier\")\n",
    "clf.fit(X_train,y_train)\n",
    "print(\"Training score: \",clf.score(X_train, y_train))\n",
    "print(\"Test score: \",clf.score(X_test, y_test))"
   ]
  },
  {
   "cell_type": "code",
   "execution_count": 35,
   "metadata": {},
   "outputs": [
    {
     "name": "stdout",
     "output_type": "stream",
     "text": [
      "Accuracy of Decision Tree: 0.7785952758160808\n"
     ]
    }
   ],
   "source": [
    "accuracy = dict()\n",
    "f1 = dict()\n",
    "from sklearn import metrics\n",
    "from sklearn.metrics import classification_report, confusion_matrix, accuracy_score, f1_score\n",
    "y_pred_dt = clf.predict(X_test)\n",
    "accuracy['Decision Tree']=metrics.accuracy_score(y_test, y_pred_dt)\n",
    "f1['Decision Tree'] = f1_score(y_test, y_pred_dt, average=\"macro\")\n",
    "print(\"Accuracy of Decision Tree:\",accuracy['Decision Tree'])"
   ]
  },
  {
   "cell_type": "code",
   "execution_count": 36,
   "metadata": {},
   "outputs": [
    {
     "name": "stdout",
     "output_type": "stream",
     "text": [
      "              precision    recall  f1-score   support\n",
      "\n",
      "           1       1.00      1.00      1.00     21549\n",
      "           2       1.00      1.00      1.00    782439\n",
      "           3       1.00      1.00      1.00    782340\n",
      "           4       1.00      0.99      0.99     89515\n",
      "\n",
      "    accuracy                           1.00   1675843\n",
      "   macro avg       1.00      1.00      1.00   1675843\n",
      "weighted avg       1.00      1.00      1.00   1675843\n",
      "\n",
      "              precision    recall  f1-score   support\n",
      "\n",
      "           1       0.58      0.62      0.60      7169\n",
      "           2       0.80      0.79      0.80    260807\n",
      "           3       0.80      0.80      0.80    260906\n",
      "           4       0.49      0.51      0.50     29733\n",
      "\n",
      "    accuracy                           0.78    558615\n",
      "   macro avg       0.67      0.68      0.67    558615\n",
      "weighted avg       0.78      0.78      0.78    558615\n",
      "\n"
     ]
    }
   ],
   "source": [
    "print(classification_report(y_train, clf.predict(X_train)))\n",
    "print(classification_report(y_test, y_pred_dt))"
   ]
  },
  {
   "cell_type": "code",
   "execution_count": 37,
   "metadata": {},
   "outputs": [
    {
     "data": {
      "image/png": "[encoded data removed]",
      "text/plain": [
       "<Figure size 1800x1080 with 1 Axes>"
      ]
     },
     "metadata": {
      "needs_background": "light"
     },
     "output_type": "display_data"
    }
   ],
   "source": [
    "from sklearn.tree import plot_tree\n",
    "import matplotlib.pyplot as plt\n",
    "fig, axes = plt.subplots(figsize = (25,15))\n",
    "plot_tree(clf,max_depth=3,fontsize=9,feature_names=X_train.columns.to_list(),class_names=True,filled = True)\n",
    "fig.savefig('DecisionTree.png')"
   ]
  },
  {
   "cell_type": "code",
   "execution_count": 37,
   "metadata": {},
   "outputs": [],
   "source": [
    "sam_Data = X\n",
    "y_data = sam_Data[\"Severity\"]\n",
    "X_data = sam_Data.drop(\"Severity\", axis=1)\n",
    "\n",
    "X_train, X_val, y_train, y_val = train_test_split(X_data, y_data, random_state=42)"
   ]
  },
  {
   "cell_type": "markdown",
   "metadata": {},
   "source": [
    "#Gaussian Naive Bayes classifier"
   ]
  },
  {
   "cell_type": "code",
   "execution_count": 38,
   "metadata": {},
   "outputs": [
    {
     "name": "stdout",
     "output_type": "stream",
     "text": [
      "Training score: 0.5660779578033138\n",
      "Validation score: 0.5662576192905668\n"
     ]
    }
   ],
   "source": [
    "#Gaussian Naive Bayes classfier\n",
    "\n",
    "from sklearn.naive_bayes import  GaussianNB\n",
    "gausNaiveB = GaussianNB()\n",
    "gausNaiveB.fit(X_train, y_train)\n",
    "\n",
    "print(\"Training score:\", gausNaiveB.score(X_train, y_train))\n",
    "print(\"Validation score:\", gausNaiveB.score(X_val, y_val))"
   ]
  },
  {
   "cell_type": "code",
   "execution_count": 39,
   "metadata": {},
   "outputs": [
    {
     "name": "stdout",
     "output_type": "stream",
     "text": [
      "              precision    recall  f1-score   support\n",
      "\n",
      "           1       0.15      0.41      0.22     17266\n",
      "           2       0.78      0.29      0.42    625720\n",
      "           3       0.55      0.90      0.68    625832\n",
      "           4       0.22      0.12      0.15     71856\n",
      "\n",
      "    accuracy                           0.57   1340674\n",
      "   macro avg       0.42      0.43      0.37   1340674\n",
      "weighted avg       0.64      0.57      0.53   1340674\n",
      "\n",
      "              precision    recall  f1-score   support\n",
      "\n",
      "           1       0.15      0.43      0.22      5712\n",
      "           2       0.78      0.28      0.42    208576\n",
      "           3       0.55      0.90      0.68    208950\n",
      "           4       0.22      0.12      0.15     23654\n",
      "\n",
      "    accuracy                           0.57    446892\n",
      "   macro avg       0.43      0.43      0.37    446892\n",
      "weighted avg       0.64      0.57      0.53    446892\n",
      "\n"
     ]
    }
   ],
   "source": [
    "from sklearn.metrics import classification_report, confusion_matrix, accuracy_score, f1_score\n",
    "y_pred_nb = gausNaiveB.predict(X_val)\n",
    "\n",
    "print(classification_report(y_train, gausNaiveB.predict(X_train)))\n",
    "print(classification_report(y_val, y_pred_nb))"
   ]
  },
  {
   "cell_type": "code",
   "execution_count": 41,
   "metadata": {},
   "outputs": [
    {
     "ename": "NameError",
     "evalue": "name 'accuracy' is not defined",
     "output_type": "error",
     "traceback": [
      "\u001b[0;31m---------------------------------------------------------------------------\u001b[0m",
      "\u001b[0;31mNameError\u001b[0m                                 Traceback (most recent call last)",
      "\u001b[0;32m<ipython-input-41-0a36e9a9b72d>\u001b[0m in \u001b[0;36m<module>\u001b[0;34m\u001b[0m\n\u001b[1;32m      1\u001b[0m \u001b[0;31m# Model Accuracy, how often is the classifier correct\u001b[0m\u001b[0;34m\u001b[0m\u001b[0;34m\u001b[0m\u001b[0;34m\u001b[0m\u001b[0m\n\u001b[1;32m      2\u001b[0m \u001b[0;32mfrom\u001b[0m \u001b[0msklearn\u001b[0m \u001b[0;32mimport\u001b[0m \u001b[0mmetrics\u001b[0m\u001b[0;34m\u001b[0m\u001b[0;34m\u001b[0m\u001b[0m\n\u001b[0;32m----> 3\u001b[0;31m \u001b[0maccuracy\u001b[0m\u001b[0;34m[\u001b[0m\u001b[0;34m'Naive Bayes'\u001b[0m\u001b[0;34m]\u001b[0m \u001b[0;34m=\u001b[0m \u001b[0mmetrics\u001b[0m\u001b[0;34m.\u001b[0m\u001b[0maccuracy_score\u001b[0m\u001b[0;34m(\u001b[0m\u001b[0my_val\u001b[0m\u001b[0;34m,\u001b[0m \u001b[0my_pred_nb\u001b[0m\u001b[0;34m)\u001b[0m\u001b[0;34m\u001b[0m\u001b[0;34m\u001b[0m\u001b[0m\n\u001b[0m\u001b[1;32m      4\u001b[0m \u001b[0mprint\u001b[0m\u001b[0;34m(\u001b[0m\u001b[0;34m\"Accuracy of NB:\"\u001b[0m\u001b[0;34m,\u001b[0m\u001b[0maccuracy\u001b[0m\u001b[0;34m[\u001b[0m\u001b[0;34m'Naive Bayes'\u001b[0m\u001b[0;34m]\u001b[0m\u001b[0;34m)\u001b[0m\u001b[0;34m\u001b[0m\u001b[0;34m\u001b[0m\u001b[0m\n\u001b[1;32m      5\u001b[0m \u001b[0mf1\u001b[0m\u001b[0;34m[\u001b[0m\u001b[0;34m'Naive Bayes'\u001b[0m\u001b[0;34m]\u001b[0m \u001b[0;34m=\u001b[0m \u001b[0mf1_score\u001b[0m\u001b[0;34m(\u001b[0m\u001b[0my_val\u001b[0m\u001b[0;34m,\u001b[0m \u001b[0my_pred_nb\u001b[0m\u001b[0;34m,\u001b[0m \u001b[0maverage\u001b[0m\u001b[0;34m=\u001b[0m\u001b[0;34m\"macro\"\u001b[0m\u001b[0;34m)\u001b[0m\u001b[0;34m\u001b[0m\u001b[0;34m\u001b[0m\u001b[0m\n",
      "\u001b[0;31mNameError\u001b[0m: name 'accuracy' is not defined"
     ]
    }
   ],
   "source": [
    "# Model Accuracy, how often is the classifier correct\n",
    "from sklearn import metrics\n",
    "accuracy['Naive Bayes'] = metrics.accuracy_score(y_val, y_pred_nb)\n",
    "print(\"Accuracy of NB:\",accuracy['Naive Bayes'])\n",
    "f1['Naive Bayes'] = f1_score(y_val, y_pred_nb, average=\"macro\")"
   ]
  },
  {
   "cell_type": "markdown",
   "metadata": {},
   "source": [
    "#Random Forest Classifier"
   ]
  },
  {
   "cell_type": "code",
   "execution_count": 41,
   "metadata": {},
   "outputs": [
    {
     "name": "stdout",
     "output_type": "stream",
     "text": [
      "Fitting 5 folds for each of 1 candidates, totalling 5 fits\n"
     ]
    },
    {
     "name": "stderr",
     "output_type": "stream",
     "text": [
      "[Parallel(n_jobs=-1)]: Using backend LokyBackend with 16 concurrent workers.\n",
      "[Parallel(n_jobs=-1)]: Done   2 out of   5 | elapsed: 16.5min remaining: 24.8min\n",
      "[Parallel(n_jobs=-1)]: Done   5 out of   5 | elapsed: 16.5min finished\n"
     ]
    },
    {
     "name": "stdout",
     "output_type": "stream",
     "text": [
      "Best parameters scores:\n",
      "{'max_depth': 30, 'n_estimators': 200}\n",
      "Train score: 0.9512997339249559\n",
      "Validation score: 0.7873830813708905\n"
     ]
    }
   ],
   "source": [
    "from sklearn.ensemble import RandomForestClassifier\n",
    "rand_Forest = RandomForestClassifier(n_jobs=-1, random_state=42)\n",
    "grid = [{\"n_estimators\": [200], \"max_depth\": [30]}]\n",
    "clf_rand_For = GridSearchCV(rand_Forest, grid, verbose=5, n_jobs=-1)\n",
    "clf_rand_For.fit(X_train, y_train)\n",
    "\n",
    "print(\"Best parameters scores:\")\n",
    "print(clf_rand_For.best_params_)\n",
    "print(\"Train score:\", clf_rand_For.score(X_train, y_train))\n",
    "print(\"Validation score:\", clf_rand_For.score(X_val, y_val))"
   ]
  },
  {
   "cell_type": "code",
   "execution_count": 42,
   "metadata": {},
   "outputs": [],
   "source": [
    "rand_Forest.fit(X_train,y_train)\n",
    "\n",
    "y_pred_rand_Forest=rand_Forest.predict(X_val)"
   ]
  },
  {
   "cell_type": "code",
   "execution_count": 43,
   "metadata": {},
   "outputs": [
    {
     "name": "stdout",
     "output_type": "stream",
     "text": [
      "[[  4159   1891   1077     42]\n",
      " [   644 202157  55981   2025]\n",
      " [   283  35212 223050   2361]\n",
      " [    37   5943   9590  14163]]\n",
      "              precision    recall  f1-score   support\n",
      "\n",
      "           1       0.81      0.58      0.68      7169\n",
      "           2       0.82      0.78      0.80    260807\n",
      "           3       0.77      0.85      0.81    260906\n",
      "           4       0.76      0.48      0.59     29733\n",
      "\n",
      "    accuracy                           0.79    558615\n",
      "   macro avg       0.79      0.67      0.72    558615\n",
      "weighted avg       0.80      0.79      0.79    558615\n",
      "\n",
      "Accuracy: 0.7939797534974893\n"
     ]
    }
   ],
   "source": [
    "from sklearn import metrics\n",
    "from sklearn.metrics import classification_report, confusion_matrix  \n",
    "print(confusion_matrix(y_val, y_pred_rand_Forest))  \n",
    "print(classification_report(y_val, y_pred_rand_Forest))\n",
    "# Model Accuracy, how often is the classifier correct?\n",
    "accuracy['Random Forest'] =metrics.accuracy_score(y_val, y_pred_rand_Forest)\n",
    "print(\"Accuracy:\",accuracy['Random Forest'])\n",
    "f1['Random Forest'] = f1_score(y_val, y_pred_rand_Forest, average=\"macro\")"
   ]
  },
  {
   "cell_type": "markdown",
   "metadata": {},
   "source": [
    "#Logistic Regression"
   ]
  },
  {
   "cell_type": "code",
   "execution_count": 46,
   "metadata": {},
   "outputs": [
    {
     "name": "stdout",
     "output_type": "stream",
     "text": [
      "[[   667   3426   1617      2]\n",
      " [   172 127372  80937     95]\n",
      " [    48  45573 162772    557]\n",
      " [    22   9187  14181    264]]\n",
      "              precision    recall  f1-score   support\n",
      "\n",
      "           1       0.73      0.12      0.20      5712\n",
      "           2       0.69      0.61      0.65    208576\n",
      "           3       0.63      0.78      0.69    208950\n",
      "           4       0.29      0.01      0.02     23654\n",
      "\n",
      "    accuracy                           0.65    446892\n",
      "   macro avg       0.58      0.38      0.39    446892\n",
      "weighted avg       0.64      0.65      0.63    446892\n",
      "\n"
     ]
    }
   ],
   "source": [
    "#logistic regression\n",
    "from sklearn.linear_model import LogisticRegression\n",
    "from sklearn.metrics import classification_report, confusion_matrix  \n",
    "Log_reg = LogisticRegression(solver='lbfgs', max_iter=4000)\n",
    "Log_reg.fit(X_train, y_train)\n",
    "y_pred_Log_reg = Log_reg.predict(X_val)\n",
    "print(confusion_matrix(y_val, y_pred_Log_reg))  \n",
    "print(classification_report(y_val, y_pred_Log_reg))"
   ]
  },
  {
   "cell_type": "code",
   "execution_count": 47,
   "metadata": {},
   "outputs": [
    {
     "name": "stdout",
     "output_type": "stream",
     "text": [
      " Train score: 0.6516035964000197\n",
      "Validation score: 0.6513318654171477\n"
     ]
    }
   ],
   "source": [
    "print(\" Train score:\", Log_reg.score(X_train, y_train))\n",
    "print(\"Validation score:\", Log_reg.score(X_val, y_val))"
   ]
  },
  {
   "cell_type": "code",
   "execution_count": 44,
   "metadata": {},
   "outputs": [
    {
     "name": "stdout",
     "output_type": "stream",
     "text": [
      "Fitting 5 folds for each of 3 candidates, totalling 15 fits\n"
     ]
    },
    {
     "name": "stderr",
     "output_type": "stream",
     "text": [
      "[Parallel(n_jobs=-1)]: Using backend LokyBackend with 12 concurrent workers.\n",
      "[Parallel(n_jobs=-1)]: Done   4 out of  15 | elapsed:  1.4min remaining:  3.9min\n",
      "[Parallel(n_jobs=-1)]: Done   8 out of  15 | elapsed:  2.8min remaining:  2.5min\n",
      "[Parallel(n_jobs=-1)]: Done  12 out of  15 | elapsed:  9.3min remaining:  2.3min\n",
      "[Parallel(n_jobs=-1)]: Done  15 out of  15 | elapsed: 10.6min finished\n"
     ]
    },
    {
     "name": "stdout",
     "output_type": "stream",
     "text": [
      "Best parameters scores:\n",
      "{'solver': 'sag'}\n",
      "Train score witg Grid search: 0.6516162765892379\n",
      "Validation score with grid search: 0.6512647351037835\n"
     ]
    }
   ],
   "source": [
    "#logistic regression with GridSearchCV\n",
    "\n",
    "logistic_regres = LogisticRegression(random_state=42, n_jobs=-1)\n",
    "params = {\"solver\": [\"newton-cg\", \"sag\", \"saga\"]}\n",
    "grid = GridSearchCV(logistic_regres, params, n_jobs=-1, verbose=5)\n",
    "grid.fit(X_train, y_train)\n",
    "\n",
    "print(\"Best parameters scores:\")\n",
    "print(grid.best_params_)\n",
    "print(\"Train score witg Grid search:\", grid.score(X_train, y_train))\n",
    "print(\"Validation score with grid search:\", grid.score(X_val, y_val))"
   ]
  },
  {
   "cell_type": "code",
   "execution_count": 46,
   "metadata": {},
   "outputs": [
    {
     "name": "stdout",
     "output_type": "stream",
     "text": [
      "Accuracy of Logistic Regression classifier: 0.6522757176230498\n"
     ]
    }
   ],
   "source": [
    "accuracy['Logistic regression'] = metrics.accuracy_score(y_test, y_pred_Log_reg)\n",
    "print(\"Accuracy of Logistic Regression classifier:\",accuracy['Logistic regression'])\n",
    "f1['Logistic regression'] = f1_score(y_test, y_pred_Log_reg, average=\"macro\")"
   ]
  },
  {
   "cell_type": "markdown",
   "metadata": {},
   "source": [
    "#Support Vector Machines"
   ]
  },
  {
   "cell_type": "code",
   "execution_count": 47,
   "metadata": {},
   "outputs": [],
   "source": [
    "from sklearn import svm\n",
    "from sklearn import metrics\n",
    "from sklearn.model_selection import train_test_split, GridSearchCV\n",
    "from sklearn.metrics import confusion_matrix, f1_score, accuracy_score, classification_report"
   ]
  },
  {
   "cell_type": "code",
   "execution_count": 48,
   "metadata": {},
   "outputs": [
    {
     "name": "stdout",
     "output_type": "stream",
     "text": [
      "train test split:  (1787566, 33) (446892, 33)\n"
     ]
    }
   ],
   "source": [
    "param = [{\"kernel\": [\"linear\", \"rbf\", \"sigmoid\"], \"C\": [.2, .5, .8, 1.]}, \n",
    "         {\"kernel\": [\"poly\"], \"C\": [.2, .5, .8, 1.], \"degree\": [2, 3, 4]}]\n",
    "\n",
    "svm_svc = svm.SVC(verbose=5, random_state=42)\n",
    "grid_search = GridSearchCV(svm_svc, param, verbose=5, n_jobs=-1)\n",
    "\n",
    "x, x_test = train_test_split(X, test_size=.2, random_state=42)\n",
    "print(\"train test split: \", x.shape, x_test.shape)"
   ]
  },
  {
   "cell_type": "code",
   "execution_count": 49,
   "metadata": {},
   "outputs": [
    {
     "name": "stdout",
     "output_type": "stream",
     "text": [
      "Fitting 5 folds for each of 24 candidates, totalling 120 fits\n"
     ]
    },
    {
     "name": "stderr",
     "output_type": "stream",
     "text": [
      "[Parallel(n_jobs=-1)]: Using backend LokyBackend with 16 concurrent workers.\n",
      "[Parallel(n_jobs=-1)]: Done  40 tasks      | elapsed:    7.4s\n",
      "[Parallel(n_jobs=-1)]: Done 114 out of 120 | elapsed:   14.9s remaining:    0.8s\n",
      "[Parallel(n_jobs=-1)]: Done 120 out of 120 | elapsed:   15.5s finished\n"
     ]
    },
    {
     "name": "stdout",
     "output_type": "stream",
     "text": [
      "[LibSVM]"
     ]
    },
    {
     "data": {
      "text/plain": [
       "GridSearchCV(estimator=SVC(random_state=42, verbose=5), n_jobs=-1,\n",
       "             param_grid=[{'C': [0.2, 0.5, 0.8, 1.0],\n",
       "                          'kernel': ['linear', 'rbf', 'sigmoid']},\n",
       "                         {'C': [0.2, 0.5, 0.8, 1.0], 'degree': [2, 3, 4],\n",
       "                          'kernel': ['poly']}],\n",
       "             verbose=5)"
      ]
     },
     "execution_count": 49,
     "metadata": {},
     "output_type": "execute_result"
    }
   ],
   "source": [
    "smpl = x.sample(5_000, random_state=42)\n",
    "y_smpl = smpl[\"Severity\"]\n",
    "x_smpl = smpl.drop(\"Severity\", axis=1)\n",
    "grid_search.fit(x_smpl, y_smpl)"
   ]
  },
  {
   "cell_type": "code",
   "execution_count": 50,
   "metadata": {},
   "outputs": [
    {
     "name": "stdout",
     "output_type": "stream",
     "text": [
      "top scores of parameters: {'C': 1.0, 'degree': 3, 'kernel': 'poly'}\n",
      "train score: 0.6798\n"
     ]
    }
   ],
   "source": [
    "print(\"top scores of parameters:\", grid_search.best_params_)\n",
    "print(\"train score:\", grid_search.score(x_smpl, y_smpl))"
   ]
  },
  {
   "cell_type": "code",
   "execution_count": 51,
   "metadata": {},
   "outputs": [
    {
     "name": "stdout",
     "output_type": "stream",
     "text": [
      "[LibSVM]default scores: SVC(random_state=42, verbose=5)\n",
      "train score: 0.6698\n"
     ]
    }
   ],
   "source": [
    "print(\"default scores:\", svm_svc.fit(x_smpl, y_smpl))\n",
    "print(\"train score:\", svm_svc.score(x_smpl, y_smpl))"
   ]
  },
  {
   "cell_type": "code",
   "execution_count": 52,
   "metadata": {},
   "outputs": [],
   "source": [
    "#pd.DataFrame(grid_search.cv_results_).sort_values(by = \"rank_test_score\")"
   ]
  },
  {
   "cell_type": "code",
   "execution_count": 53,
   "metadata": {},
   "outputs": [],
   "source": [
    "smpl = x.sample(10_000, random_state = 42)\n",
    "y_smpl = smpl[\"Severity\"]\n",
    "x_smpl = smpl.drop(\"Severity\", axis=1)\n",
    "x_train, x_val, y_train, y_val = train_test_split(x_smpl, y_smpl, test_size = .2, random_state = 42)"
   ]
  },
  {
   "cell_type": "code",
   "execution_count": 54,
   "metadata": {},
   "outputs": [
    {
     "name": "stdout",
     "output_type": "stream",
     "text": [
      "train:  (8000, 32) (8000,)\n",
      "validation:  (2000, 32) (2000,)\n"
     ]
    }
   ],
   "source": [
    "print(\"train: \", x_train.shape, y_train.shape)\n",
    "print(\"validation: \", x_val.shape, y_val.shape)"
   ]
  },
  {
   "cell_type": "code",
   "execution_count": 55,
   "metadata": {},
   "outputs": [
    {
     "data": {
      "text/plain": [
       "SVC(kernel='poly', random_state=42)"
      ]
     },
     "execution_count": 55,
     "metadata": {},
     "output_type": "execute_result"
    }
   ],
   "source": [
    "svm_svc = svm.SVC(**grid_search.best_params_, random_state = 42)\n",
    "svm_svc.fit(x_train, y_train)"
   ]
  },
  {
   "cell_type": "code",
   "execution_count": 56,
   "metadata": {},
   "outputs": [
    {
     "name": "stdout",
     "output_type": "stream",
     "text": [
      "train:  0.6805\n",
      "validation:  0.656\n"
     ]
    }
   ],
   "source": [
    "print(\"train: \", svm_svc.score(x_train, y_train))\n",
    "print(\"validation: \", svm_svc.score(x_val, y_val))"
   ]
  },
  {
   "cell_type": "code",
   "execution_count": 57,
   "metadata": {},
   "outputs": [],
   "source": [
    "f_1 = dict()\n",
    "acc = dict()\n",
    "\n",
    "y_pred = svm_svc.predict(x_val)\n",
    "acc[\"SVM\"] = accuracy_score(y_val, y_pred)\n",
    "f_1[\"SVM\"] = f1_score(y_val, y_pred, average = \"macro\")"
   ]
  },
  {
   "cell_type": "code",
   "execution_count": 58,
   "metadata": {},
   "outputs": [
    {
     "name": "stdout",
     "output_type": "stream",
     "text": [
      "              precision    recall  f1-score   support\n",
      "\n",
      "           1       0.88      0.27      0.41       107\n",
      "           2       0.75      0.61      0.67      3789\n",
      "           3       0.64      0.84      0.72      3687\n",
      "           4       1.00      0.01      0.01       417\n",
      "\n",
      "    accuracy                           0.68      8000\n",
      "   macro avg       0.82      0.43      0.46      8000\n",
      "weighted avg       0.71      0.68      0.66      8000\n",
      "\n",
      "              precision    recall  f1-score   support\n",
      "\n",
      "           1       1.00      0.18      0.31        33\n",
      "           2       0.73      0.58      0.65       937\n",
      "           3       0.61      0.84      0.71       907\n",
      "           4       0.00      0.00      0.00       123\n",
      "\n",
      "    accuracy                           0.66      2000\n",
      "   macro avg       0.59      0.40      0.42      2000\n",
      "weighted avg       0.64      0.66      0.63      2000\n",
      "\n"
     ]
    },
    {
     "name": "stderr",
     "output_type": "stream",
     "text": [
      "/opt/anaconda3/lib/python3.8/site-packages/sklearn/metrics/_classification.py:1221: UndefinedMetricWarning: Precision and F-score are ill-defined and being set to 0.0 in labels with no predicted samples. Use `zero_division` parameter to control this behavior.\n",
      "  _warn_prf(average, modifier, msg_start, len(result))\n"
     ]
    }
   ],
   "source": [
    "print(classification_report(y_train, svm_svc.predict(x_train)))\n",
    "print(classification_report(y_val, y_pred))"
   ]
  },
  {
   "cell_type": "code",
   "execution_count": 59,
   "metadata": {},
   "outputs": [
    {
     "data": {
      "text/plain": [
       "'\\nc = [\"pred severity - 1\", \"pred severity - 2\", \"pred severity - 3\", \"pred severity - 4\"]\\ni = [\"actual severity - 1\", \"actual severity - 2\", \"actual severity - 3\", \"actual severity - 4\"]\\ndata_mtx = confusion_matrix(y_true=y_val, y_pred=y_pred)\\ncf_mtx = pd.DataFrame(data = data_mtx, columns = c, index = i)\\n'"
      ]
     },
     "execution_count": 59,
     "metadata": {},
     "output_type": "execute_result"
    }
   ],
   "source": [
    "y_pred = svm_svc.predict(x_val)\n",
    "\n",
    "'''\n",
    "c = [\"pred severity - 1\", \"pred severity - 2\", \"pred severity - 3\", \"pred severity - 4\"]\n",
    "i = [\"actual severity - 1\", \"actual severity - 2\", \"actual severity - 3\", \"actual severity - 4\"]\n",
    "data_mtx = confusion_matrix(y_true=y_val, y_pred=y_pred)\n",
    "cf_mtx = pd.DataFrame(data = data_mtx, columns = c, index = i)\n",
    "'''"
   ]
  },
  {
   "cell_type": "code",
   "execution_count": 69,
   "metadata": {},
   "outputs": [
    {
     "name": "stdout",
     "output_type": "stream",
     "text": [
      "Accuracy: 0.656\n"
     ]
    }
   ],
   "source": [
    "accuracy['Support Vector Machine'] = metrics.accuracy_score(y_val, y_pred)\n",
    "print(\"Accuracy:\",accuracy['Support Vector Machine'])\n",
    "f1['Support Vector Machine'] = f1_score(y_val, y_pred, average=\"macro\")\n",
    "#print(f1['Support Vector Machine'])"
   ]
  },
  {
   "cell_type": "code",
   "execution_count": 63,
   "metadata": {},
   "outputs": [],
   "source": [
    "#Comparing accuracy of each model"
   ]
  },
  {
   "cell_type": "code",
   "execution_count": 64,
   "metadata": {},
   "outputs": [
    {
     "name": "stderr",
     "output_type": "stream",
     "text": [
      "/opt/anaconda3/lib/python3.8/site-packages/seaborn/_decorators.py:36: FutureWarning: Pass the following variables as keyword args: x, y. From version 0.12, the only valid positional argument will be `data`, and passing other arguments without an explicit keyword will result in an error or misinterpretation.\n",
      "  warnings.warn(\n"
     ]
    },
    {
     "data": {
      "image/png": "[encoded data removed]",
      "text/plain": [
       "<Figure size 1440x576 with 1 Axes>"
      ]
     },
     "metadata": {
      "needs_background": "light"
     },
     "output_type": "display_data"
    }
   ],
   "source": [
    "plt.figure(figsize=(20, 8))\n",
    "plt.title(\"Accuracy on Validation set for each model\")\n",
    "sns.barplot(list(range(len(accuracy))), list(accuracy.values()))\n",
    "plt.xticks(range(len(accuracy)), labels=accuracy.keys())\n",
    "plt.show()"
   ]
  },
  {
   "cell_type": "code",
   "execution_count": 72,
   "metadata": {},
   "outputs": [],
   "source": [
    "#Comparing f1 score of each model"
   ]
  },
  {
   "cell_type": "code",
   "execution_count": 73,
   "metadata": {},
   "outputs": [
    {
     "name": "stderr",
     "output_type": "stream",
     "text": [
      "/opt/anaconda3/lib/python3.8/site-packages/seaborn/_decorators.py:36: FutureWarning: Pass the following variables as keyword args: x, y. From version 0.12, the only valid positional argument will be `data`, and passing other arguments without an explicit keyword will result in an error or misinterpretation.\n",
      "  warnings.warn(\n"
     ]
    },
    {
     "data": {
      "image/png": "[encoded data removed]",
      "text/plain": [
       "<Figure size 1440x576 with 1 Axes>"
      ]
     },
     "metadata": {
      "needs_background": "light"
     },
     "output_type": "display_data"
    }
   ],
   "source": [
    "plt.figure(figsize=(20, 8))\n",
    "plt.title(\"F1 score on Validation set for each model\")\n",
    "sns.barplot(list(range(len(f1))), list(f1.values()))\n",
    "plt.xticks(range(len(f1)), labels=f1.keys())\n",
    "plt.show()"
   ]
  },
  {
   "cell_type": "code",
   "execution_count": null,
   "metadata": {},
   "outputs": [],
   "source": [
    "\n",
    "smpl_test_data = X_test_dataX_test\n",
    "y_smpl_test_data = smpl_test_data[\"Severity\"]\n",
    "X_smpl_test_data = smpl_test_data.drop(\"Severity\", axis=1)\n",
    "\n",
    "y_pred_ran_for = rand_Forest.predict(X_smpl_test_data)\n",
    "\n",
    "print(classification_report(y_smpl_test_data, y_pred_ran_for))\n",
    "\n",
    "con_mat = confusion_matrix(y_true=y_smpl_test_data, y_pred=y_pred_ran_for)\n",
    "\n",
    "print(con_mat)\n"
   ]
  }
 ],
 "metadata": {
  "kernelspec": {
   "display_name": "Python 3",
   "language": "python",
   "name": "python3"
  },
  "language_info": {
   "codemirror_mode": {
    "name": "ipython",
    "version": 3
   },
   "file_extension": ".py",
   "mimetype": "text/x-python",
   "name": "python",
   "nbconvert_exporter": "python",
   "pygments_lexer": "ipython3",
   "version": "3.7.6"
  }
 },
 "nbformat": 4,
 "nbformat_minor": 4
}
